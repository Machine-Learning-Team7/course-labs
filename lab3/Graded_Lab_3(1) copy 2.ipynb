{
 "cells": [
  {
   "cell_type": "markdown",
   "metadata": {},
   "source": [
    "## COMP2006: Graded Lab 3\n",
    "\n",
    "In this lab, you will gain some experience in converting non-numeric features in a dataset to numeric so they can be used in a machine learning model.\n",
    "\n",
    "**Target**: to predict `Comb Unadj FE - Conventional Fuel`"
   ]
  },
  {
   "cell_type": "markdown",
   "metadata": {},
   "source": [
    "**Data set**: make sure you use the data assigned to your group!\n",
    "\n",
    "| Groups | Data set |\n",
    "| :-: | :-: |\n",
    "| 1 | veh1.csv |\n",
    "| 2 | veh2.csv |\n",
    "| 3 | veh3.csv |\n",
    "| 4 | veh4.csv |\n",
    "| 5 | veh5.csv |\n",
    "| 6 | veh6.csv |\n",
    "| 7 | veh7.csv |\n",
    "| 8 | veh8.csv |\n",
    "| 10 | veh10.csv |\n",
    "\n",
    "**Important Notes:**\n",
    "- Use [Chapter 6](https://mlbook.explained.ai/catvars.html) of the textbook as a **guide**:\n",
    "     - you only need to use **random forest** models;\n",
    "- Use the **out-of-bag score** to evaluate models\n",
    "     - Read Section 5.2 carefully so that you use this method properly\n",
    "     - The oob score that you provide should be the average of 10 runs\n",
    "- Code submitted for this lab should be:\n",
    "     - error free\n",
    "         - to make sure this is the case, before submitting, close all Jupyter notebooks, exit Anaconda, reload the lab notebook and execute all cells\n",
    "     - final code\n",
    "         - this means that I don't want to see every piece of code you try as you work through this lab but only the final code; only the code that fulfills the objective\n",
    "\n",
    "> **Don't make assumptions!**\n"
   ]
  },
  {
   "cell_type": "markdown",
   "metadata": {},
   "source": [
    "### Part 0\n",
    "\n",
    "\n",
    "### Group Number 7\n",
    " - Manuel Bishop Noriega - ID 4362207\n",
    " - Robert E. Matney III - ID: 4364229\n",
    "\n",
    "     "
   ]
  },
  {
   "cell_type": "markdown",
   "metadata": {},
   "source": [
    "### Part 1 - Create and evaluate an initial model\n",
    "\n",
    "In this part you should: \n",
    " - read in the data\n",
    " - isolate all numeric features from original data set\n",
    " - verify there are no missing values\n",
    " - create and evaluate a baseline model \n",
    "\n",
    "#### Code (15 marks)"
   ]
  },
  {
   "cell_type": "code",
   "execution_count": 1,
   "metadata": {},
   "outputs": [],
   "source": [
    "import pandas as pd\n",
    "from rfpimp import *\n",
    "# reading data\n",
    "# while working on this step, to analyze and understand the data\n",
    "# we used functions such as info, describe, head().T among others.\n",
    "df = pd.read_csv(\"veh7.csv\")"
   ]
  },
  {
   "cell_type": "code",
   "execution_count": 2,
   "metadata": {},
   "outputs": [],
   "source": [
    "# isolating numeric data to create our baseline\n",
    "df=df.select_dtypes(include=['number'])\n",
    "# verifying there's no missing values\n",
    "df.isnull().any()\n",
    "# splitting features/target datasets\n",
    "X= df.drop('Comb Unadj FE - Conventional Fuel', axis=1)\n",
    "nFeatures=[col for col in X.columns.tolist()]\n",
    "y= df['Comb Unadj FE - Conventional Fuel']"
   ]
  },
  {
   "cell_type": "code",
   "execution_count": 3,
   "metadata": {},
   "outputs": [],
   "source": [
    "# ---------------------- FUNCTIONS ------------------------\n",
    "# to prevent repeating code we'll create an evaluation function called evalute\n",
    "# it will take features and target as parameters and use them to\n",
    "# create and fit a random forest regressor model and calculate it's oob performance\n",
    "# it returns a tuple with rf model and its oob average from 10 runs\n",
    "def evaluate(X,y):\n",
    "    from sklearn.ensemble import RandomForestRegressor\n",
    "\n",
    "    oob_scores = []\n",
    "    for i in range(10):\n",
    "        rf = RandomForestRegressor(n_estimators=100, n_jobs=-1, oob_score=True)\n",
    "        rf.fit(X, y)\n",
    "        oob_scores.append(rf.oob_score_)\n",
    "    oob=sum(oob_scores) / len(oob_scores)\n",
    "    print(f'Mean OOB score: {oob}')\n",
    "    print(f'{rfnnodes(rf):,d} tree nodes and {np.median(rfmaxdepths(rf))} median tree height')\n",
    "\n",
    "    return rf, oob\n",
    "# showimp() show features importances, it accepts up to 4 params\n",
    "# rf: a randomforest regressor\n",
    "# X,y are the features and target\n",
    "# features, I added this to perform different tests while converting non-numeric features\n",
    "# plots the features' importances graphic\n",
    "def showimp(rf,X,y,features):\n",
    "    I=importances(rf,X,y, features=features)\n",
    "    plot_importances(I,color='blue')\n",
    "\n",
    "def drop_importances(X,y):\n",
    "    rf=RandomForestRegressor(n_estimators=100, n_jobs=1, oob_score=True, random_state=999)\n",
    "    rf.fit(X,y)\n",
    "    r2=rf.oob_score_\n",
    "    print(f'Baseline R^2 with no columns dropped: {r2:.5f}\\n')\n",
    "    for col in X.columns:\n",
    "        X_col=X.copy()\n",
    "        X_col=X_col.drop(col,axis=1)\n",
    "        rf.fit(X_col,y)\n",
    "        r2_col=rf.oob_score_\n",
    "        print(f'Dropping column {col}: new R^2 is {r2_col:.5f} and difference from baseline is {r2 - r2_col}')"
   ]
  },
  {
   "cell_type": "code",
   "execution_count": 4,
   "metadata": {},
   "outputs": [
    {
     "name": "stdout",
     "output_type": "stream",
     "text": [
      "Mean OOB score: 0.8027964908783737\n",
      "28,472 tree nodes and 14.0 median tree height\n"
     ]
    },
    {
     "data": {
      "text/plain": [
       "Index(['Eng Displ', '# Cyl', 'Comb Unadj FE - Conventional Fuel', '# Gears',\n",
       "       'Max Ethanol % - Gasoline', 'Intake Valves Per Cyl',\n",
       "       'Exhaust Valves Per Cyl'],\n",
       "      dtype='object')"
      ]
     },
     "execution_count": 4,
     "metadata": {},
     "output_type": "execute_result"
    },
    {
     "data": {
      "image/png": "[encoded data removed]",
      "text/plain": [
       "<Figure size 400x150 with 1 Axes>"
      ]
     },
     "metadata": {},
     "output_type": "display_data"
    }
   ],
   "source": [
    "#call our evaluate and showimp functions for our BASELINE MODEL\n",
    "baseline_model,oob1=evaluate(X,y)\n",
    "showimp(baseline_model,X,y,X.columns)\n",
    "df.columns"
   ]
  },
  {
   "cell_type": "markdown",
   "metadata": {},
   "source": [
    "#### Question (5 marks)\n",
    "\n",
    "Explain the purpose of creating a baseline model. "
   ]
  },
  {
   "cell_type": "markdown",
   "metadata": {},
   "source": [
    "**Enter your answer here:**\n",
    "Purpose of baseline model is to have point of comparison so we can evaluate if our feature engineering improves model's predictive ability. In baseline model we use only numeric features. In this case we built it with cleaned data, that means, after trying to make sure that there are no missing values or other inconsistencies.\n",
    "\n",
    "We tested dropping some fields like Intake and Exhaust Valves but not appreciable difference was detected."
   ]
  },
  {
   "cell_type": "markdown",
   "metadata": {},
   "source": [
    "### Part 2 - Convert non-numeric features to numeric\n",
    "\n",
    "In this part you should: \n",
    " - convert **all** non-numeric features to numeric\n",
    " - one of the conversions should use **one-hot encoding**\n",
    " - create **one new feature** by combining 2 or more of the existing features\n",
    " \n",
    "#### Code (25 marks)"
   ]
  },
  {
   "cell_type": "code",
   "execution_count": 5,
   "metadata": {},
   "outputs": [
    {
     "name": "stdout",
     "output_type": "stream",
     "text": [
      "Warning: No categorical columns found. Calling 'transform' will only return input data.\n"
     ]
    },
    {
     "ename": "KeyError",
     "evalue": "'Stop/Start System (Engine Management System)  Description'",
     "output_type": "error",
     "traceback": [
      "\u001b[1;31m---------------------------------------------------------------------------\u001b[0m",
      "\u001b[1;31mKeyError\u001b[0m                                  Traceback (most recent call last)",
      "File \u001b[1;32mc:\\Users\\manolo\\OneDrive - St. Lawrence College\\Documents\\slc\\winter2024\\comp2006_python\\course-labs\\.venv\\Lib\\site-packages\\pandas\\core\\indexes\\base.py:3805\u001b[0m, in \u001b[0;36mIndex.get_loc\u001b[1;34m(self, key)\u001b[0m\n\u001b[0;32m   3804\u001b[0m \u001b[38;5;28;01mtry\u001b[39;00m:\n\u001b[1;32m-> 3805\u001b[0m     \u001b[38;5;28;01mreturn\u001b[39;00m \u001b[38;5;28;43mself\u001b[39;49m\u001b[38;5;241;43m.\u001b[39;49m\u001b[43m_engine\u001b[49m\u001b[38;5;241;43m.\u001b[39;49m\u001b[43mget_loc\u001b[49m\u001b[43m(\u001b[49m\u001b[43mcasted_key\u001b[49m\u001b[43m)\u001b[49m\n\u001b[0;32m   3806\u001b[0m \u001b[38;5;28;01mexcept\u001b[39;00m \u001b[38;5;167;01mKeyError\u001b[39;00m \u001b[38;5;28;01mas\u001b[39;00m err:\n",
      "File \u001b[1;32mindex.pyx:167\u001b[0m, in \u001b[0;36mpandas._libs.index.IndexEngine.get_loc\u001b[1;34m()\u001b[0m\n",
      "File \u001b[1;32mindex.pyx:196\u001b[0m, in \u001b[0;36mpandas._libs.index.IndexEngine.get_loc\u001b[1;34m()\u001b[0m\n",
      "File \u001b[1;32mpandas\\\\_libs\\\\hashtable_class_helper.pxi:7081\u001b[0m, in \u001b[0;36mpandas._libs.hashtable.PyObjectHashTable.get_item\u001b[1;34m()\u001b[0m\n",
      "File \u001b[1;32mpandas\\\\_libs\\\\hashtable_class_helper.pxi:7089\u001b[0m, in \u001b[0;36mpandas._libs.hashtable.PyObjectHashTable.get_item\u001b[1;34m()\u001b[0m\n",
      "\u001b[1;31mKeyError\u001b[0m: 'Stop/Start System (Engine Management System)  Description'",
      "\nThe above exception was the direct cause of the following exception:\n",
      "\u001b[1;31mKeyError\u001b[0m                                  Traceback (most recent call last)",
      "Cell \u001b[1;32mIn[5], line 10\u001b[0m\n\u001b[0;32m      5\u001b[0m \u001b[38;5;66;03m# given that most features belong to clearly defined categories (yes, no) it's possible to map them\u001b[39;00m\n\u001b[0;32m      6\u001b[0m encoder \u001b[38;5;241m=\u001b[39m ce\u001b[38;5;241m.\u001b[39mOrdinalEncoder(mapping\u001b[38;5;241m=\u001b[39m[{\u001b[38;5;124m'\u001b[39m\u001b[38;5;124mcol\u001b[39m\u001b[38;5;124m'\u001b[39m:\u001b[38;5;124m'\u001b[39m\u001b[38;5;124mStop/Start System (Engine Management System)  Description\u001b[39m\u001b[38;5;124m'\u001b[39m, \u001b[38;5;124m'\u001b[39m\u001b[38;5;124mmapping\u001b[39m\u001b[38;5;124m'\u001b[39m: {\u001b[38;5;124m'\u001b[39m\u001b[38;5;124mNo\u001b[39m\u001b[38;5;124m'\u001b[39m:\u001b[38;5;241m0\u001b[39m, \u001b[38;5;124m'\u001b[39m\u001b[38;5;124mYes\u001b[39m\u001b[38;5;124m'\u001b[39m:\u001b[38;5;241m1\u001b[39m}},\n\u001b[0;32m      7\u001b[0m                                      {\u001b[38;5;124m'\u001b[39m\u001b[38;5;124mcol\u001b[39m\u001b[38;5;124m'\u001b[39m:\u001b[38;5;124m'\u001b[39m\u001b[38;5;124mLockup Torque Converter\u001b[39m\u001b[38;5;124m'\u001b[39m, \u001b[38;5;124m'\u001b[39m\u001b[38;5;124mmapping\u001b[39m\u001b[38;5;124m'\u001b[39m: {\u001b[38;5;124m'\u001b[39m\u001b[38;5;124mN\u001b[39m\u001b[38;5;124m'\u001b[39m:\u001b[38;5;241m0\u001b[39m, \u001b[38;5;124m'\u001b[39m\u001b[38;5;124mY\u001b[39m\u001b[38;5;124m'\u001b[39m:\u001b[38;5;241m1\u001b[39m}},\n\u001b[0;32m      8\u001b[0m                                      {\u001b[38;5;124m'\u001b[39m\u001b[38;5;124mcol\u001b[39m\u001b[38;5;124m'\u001b[39m:\u001b[38;5;124m'\u001b[39m\u001b[38;5;124mCyl Deact?\u001b[39m\u001b[38;5;124m'\u001b[39m, \u001b[38;5;124m'\u001b[39m\u001b[38;5;124mmapping\u001b[39m\u001b[38;5;124m'\u001b[39m: {\u001b[38;5;124m'\u001b[39m\u001b[38;5;124mN\u001b[39m\u001b[38;5;124m'\u001b[39m:\u001b[38;5;241m0\u001b[39m, \u001b[38;5;124m'\u001b[39m\u001b[38;5;124mY\u001b[39m\u001b[38;5;124m'\u001b[39m:\u001b[38;5;241m1\u001b[39m}},\n\u001b[0;32m      9\u001b[0m                                      {\u001b[38;5;124m'\u001b[39m\u001b[38;5;124mcol\u001b[39m\u001b[38;5;124m'\u001b[39m:\u001b[38;5;124m'\u001b[39m\u001b[38;5;124mTrans Creeper Gear\u001b[39m\u001b[38;5;124m'\u001b[39m, \u001b[38;5;124m'\u001b[39m\u001b[38;5;124mmapping\u001b[39m\u001b[38;5;124m'\u001b[39m: {\u001b[38;5;124m'\u001b[39m\u001b[38;5;124mN\u001b[39m\u001b[38;5;124m'\u001b[39m:\u001b[38;5;241m0\u001b[39m, \u001b[38;5;124m'\u001b[39m\u001b[38;5;124mY\u001b[39m\u001b[38;5;124m'\u001b[39m:\u001b[38;5;241m1\u001b[39m}}])\n\u001b[1;32m---> 10\u001b[0m \u001b[43mencoder\u001b[49m\u001b[38;5;241;43m.\u001b[39;49m\u001b[43mfit\u001b[49m\u001b[43m(\u001b[49m\u001b[43mdf\u001b[49m\u001b[43m)\u001b[49m\n\u001b[0;32m     11\u001b[0m df\u001b[38;5;241m=\u001b[39mencoder\u001b[38;5;241m.\u001b[39mtransform(df)\n\u001b[0;32m     12\u001b[0m \u001b[38;5;66;03m# one-hot encoding\u001b[39;00m\n",
      "File \u001b[1;32mc:\\Users\\manolo\\OneDrive - St. Lawrence College\\Documents\\slc\\winter2024\\comp2006_python\\course-labs\\.venv\\Lib\\site-packages\\category_encoders\\utils.py:312\u001b[0m, in \u001b[0;36mBaseEncoder.fit\u001b[1;34m(self, X, y, **kwargs)\u001b[0m\n\u001b[0;32m    309\u001b[0m     \u001b[38;5;28;01mif\u001b[39;00m X[\u001b[38;5;28mself\u001b[39m\u001b[38;5;241m.\u001b[39mcols]\u001b[38;5;241m.\u001b[39misna()\u001b[38;5;241m.\u001b[39many()\u001b[38;5;241m.\u001b[39many():\n\u001b[0;32m    310\u001b[0m         \u001b[38;5;28;01mraise\u001b[39;00m \u001b[38;5;167;01mValueError\u001b[39;00m(\u001b[38;5;124m'\u001b[39m\u001b[38;5;124mColumns to be encoded can not contain null\u001b[39m\u001b[38;5;124m'\u001b[39m)\n\u001b[1;32m--> 312\u001b[0m \u001b[38;5;28;43mself\u001b[39;49m\u001b[38;5;241;43m.\u001b[39;49m\u001b[43m_fit\u001b[49m\u001b[43m(\u001b[49m\u001b[43mX\u001b[49m\u001b[43m,\u001b[49m\u001b[43m \u001b[49m\u001b[43my\u001b[49m\u001b[43m,\u001b[49m\u001b[43m \u001b[49m\u001b[38;5;241;43m*\u001b[39;49m\u001b[38;5;241;43m*\u001b[39;49m\u001b[43mkwargs\u001b[49m\u001b[43m)\u001b[49m\n\u001b[0;32m    314\u001b[0m \u001b[38;5;66;03m# for finding invariant columns transform without y (as is done on the test set)\u001b[39;00m\n\u001b[0;32m    315\u001b[0m X_transformed \u001b[38;5;241m=\u001b[39m \u001b[38;5;28mself\u001b[39m\u001b[38;5;241m.\u001b[39mtransform(X, override_return_df\u001b[38;5;241m=\u001b[39m\u001b[38;5;28;01mTrue\u001b[39;00m)\n",
      "File \u001b[1;32mc:\\Users\\manolo\\OneDrive - St. Lawrence College\\Documents\\slc\\winter2024\\comp2006_python\\course-labs\\.venv\\Lib\\site-packages\\category_encoders\\ordinal.py:102\u001b[0m, in \u001b[0;36mOrdinalEncoder._fit\u001b[1;34m(self, X, y, **kwargs)\u001b[0m\n\u001b[0;32m    100\u001b[0m \u001b[38;5;28;01mif\u001b[39;00m \u001b[38;5;129;01mnot\u001b[39;00m \u001b[38;5;28mself\u001b[39m\u001b[38;5;241m.\u001b[39mmapping_supplied:\n\u001b[0;32m    101\u001b[0m     \u001b[38;5;28mself\u001b[39m\u001b[38;5;241m.\u001b[39mmapping \u001b[38;5;241m=\u001b[39m \u001b[38;5;28;01mNone\u001b[39;00m\n\u001b[1;32m--> 102\u001b[0m _, categories \u001b[38;5;241m=\u001b[39m \u001b[38;5;28;43mself\u001b[39;49m\u001b[38;5;241;43m.\u001b[39;49m\u001b[43mordinal_encoding\u001b[49m\u001b[43m(\u001b[49m\n\u001b[0;32m    103\u001b[0m \u001b[43m    \u001b[49m\u001b[43mX\u001b[49m\u001b[43m,\u001b[49m\n\u001b[0;32m    104\u001b[0m \u001b[43m    \u001b[49m\u001b[43mmapping\u001b[49m\u001b[38;5;241;43m=\u001b[39;49m\u001b[38;5;28;43mself\u001b[39;49m\u001b[38;5;241;43m.\u001b[39;49m\u001b[43mmapping\u001b[49m\u001b[43m,\u001b[49m\n\u001b[0;32m    105\u001b[0m \u001b[43m    \u001b[49m\u001b[43mcols\u001b[49m\u001b[38;5;241;43m=\u001b[39;49m\u001b[38;5;28;43mself\u001b[39;49m\u001b[38;5;241;43m.\u001b[39;49m\u001b[43mcols\u001b[49m\u001b[43m,\u001b[49m\n\u001b[0;32m    106\u001b[0m \u001b[43m    \u001b[49m\u001b[43mhandle_unknown\u001b[49m\u001b[38;5;241;43m=\u001b[39;49m\u001b[38;5;28;43mself\u001b[39;49m\u001b[38;5;241;43m.\u001b[39;49m\u001b[43mhandle_unknown\u001b[49m\u001b[43m,\u001b[49m\n\u001b[0;32m    107\u001b[0m \u001b[43m    \u001b[49m\u001b[43mhandle_missing\u001b[49m\u001b[38;5;241;43m=\u001b[39;49m\u001b[38;5;28;43mself\u001b[39;49m\u001b[38;5;241;43m.\u001b[39;49m\u001b[43mhandle_missing\u001b[49m\n\u001b[0;32m    108\u001b[0m \u001b[43m\u001b[49m\u001b[43m)\u001b[49m\n\u001b[0;32m    109\u001b[0m \u001b[38;5;28mself\u001b[39m\u001b[38;5;241m.\u001b[39mmapping \u001b[38;5;241m=\u001b[39m categories\n",
      "File \u001b[1;32mc:\\Users\\manolo\\OneDrive - St. Lawrence College\\Documents\\slc\\winter2024\\comp2006_python\\course-labs\\.venv\\Lib\\site-packages\\category_encoders\\ordinal.py:198\u001b[0m, in \u001b[0;36mOrdinalEncoder.ordinal_encoding\u001b[1;34m(X_in, mapping, cols, handle_unknown, handle_missing)\u001b[0m\n\u001b[0;32m    194\u001b[0m col_mapping \u001b[38;5;241m=\u001b[39m switch[\u001b[38;5;124m'\u001b[39m\u001b[38;5;124mmapping\u001b[39m\u001b[38;5;124m'\u001b[39m]\n\u001b[0;32m    196\u001b[0m \u001b[38;5;66;03m# Convert to object to accept np.nan (dtype string doesn't)\u001b[39;00m\n\u001b[0;32m    197\u001b[0m \u001b[38;5;66;03m# fillna changes None and pd.NA to np.nan\u001b[39;00m\n\u001b[1;32m--> 198\u001b[0m X[column] \u001b[38;5;241m=\u001b[39m \u001b[43mX\u001b[49m\u001b[43m[\u001b[49m\u001b[43mcolumn\u001b[49m\u001b[43m]\u001b[49m\u001b[38;5;241m.\u001b[39mastype(\u001b[38;5;124m\"\u001b[39m\u001b[38;5;124mobject\u001b[39m\u001b[38;5;124m\"\u001b[39m)\u001b[38;5;241m.\u001b[39mfillna(np\u001b[38;5;241m.\u001b[39mnan)\u001b[38;5;241m.\u001b[39mmap(col_mapping)\n\u001b[0;32m    199\u001b[0m \u001b[38;5;28;01mif\u001b[39;00m util\u001b[38;5;241m.\u001b[39mis_category(X[column]\u001b[38;5;241m.\u001b[39mdtype):\n\u001b[0;32m    200\u001b[0m     nan_identity \u001b[38;5;241m=\u001b[39m col_mapping\u001b[38;5;241m.\u001b[39mloc[col_mapping\u001b[38;5;241m.\u001b[39mindex\u001b[38;5;241m.\u001b[39misna()]\u001b[38;5;241m.\u001b[39marray[\u001b[38;5;241m0\u001b[39m]\n",
      "File \u001b[1;32mc:\\Users\\manolo\\OneDrive - St. Lawrence College\\Documents\\slc\\winter2024\\comp2006_python\\course-labs\\.venv\\Lib\\site-packages\\pandas\\core\\frame.py:4090\u001b[0m, in \u001b[0;36mDataFrame.__getitem__\u001b[1;34m(self, key)\u001b[0m\n\u001b[0;32m   4088\u001b[0m \u001b[38;5;28;01mif\u001b[39;00m \u001b[38;5;28mself\u001b[39m\u001b[38;5;241m.\u001b[39mcolumns\u001b[38;5;241m.\u001b[39mnlevels \u001b[38;5;241m>\u001b[39m \u001b[38;5;241m1\u001b[39m:\n\u001b[0;32m   4089\u001b[0m     \u001b[38;5;28;01mreturn\u001b[39;00m \u001b[38;5;28mself\u001b[39m\u001b[38;5;241m.\u001b[39m_getitem_multilevel(key)\n\u001b[1;32m-> 4090\u001b[0m indexer \u001b[38;5;241m=\u001b[39m \u001b[38;5;28;43mself\u001b[39;49m\u001b[38;5;241;43m.\u001b[39;49m\u001b[43mcolumns\u001b[49m\u001b[38;5;241;43m.\u001b[39;49m\u001b[43mget_loc\u001b[49m\u001b[43m(\u001b[49m\u001b[43mkey\u001b[49m\u001b[43m)\u001b[49m\n\u001b[0;32m   4091\u001b[0m \u001b[38;5;28;01mif\u001b[39;00m is_integer(indexer):\n\u001b[0;32m   4092\u001b[0m     indexer \u001b[38;5;241m=\u001b[39m [indexer]\n",
      "File \u001b[1;32mc:\\Users\\manolo\\OneDrive - St. Lawrence College\\Documents\\slc\\winter2024\\comp2006_python\\course-labs\\.venv\\Lib\\site-packages\\pandas\\core\\indexes\\base.py:3812\u001b[0m, in \u001b[0;36mIndex.get_loc\u001b[1;34m(self, key)\u001b[0m\n\u001b[0;32m   3807\u001b[0m     \u001b[38;5;28;01mif\u001b[39;00m \u001b[38;5;28misinstance\u001b[39m(casted_key, \u001b[38;5;28mslice\u001b[39m) \u001b[38;5;129;01mor\u001b[39;00m (\n\u001b[0;32m   3808\u001b[0m         \u001b[38;5;28misinstance\u001b[39m(casted_key, abc\u001b[38;5;241m.\u001b[39mIterable)\n\u001b[0;32m   3809\u001b[0m         \u001b[38;5;129;01mand\u001b[39;00m \u001b[38;5;28many\u001b[39m(\u001b[38;5;28misinstance\u001b[39m(x, \u001b[38;5;28mslice\u001b[39m) \u001b[38;5;28;01mfor\u001b[39;00m x \u001b[38;5;129;01min\u001b[39;00m casted_key)\n\u001b[0;32m   3810\u001b[0m     ):\n\u001b[0;32m   3811\u001b[0m         \u001b[38;5;28;01mraise\u001b[39;00m InvalidIndexError(key)\n\u001b[1;32m-> 3812\u001b[0m     \u001b[38;5;28;01mraise\u001b[39;00m \u001b[38;5;167;01mKeyError\u001b[39;00m(key) \u001b[38;5;28;01mfrom\u001b[39;00m \u001b[38;5;21;01merr\u001b[39;00m\n\u001b[0;32m   3813\u001b[0m \u001b[38;5;28;01mexcept\u001b[39;00m \u001b[38;5;167;01mTypeError\u001b[39;00m:\n\u001b[0;32m   3814\u001b[0m     \u001b[38;5;66;03m# If we have a listlike key, _check_indexing_error will raise\u001b[39;00m\n\u001b[0;32m   3815\u001b[0m     \u001b[38;5;66;03m#  InvalidIndexError. Otherwise we fall through and re-raise\u001b[39;00m\n\u001b[0;32m   3816\u001b[0m     \u001b[38;5;66;03m#  the TypeError.\u001b[39;00m\n\u001b[0;32m   3817\u001b[0m     \u001b[38;5;28mself\u001b[39m\u001b[38;5;241m.\u001b[39m_check_indexing_error(key)\n",
      "\u001b[1;31mKeyError\u001b[0m: 'Stop/Start System (Engine Management System)  Description'"
     ]
    }
   ],
   "source": [
    "nanFeatures=[col for col in df.columns.tolist() if col not in nFeatures +['Comb Unadj FE - Conventional Fuel']]\n",
    "df=df[nFeatures + nanFeatures]\n",
    "# ------------------------------------------ converting all non-numeric features to numeric ---------------------------------------------\n",
    "import category_encoders as ce\n",
    "# given that most features belong to clearly defined categories (yes, no) it's possible to map them\n",
    "encoder = ce.OrdinalEncoder(mapping=[{'col':'Stop/Start System (Engine Management System)  Description', 'mapping': {'No':0, 'Yes':1}},\n",
    "                                     {'col':'Lockup Torque Converter', 'mapping': {'N':0, 'Y':1}},\n",
    "                                     {'col':'Cyl Deact?', 'mapping': {'N':0, 'Y':1}},\n",
    "                                     {'col':'Trans Creeper Gear', 'mapping': {'N':0, 'Y':1}}])\n",
    "encoder.fit(df)\n",
    "df=encoder.transform(df)\n",
    "# one-hot encoding\n",
    "encoder=ce.OneHotEncoder(cols=['Calc Approach Desc'])\n",
    "encoder.fit(df)\n",
    "df=encoder.transform(df)\n",
    "# creating a new feature by combining 2 or more features\n",
    "# caca=df.groupby('# Cyl')['Comb Unadj FE - Conventional Fuel'].mean()\n",
    "# caca=df.groupby('cyl_to_consump').mean('Comb Unadj FE - Conventional Fuel')\n",
    "# caca.shape\n",
    "\n",
    "encoder=ce.TargetEncoder(cols=['# Cyl'])\n",
    "encoder.fit(Xef['#Cyl'], y)\n",
    "df['cyl_to_consump']=encoder.transform(Xef['#Cyl'], y)\n",
    "# Xef.reset_index()\n",
    "# targetfeatures=['cyls_to_consump']\n",
    "# encoder=ce.TargetEncoder(cols=targetfeatures)\n",
    "# encoder.fit(Xef,y)\n",
    "# Xef=encoder.transform(Xef,y)\n",
    "# Xef\n",
    "\n",
    "# Xef['cyls_to_consump']=Xef['# Cyl']/y\n"
   ]
  },
  {
   "cell_type": "markdown",
   "metadata": {},
   "source": [
    "#### Explanation (25 marks)\n",
    "\n",
    "Please provide an explanation for each conversion from non-numeric to numeric and state why this conversion is appropriate. Please also provide an explanation of the new feature created.  "
   ]
  },
  {
   "cell_type": "markdown",
   "metadata": {},
   "source": [
    "### EXPLANATION\n",
    "\n",
    "- For all non-numeric original features except \"Calc Approach Desc\", we decided to encode them as ordinal because we have only 2 categories for them yes/no so we map yes=1 no=0.\n",
    "- with \"Calc Approach Desc\" we can consider it to be a Nominal feature given that there's no apparent way to order them, nevertheless because there's only 3 unique values we decided to treat them as ordinal too and used labeling encoding. At the end because it was a requirement we decided to use ONE-HOT Encoding with this one but to be honest, it seems to us that our first approach with mapping produced slightly better results. We also teste frequency encoding but we didn't find any significative difference.\n",
    "- To comply with last requirement of creating a new feature by combining 2 or more existing features. we tried s"
   ]
  },
  {
   "cell_type": "markdown",
   "metadata": {},
   "source": [
    "**Enter your explanation here:**"
   ]
  },
  {
   "cell_type": "markdown",
   "metadata": {},
   "source": [
    "### Part 3 - Create and evaluate a final model\n",
    "\n",
    "In this part you should:\n",
    " - create and evaluate a model using all the features from Parts 1 and 2 above \n",
    "\n",
    "#### Code (15 marks)"
   ]
  },
  {
   "cell_type": "code",
   "execution_count": null,
   "metadata": {},
   "outputs": [],
   "source": [
    "ef_model,oob2=evaluate(Xef,y)\n",
    "showimp(ef_model,Xef,y,Xef.columns)\n",
    "drop_importances(Xef,y)"
   ]
  },
  {
   "cell_type": "code",
   "execution_count": null,
   "metadata": {},
   "outputs": [],
   "source": [
    "X2=Xef.drop(['Calc Approach Desc_2','Cyl Deact?'],axis=1)\n",
    "ef_model2,oob3=evaluate(X2,y)\n",
    "showimp(ef_model2,X2,y,X2.columns)"
   ]
  },
  {
   "cell_type": "markdown",
   "metadata": {},
   "source": [
    "### Part 4 - Feature importances and comparison (10 marks)\n",
    "\n",
    "In this part you should:\n",
    " - calculate the percent difference between the results of Part 1 and Part 3 (make sure you are using the correct formula for percent difference) \n",
    " - based on the percent difference, state whether or not the results of Part 3 are an improvement over the results of Part 1\n",
    " - use the `rfpimp_MC` package to calculate and display the feature importances for all features"
   ]
  },
  {
   "cell_type": "code",
   "execution_count": null,
   "metadata": {},
   "outputs": [],
   "source": []
  },
  {
   "cell_type": "markdown",
   "metadata": {},
   "source": [
    "#### Question (5 marks)\n",
    "\n",
    "Based on the feature importances, are any features that you think should be removed from the data set.  Why do you think these features should be removed? "
   ]
  },
  {
   "cell_type": "markdown",
   "metadata": {},
   "source": [
    "**Enter your answer here:**"
   ]
  }
 ],
 "metadata": {
  "kernelspec": {
   "display_name": "Python 3 (ipykernel)",
   "language": "python",
   "name": "python3"
  },
  "language_info": {
   "codemirror_mode": {
    "name": "ipython",
    "version": 3
   },
   "file_extension": ".py",
   "mimetype": "text/x-python",
   "name": "python",
   "nbconvert_exporter": "python",
   "pygments_lexer": "ipython3",
   "version": "3.12.2"
  }
 },
 "nbformat": 4,
 "nbformat_minor": 4
}
