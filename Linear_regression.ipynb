{
 "cells": [
  {
   "cell_type": "markdown",
   "metadata": {},
   "source": [
    "# Linear regression"
   ]
  },
  {
   "cell_type": "markdown",
   "metadata": {},
   "source": [
    "## Linear regression with one feature"
   ]
  },
  {
   "cell_type": "markdown",
   "metadata": {},
   "source": [
    "$$\n",
    "\\hat{y} = w_0 + w_1x_1\n",
    "$$"
   ]
  },
  {
   "cell_type": "code",
   "execution_count": null,
   "metadata": {},
   "outputs": [],
   "source": [
    "import matplotlib.pyplot as plt\n",
    "import pandas as pd\n",
    "import numpy as np"
   ]
  },
  {
   "cell_type": "markdown",
   "metadata": {},
   "source": [
    "### Load the data\n",
    "\n",
    "Use Pandas to import the *grades.csv* file. This data represents student scores as a function of the number of hours of studying. For our model, we will want to predict the **scores**.  \n",
    "\n",
    "Take a look at the data and use `.shape` to get the number of rows and columns. "
   ]
  },
  {
   "cell_type": "code",
   "execution_count": null,
   "metadata": {},
   "outputs": [],
   "source": [
    "grades = pd.read_csv(\"grades.csv\")"
   ]
  },
  {
   "cell_type": "code",
   "execution_count": null,
   "metadata": {},
   "outputs": [],
   "source": [
    "grades.head()"
   ]
  },
  {
   "cell_type": "code",
   "execution_count": null,
   "metadata": {},
   "outputs": [],
   "source": [
    "grades.shape"
   ]
  },
  {
   "cell_type": "markdown",
   "metadata": {},
   "source": [
    "### Plot the data\n",
    "\n",
    "Create a scatter plot with hours studied on the x axis and scores on the y axis. "
   ]
  },
  {
   "cell_type": "code",
   "execution_count": null,
   "metadata": {},
   "outputs": [],
   "source": [
    "plt.scatter(grades['Hours'], grades['Scores'])\n",
    "plt.title(\"Hours vs Scores\", size=20)\n",
    "plt.xlabel(\"Hours Studied\", size = 15)\n",
    "plt.ylabel(\"Score Achieved (%)\", size=15)\n",
    "plt.ylim(0, 100)\n",
    "plt.show()"
   ]
  },
  {
   "cell_type": "markdown",
   "metadata": {},
   "source": [
    "### Create target and feature arrays\n",
    "\n",
    "Our dataframe currently has both the target and the feature arrays. Create two NumPy arrays, one for the feature and one for the target.  "
   ]
  },
  {
   "cell_type": "code",
   "execution_count": null,
   "metadata": {},
   "outputs": [],
   "source": [
    "X = grades.drop('Scores', axis=1)\n",
    "X.head()"
   ]
  },
  {
   "cell_type": "code",
   "execution_count": null,
   "metadata": {},
   "outputs": [],
   "source": [
    "y = grades['Scores']\n",
    "y.head()"
   ]
  },
  {
   "cell_type": "markdown",
   "metadata": {},
   "source": [
    "### Split the data\n",
    "\n",
    "Split the data into a train and test set. (Remember to set the `random_state` parameter.)"
   ]
  },
  {
   "cell_type": "code",
   "execution_count": null,
   "metadata": {},
   "outputs": [],
   "source": [
    "from sklearn.model_selection import train_test_split\n",
    "\n",
    "X_train, X_test, y_train, y_test = train_test_split(X, y, random_state=113)"
   ]
  },
  {
   "cell_type": "markdown",
   "metadata": {},
   "source": [
    "### Build a linear regression model\n",
    "\n",
    "Use the `LinearRegression` class from sklearn's `linear_model` module to create a linear regression model."
   ]
  },
  {
   "cell_type": "code",
   "execution_count": null,
   "metadata": {},
   "outputs": [],
   "source": [
    "from sklearn.linear_model import LinearRegression\n",
    "\n",
    "lr = LinearRegression()\n",
    "lr.fit(X_train, y_train)"
   ]
  },
  {
   "cell_type": "markdown",
   "metadata": {},
   "source": [
    "### Model parameters\n",
    "\n",
    "Use the `.intercept_` and the `.coef_` methods to access the parameters that define our linear model. "
   ]
  },
  {
   "cell_type": "code",
   "execution_count": null,
   "metadata": {},
   "outputs": [],
   "source": [
    "lr.intercept_"
   ]
  },
  {
   "cell_type": "code",
   "execution_count": null,
   "metadata": {},
   "outputs": [],
   "source": [
    "lr.coef_"
   ]
  },
  {
   "cell_type": "markdown",
   "metadata": {},
   "source": [
    "### Make predictions\n",
    "\n",
    "Now use the model to make predictions for the test set. "
   ]
  },
  {
   "cell_type": "code",
   "execution_count": 42,
   "metadata": {},
   "outputs": [
    {
     "data": {
      "text/plain": [
       "array([63.67921536, 77.44027048, 89.08424019, 86.96715479, 34.04001972,\n",
       "       10.75208029, 53.09378834])"
      ]
     },
     "execution_count": 42,
     "metadata": {},
     "output_type": "execute_result"
    }
   ],
   "source": [
    "y_preds = lr.predict(X_test)\n",
    "y_preds"
   ]
  },
  {
   "cell_type": "markdown",
   "metadata": {},
   "source": [
    "\\begin{align*}\n",
    "\\hat{y} = \\rm{``predicted}\\; \\rm{score\"}&= \\rm{intercept} + w_1\\times\\rm{Hours} \\\\\n",
    "&= -0.892 + 10.585\\times \\rm{Hours}\n",
    "\\end{align*}"
   ]
  },
  {
   "cell_type": "markdown",
   "metadata": {},
   "source": [
    "### Make predictions by hand\n",
    "\n",
    "Now use the model's intercept and coefficient to make predictions for the test set. "
   ]
  },
  {
   "cell_type": "code",
   "execution_count": 43,
   "metadata": {},
   "outputs": [
    {
     "data": {
      "text/plain": [
       "array([[63.67921536],\n",
       "       [77.44027048],\n",
       "       [89.08424019],\n",
       "       [86.96715479],\n",
       "       [34.04001972],\n",
       "       [10.75208029],\n",
       "       [53.09378834]])"
      ]
     },
     "execution_count": 43,
     "metadata": {},
     "output_type": "execute_result"
    }
   ],
   "source": [
    "(lr.intercept_ + lr.coef_ * X_test).values"
   ]
  },
  {
   "cell_type": "markdown",
   "metadata": {},
   "source": [
    "### Plot the predictions\n",
    "\n",
    "Recreate the scatter plot from above, but this time add in the predictions for the test set. Colour these *red* so you can distinguish them from the training data. "
   ]
  },
  {
   "cell_type": "code",
   "execution_count": null,
   "metadata": {},
   "outputs": [],
   "source": [
    "# create values for the line learned by our model: y = 10.585 * x - 0.892\n",
    "# use these values to plot the line learned by our model\n",
    "x_vals = np.linspace(-1, 10, 100)\n",
    "y_vals = lr.coef_[0] * x_vals + lr.intercept_"
   ]
  },
  {
   "cell_type": "code",
   "execution_count": null,
   "metadata": {},
   "outputs": [],
   "source": [
    "plt.scatter(grades['Hours'], grades['Scores'], label=\"Train\")\n",
    "plt.scatter(X_test['Hours'], y_preds, c = 'red', label=\"Test\")\n",
    "plt.plot(x_vals, y_vals, c='black', lw=0.5, label=\"Model\")\n",
    "plt.title(\"Hours vs Scores\", size=20)\n",
    "plt.xlabel(\"Hours Studied\", size = 15)\n",
    "plt.ylabel(\"Score Achieved (%)\", size=15)\n",
    "plt.ylim(0, 100)\n",
    "plt.legend()\n",
    "plt.show()"
   ]
  },
  {
   "cell_type": "markdown",
   "metadata": {},
   "source": [
    "### Other metrics\n",
    "\n",
    "Using the appropriate methods from the `sklearn.metrics` module (and/or some basic math), calculate the following metrics for this model: \n",
    "\n",
    "- mean squared error\n",
    "- root mean squared error\n",
    "- mean absolute error\n",
    "- $R^2$\n",
    "\n",
    "Note that these functions take **y_true** and **y_preds** as input, which is different than the `.score()` method we have been using.  "
   ]
  },
  {
   "cell_type": "markdown",
   "metadata": {},
   "source": [
    "#### Mean squared error"
   ]
  },
  {
   "cell_type": "code",
   "execution_count": null,
   "metadata": {},
   "outputs": [],
   "source": [
    "from sklearn.metrics import mean_squared_error\n",
    "\n",
    "mse = mean_squared_error(y_test, y_preds)\n",
    "mse"
   ]
  },
  {
   "cell_type": "markdown",
   "metadata": {},
   "source": [
    "#### Root mean squared error"
   ]
  },
  {
   "cell_type": "code",
   "execution_count": null,
   "metadata": {},
   "outputs": [],
   "source": [
    "from sklearn.metrics import root_mean_squared_error\n",
    "\n",
    "rmse = root_mean_squared_error(y_test, y_preds)\n",
    "rmse"
   ]
  },
  {
   "cell_type": "markdown",
   "metadata": {},
   "source": [
    "#### Mean absolute error"
   ]
  },
  {
   "cell_type": "code",
   "execution_count": null,
   "metadata": {},
   "outputs": [],
   "source": [
    "from sklearn.metrics import mean_absolute_error\n",
    "\n",
    "mae = mean_absolute_error(y_test, y_preds)\n",
    "mae"
   ]
  },
  {
   "cell_type": "markdown",
   "metadata": {},
   "source": [
    "#### $R^2$"
   ]
  },
  {
   "cell_type": "code",
   "execution_count": null,
   "metadata": {},
   "outputs": [],
   "source": [
    "# Method 1: use 'score' method of 'LinearRegression'\n",
    "R2_method_1 = lr.score(X_test, y_test)\n",
    "R2_method_1"
   ]
  },
  {
   "cell_type": "code",
   "execution_count": null,
   "metadata": {},
   "outputs": [],
   "source": [
    "# Method 2: use standalone 'r2_score' function\n",
    "from sklearn.metrics import r2_score\n",
    "\n",
    "R2_method_2 = r2_score(y_test, y_preds)\n",
    "R2_method_2"
   ]
  },
  {
   "cell_type": "markdown",
   "metadata": {},
   "source": [
    "## Linear regression with multiple features\n",
    "\n",
    "Another example for linear regression but for multiple features is contained in the *petrol_consumption.csv* file (petrol = gasoline):\n",
    "- petrol consumption (in millions of gallons) in 48 US states **(target)**\n",
    "- petrol taxes (in cents), \n",
    "- per capita income (dollars)\n",
    "- paved highways (in miles) \n",
    "- proportion of population that has a drivers license"
   ]
  },
  {
   "cell_type": "markdown",
   "metadata": {},
   "source": [
    "\\begin{align*}\n",
    "\\hat{y} &= w_0 + w_1x_1 + w_2x_2 + w_3x_3 + w_4x_4 \\\\\n",
    "\\rm{``pred}\\; \\rm{consumption\"} &= \\rm{intercept} + w_1\\times\\rm{taxes} + w_2\\times\\rm{income} + w_3\\times\\rm{highways} + w_4\\times\\rm{population}\n",
    "\\end{align*}"
   ]
  },
  {
   "cell_type": "markdown",
   "metadata": {},
   "source": [
    "### Load the data\n",
    "\n",
    "Use Pandas to import the file. For our model, we will want to predict **petrol consumption**.  \n",
    "\n",
    "Take a look at the data and use `.shape` to get the number of rows and columns. "
   ]
  },
  {
   "cell_type": "code",
   "execution_count": null,
   "metadata": {},
   "outputs": [],
   "source": [
    "petrol = pd.read_csv(\"petrol_consumption.csv\")"
   ]
  },
  {
   "cell_type": "code",
   "execution_count": null,
   "metadata": {},
   "outputs": [],
   "source": [
    "petrol.shape"
   ]
  },
  {
   "cell_type": "code",
   "execution_count": null,
   "metadata": {},
   "outputs": [],
   "source": [
    "petrol.head()"
   ]
  },
  {
   "cell_type": "markdown",
   "metadata": {},
   "source": [
    "### Create target and feature arrays\n",
    "\n",
    "Our dataframe currently has both the target and the feature arrays. Create two NumPy arrays, one for the feature and one for the target.  "
   ]
  },
  {
   "cell_type": "code",
   "execution_count": null,
   "metadata": {},
   "outputs": [],
   "source": [
    "X_gas = petrol.drop('Petrol_Consumption', axis=1)\n",
    "X_gas.head()"
   ]
  },
  {
   "cell_type": "code",
   "execution_count": null,
   "metadata": {},
   "outputs": [],
   "source": [
    "y_gas = petrol['Petrol_Consumption']\n",
    "y_gas.head()"
   ]
  },
  {
   "cell_type": "markdown",
   "metadata": {},
   "source": [
    "### Split the data\n",
    "\n",
    "Split the data into a train and test set. (Remember to set the `random_state` parameter.)"
   ]
  },
  {
   "cell_type": "code",
   "execution_count": null,
   "metadata": {},
   "outputs": [],
   "source": [
    "X_gas_train, X_gas_test, y_gas_train, y_gas_test = train_test_split(X_gas, y_gas, random_state=784)"
   ]
  },
  {
   "cell_type": "markdown",
   "metadata": {},
   "source": [
    "### Build a linear regression model\n",
    "\n",
    "Use the `LinearRegression` class from sklearn's `linear_model` module to create a linear regression model."
   ]
  },
  {
   "cell_type": "code",
   "execution_count": null,
   "metadata": {},
   "outputs": [],
   "source": [
    "lr_gas = LinearRegression()\n",
    "lr_gas.fit(X_gas_train, y_gas_train)"
   ]
  },
  {
   "cell_type": "markdown",
   "metadata": {},
   "source": [
    "### Model parameters\n",
    "\n",
    "Use the `.intercept_` and the `.coef_` methods to access the parameters that define our linear model. "
   ]
  },
  {
   "cell_type": "code",
   "execution_count": null,
   "metadata": {},
   "outputs": [],
   "source": [
    "lr_gas.intercept_"
   ]
  },
  {
   "cell_type": "code",
   "execution_count": null,
   "metadata": {},
   "outputs": [],
   "source": [
    "lr_gas.coef_"
   ]
  },
  {
   "cell_type": "markdown",
   "metadata": {},
   "source": [
    "### Make predictions\n",
    "\n",
    "Now use the model to make predictions for the test set. "
   ]
  },
  {
   "cell_type": "code",
   "execution_count": null,
   "metadata": {},
   "outputs": [],
   "source": [
    "y_gas_preds = lr_gas.predict(X_gas_test)\n",
    "y_gas_preds"
   ]
  },
  {
   "cell_type": "markdown",
   "metadata": {},
   "source": [
    "### Make predictions by hand\n",
    "\n",
    "Now use the model's *intercept* and *coefficients* to make predictions for the test set. "
   ]
  },
  {
   "cell_type": "markdown",
   "metadata": {},
   "source": [
    "\\begin{align*}\n",
    "\\rm{``pred}\\; \\rm{consumption\"} &= \\rm{intercept} + w_1\\times\\rm{taxes} + w_2\\times\\rm{income} + w_3\\times\\rm{highways} + w_4\\times\\rm{population}\n",
    "\\end{align*}"
   ]
  },
  {
   "cell_type": "code",
   "execution_count": null,
   "metadata": {},
   "outputs": [],
   "source": [
    "hand_preds = np.dot(X_gas_test.values, lr_gas.coef_) + lr_gas.intercept_\n",
    "hand_preds"
   ]
  },
  {
   "cell_type": "markdown",
   "metadata": {},
   "source": [
    "### Other metrics\n",
    "\n",
    "Using the appropriate methods from the `sklearn.metrics` module (and/or some basic math), calculate the following metrics for this model: \n",
    "\n",
    "- mean squared error\n",
    "- root mean squared error\n",
    "- mean absolute error\n",
    "- $R^2$"
   ]
  },
  {
   "cell_type": "markdown",
   "metadata": {},
   "source": [
    "#### Mean squared error"
   ]
  },
  {
   "cell_type": "code",
   "execution_count": null,
   "metadata": {},
   "outputs": [],
   "source": [
    "mse_gas = mean_squared_error(y_gas_test, y_gas_preds)\n",
    "mse_gas"
   ]
  },
  {
   "cell_type": "markdown",
   "metadata": {},
   "source": [
    "#### Root mean squared error"
   ]
  },
  {
   "cell_type": "code",
   "execution_count": null,
   "metadata": {},
   "outputs": [],
   "source": [
    "# Method 1: take square root of \"mean squared error\"\n",
    "rmse_gas_method_1 = np.sqrt(mse_gas)\n",
    "rmse_gas_method_1"
   ]
  },
  {
   "cell_type": "code",
   "execution_count": null,
   "metadata": {},
   "outputs": [],
   "source": [
    "# Method 2: adjust 'squared' parameter in 'mean squared error'\n",
    "rmse_gas_method_2 = mean_squared_error(y_gas_test, y_gas_preds, squared=False)\n",
    "rmse_gas_method_2"
   ]
  },
  {
   "cell_type": "markdown",
   "metadata": {},
   "source": [
    "#### Mean absolute error"
   ]
  },
  {
   "cell_type": "code",
   "execution_count": null,
   "metadata": {},
   "outputs": [],
   "source": [
    "mae_gas = mean_absolute_error(y_gas_test, y_gas_preds)\n",
    "mae_gas"
   ]
  },
  {
   "cell_type": "markdown",
   "metadata": {},
   "source": [
    "#### $R^2$"
   ]
  },
  {
   "cell_type": "code",
   "execution_count": null,
   "metadata": {},
   "outputs": [],
   "source": [
    "# Method 1: use 'score' method of 'LinearRegression'\n",
    "R2_gas_method_1 = lr_gas.score(X_gas_test, y_gas_test)\n",
    "R2_gas_method_1"
   ]
  },
  {
   "cell_type": "code",
   "execution_count": null,
   "metadata": {},
   "outputs": [],
   "source": [
    "# Method 2: use standalone 'r2_score' function\n",
    "R2_gas_method_2 = r2_score(y_gas_test, y_gas_preds)\n",
    "R2_gas_method_2"
   ]
  }
 ],
 "metadata": {
  "kernelspec": {
   "display_name": "Python 3",
   "language": "python",
   "name": "python3"
  },
  "language_info": {
   "codemirror_mode": {
    "name": "ipython",
    "version": 3
   },
   "file_extension": ".py",
   "mimetype": "text/x-python",
   "name": "python",
   "nbconvert_exporter": "python",
   "pygments_lexer": "ipython3",
   "version": "3.12.1"
  }
 },
 "nbformat": 4,
 "nbformat_minor": 4
}
