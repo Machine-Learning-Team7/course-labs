{
 "cells": [
  {
   "cell_type": "markdown",
   "metadata": {},
   "source": [
    "## COMP2006: Graded Lab 4\n",
    "\n",
    "In this lab, you will gain some experience in dealing with missing data and further practice converting non-numeric features in a dataset to numeric.\n",
    "\n",
    "**Target**: to predict `Comb Unadj FE - Conventional Fuel`"
   ]
  },
  {
   "cell_type": "markdown",
   "metadata": {},
   "source": [
    "**Data set**: make sure you use the data assigned to your group!\n",
    "\n",
    "| Groups | Data set |\n",
    "| :-: | :-: |\n",
    "| 1 | veh1_missing.csv |\n",
    "| 2 | veh2_missing.csv |\n",
    "| 3 | veh3_missing.csv |\n",
    "| 4 | veh4_missing.csv |\n",
    "| 5 | veh5_missing.csv |\n",
    "| 6 | veh6_missing.csv |\n",
    "| 7 | veh7_missing.csv |\n",
    "| 8 | veh8_missing.csv |\n",
    "| 10 | veh10_missing.csv |\n",
    "\n",
    "**Important Notes:**\n",
    "- Use [Chapter 7](https://mlbook.explained.ai/bulldozer-intro.html) of the textbook as a **guide**:\n",
    "     - you only need to use **random forest** models;\n",
    "- Use the **out-of-bag score** to evaluate models\n",
    "     - Read Section 5.2 carefully so that you use this method properly\n",
    "     - The oob score that you provide should be the average of 10 runs\n",
    "- Code submitted for this lab should be:\n",
    "     - error free\n",
    "         - to make sure this is the case, before submitting, close all Jupyter notebooks, exit Anaconda, reload the lab notebook and execute all cells\n",
    "     - final code\n",
    "         - this means that I don't want to see every piece of code you try as you work through this lab but only the final code; only the code that fulfills the objective\n",
    "\n",
    "> **Don't make assumptions!**\n"
   ]
  },
  {
   "cell_type": "markdown",
   "metadata": {},
   "source": [
    "### Part 0\n",
    "\n",
    "Please provide the following information:\n",
    " - Group Member 1: Manuel Bishop Norigea ID: 4362207\n",
    " - Group Member 2: Robert E. Matney ID: 4364229\n",
    "\n",
    "     "
   ]
  },
  {
   "cell_type": "markdown",
   "metadata": {},
   "source": [
    "### Part 1 - Create and evaluate an initial model\n",
    "\n",
    "In this part you should: \n",
    " - use Section 7.3 of the textbook as a guide, except:\n",
    "     - use all of the data; and\n",
    "     - use 150 decision trees in your random forest models\n",
    " - read in the data\n",
    " - isolate all numeric features from original data set\n",
    " - fill in any missing values with 0\n",
    " - create and evaluate a baseline model \n",
    "\n",
    "#### Code (10 marks)"
   ]
  },
  {
   "cell_type": "code",
   "execution_count": 48,
   "metadata": {},
   "outputs": [
    {
     "ename": "TypeError",
     "evalue": "'DataFrame' object is not callable",
     "output_type": "error",
     "traceback": [
      "\u001b[1;31m---------------------------------------------------------------------------\u001b[0m",
      "\u001b[1;31mTypeError\u001b[0m                                 Traceback (most recent call last)",
      "Cell \u001b[1;32mIn[48], line 14\u001b[0m\n\u001b[0;32m     12\u001b[0m X\u001b[38;5;241m=\u001b[39m vehf_num\u001b[38;5;241m.\u001b[39mdrop(\u001b[38;5;124m'\u001b[39m\u001b[38;5;124mComb Unadj FE - Conventional Fuel\u001b[39m\u001b[38;5;124m'\u001b[39m, axis\u001b[38;5;241m=\u001b[39m\u001b[38;5;241m1\u001b[39m)\n\u001b[0;32m     13\u001b[0m nFeatures\u001b[38;5;241m=\u001b[39m[col \u001b[38;5;28;01mfor\u001b[39;00m col \u001b[38;5;129;01min\u001b[39;00m X\u001b[38;5;241m.\u001b[39mcolumns\u001b[38;5;241m.\u001b[39mtolist()]\n\u001b[1;32m---> 14\u001b[0m y\u001b[38;5;241m=\u001b[39m \u001b[43mvehf_num\u001b[49m\u001b[43m(\u001b[49m\u001b[38;5;124;43m'\u001b[39;49m\u001b[38;5;124;43mComb Unadj FE - Conventional Fuel\u001b[39;49m\u001b[38;5;124;43m'\u001b[39;49m\u001b[43m)\u001b[49m\n\u001b[0;32m     16\u001b[0m \u001b[38;5;66;03m#getting random forest\u001b[39;00m\n\u001b[0;32m     17\u001b[0m \u001b[38;5;28;01mfrom\u001b[39;00m \u001b[38;5;21;01msklearn\u001b[39;00m\u001b[38;5;21;01m.\u001b[39;00m\u001b[38;5;21;01mensemble\u001b[39;00m \u001b[38;5;28;01mimport\u001b[39;00m RandomForestRegressor\n",
      "\u001b[1;31mTypeError\u001b[0m: 'DataFrame' object is not callable"
     ]
    }
   ],
   "source": [
    "#importing pandas\n",
    "import pandas as pd\n",
    "\n",
    "#getting the file in\n",
    "vehf = pd.read_csv(\"veh7_missing.csv\")\n",
    "\n",
    "#pulling out the columns with numbers\n",
    "vehf_num = vehf[['Eng Displ', '# Cyl', 'Comb Unadj FE - Conventional Fuel', '# Gears', 'Max Ethanol % - Gasoline', 'Intake Valves Per Cyl', 'Exhaust Valves Per Cyl']]\n",
    "\n",
    "vehf_num.isnull().any()\n",
    "\n",
    "X= vehf_num.drop('Comb Unadj FE - Conventional Fuel', axis=1)\n",
    "nFeatures=[col for col in X.columns.tolist()]\n",
    "y= vehf_num('Comb Unadj FE - Conventional Fuel')\n",
    "\n",
    "#getting random forest\n",
    "from sklearn.ensemble import RandomForestRegressor\n",
    "\n"
   ]
  },
  {
   "cell_type": "markdown",
   "metadata": {},
   "source": [
    "### Part 2 - Normalize missing values\n",
    "\n",
    "In this part you should: \n",
    " - use Section 7.4 of the textbook as a guide\n",
    " - convert **all** representations of missing data to a **single** representation\n",
    " \n",
    "#### Code (15 marks)"
   ]
  },
  {
   "cell_type": "code",
   "execution_count": null,
   "metadata": {},
   "outputs": [],
   "source": []
  },
  {
   "cell_type": "markdown",
   "metadata": {},
   "source": [
    "#### Question (5 marks)\n",
    "\n",
    "Note here all the different ways missing data was represented in the data.   "
   ]
  },
  {
   "cell_type": "markdown",
   "metadata": {},
   "source": [
    "**Enter your answer here:**"
   ]
  },
  {
   "cell_type": "markdown",
   "metadata": {},
   "source": [
    "### Part 3 - Categorical features\n",
    "\n",
    "In this part you should: \n",
    " - use Section 7.5.1 as a guide\n",
    " - only use ordinal encoding \n",
    " - convert **all** non-numeric features to numeric \n",
    " - handle any missing values\n",
    " \n",
    "#### Code (25 marks)"
   ]
  },
  {
   "cell_type": "code",
   "execution_count": null,
   "metadata": {},
   "outputs": [],
   "source": []
  },
  {
   "cell_type": "markdown",
   "metadata": {},
   "source": [
    "### Part 4 - Numeric features\n",
    "\n",
    "In this part you should: \n",
    " - use Section 7.5.2 as a guide\n",
    " - handle any missing values\n",
    " \n",
    "#### Code (30 marks)"
   ]
  },
  {
   "cell_type": "code",
   "execution_count": null,
   "metadata": {},
   "outputs": [],
   "source": []
  },
  {
   "cell_type": "markdown",
   "metadata": {},
   "source": [
    "### Part 5 - Create and evaluate a final model\n",
    "\n",
    "In this part you should:\n",
    " - create and evaluate a model using all the features after processing them in Parts 2, 3, and 4 above \n",
    "\n",
    "#### Code (10 marks)"
   ]
  },
  {
   "cell_type": "code",
   "execution_count": null,
   "metadata": {},
   "outputs": [],
   "source": []
  },
  {
   "cell_type": "markdown",
   "metadata": {},
   "source": [
    "#### Questions (5 marks)\n",
    "\n",
    "Provide answers to the following:\n",
    " 1. calculate the percent difference between the results of Part 1 and Part 5 (make sure you are using the correct formula for percent difference) \n",
    " 2. based on the percent difference, state whether or not the results of Part 5 are an improvement over the results of Part 1"
   ]
  },
  {
   "cell_type": "markdown",
   "metadata": {},
   "source": [
    "**Enter your answers here:**"
   ]
  }
 ],
 "metadata": {
  "kernelspec": {
   "display_name": "Python 3 (ipykernel)",
   "language": "python",
   "name": "python3"
  },
  "language_info": {
   "codemirror_mode": {
    "name": "ipython",
    "version": 3
   },
   "file_extension": ".py",
   "mimetype": "text/x-python",
   "name": "python",
   "nbconvert_exporter": "python",
   "pygments_lexer": "ipython3",
   "version": "3.12.2"
  }
 },
 "nbformat": 4,
 "nbformat_minor": 4
}
