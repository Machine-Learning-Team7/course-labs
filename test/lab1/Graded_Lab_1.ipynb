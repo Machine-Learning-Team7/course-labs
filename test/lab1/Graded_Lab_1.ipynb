{
 "cells": [
  {
   "cell_type": "markdown",
   "metadata": {
    "tags": []
   },
   "source": [
    "## COMP2006 -- Graded Lab 1\n",
    "\n",
    "In this lab, you will gain some experience in **denoising** a dataset in the context of a specific objective. \n",
    "\n",
    "**Overall Objective**: Create a model that predicts rent prices as well as possible for typical New York City apartments."
   ]
  },
  {
   "cell_type": "markdown",
   "metadata": {},
   "source": [
    "**Data set**: make sure you use the data with the same number as your group number!\n",
    "\n",
    "| Group | Data set |\n",
    "| :-: | :-: |\n",
    "| 1 | rent_1.csv |\n",
    "| 2 | rent_2.csv |\n",
    "| etc. | etc. |\n",
    "\n",
    "**Important Notes:**\n",
    " - This lab is more open-ended so be prepared to think on your own, in a logical way, in order to solve the problem at hand\n",
    "     - You should be able to support any decision you make with logical evidence\n",
    " - The data looks like the data we have been using in class but it has other **surprises**\n",
    "     - Be sure to investigate the data in a way that allows you to discover all these surprises\n",
    " - Use [Chapter 5](https://mlbook.explained.ai/prep.html) of the textbook as a **guide**, except:\n",
    "     - you only need to use **random forest** models;\n",
    "     - exclude Section 5.5; \n",
    " - Code submitted for this lab should be:\n",
    "     - error free\n",
    "         - to make sure this is the case, before submitting, close all Jupyter notebooks, exit Anaconda, reload the lab notebook and execute all cells\n",
    "     - final code\n",
    "         - this means that I don't want to see every piece of code you try as you work through this lab but only the final code; only the code that fulfills the objective\n",
    " - Use the **out-of-bag score** to evaluate models\n",
    "     - Read Section 5.2 carefully so that you use this method properly\n",
    "     - The oob score that you provide should be the average of 10 runs\n",
    " - Don't make assumptions!\n",
    "\n",
    "I have broken the lab down into 4 main parts. "
   ]
  },
  {
   "cell_type": "markdown",
   "metadata": {},
   "source": [
    "### Part 0\n",
    "\n",
    "Please provide the following information:\n",
    " - Group Number: \n",
    " - Group Members\n",
    "     - Name (Student ID)\n",
    "     - Name (Student ID)\n",
    "     - Name (Student ID)\n",
    "\n",
    "     "
   ]
  },
  {
   "cell_type": "markdown",
   "metadata": {},
   "source": [
    "### Part 1 - Create and evaluate an initial model\n",
    "\n",
    "#### Code (15 marks)"
   ]
  },
  {
   "cell_type": "code",
   "execution_count": 258,
   "metadata": {},
   "outputs": [
    {
     "name": "stdout",
     "output_type": "stream",
     "text": [
      "    bathrooms  bedrooms   latitude  longitude         price\n",
      "0         0.0  0.950413  40.670815 -68.530724   3639.198347\n",
      "1         1.0  1.250735  40.355692 -68.362935   3246.098843\n",
      "2         1.5  2.400826  40.298084 -68.556960   4034.309917\n",
      "3         2.0  2.699744  40.247405 -67.610713   5210.331946\n",
      "4         2.5  2.761468  39.946965 -67.121301   9132.651376\n",
      "5         3.0  3.292359  40.119656 -68.237841  10074.328904\n",
      "6         3.5  3.666667  39.920906 -69.748836  11940.333333\n",
      "7         4.0  4.362319  40.295172 -67.162804  15983.231884\n",
      "8         4.5  4.125000  40.773950 -73.962137  19481.500000\n",
      "9         5.0  4.400000  32.609140 -59.185200  33999.000000\n",
      "10        5.5  4.500000  40.728000 -73.990550  23250.000000\n",
      "11        6.0  5.000000  40.760300 -73.961000  28000.000000\n"
     ]
    },
    {
     "data": {
      "text/plain": [
       "Text(0, 0.5, 'price')"
      ]
     },
     "execution_count": 258,
     "metadata": {},
     "output_type": "execute_result"
    },
    {
     "data": {
      "image/png": "[encoded data removed]",
      "text/plain": [
       "<Figure size 640x480 with 1 Axes>"
      ]
     },
     "metadata": {},
     "output_type": "display_data"
    }
   ],
   "source": [
    "import pandas as pd\n",
    "\n",
    "rent=pd.read_csv(\"rent_7.csv\")\n",
    "#rent\n",
    "#prices=rent[\"price\"]\n",
    "#prices.mean()\n",
    "#bybath=rent.groupby(\"bathrooms\").mean(\"price\")\n",
    "#print(rent.columns)\n",
    "#print(bybath)\n",
    "x=rent[[\"bathrooms\",\"bedrooms\",\"latitude\",\"longitude\", \"price\"]]\n",
    "y=rent[[\"price\"]]\n",
    "#print(x.iloc[0:5])\n",
    "\n",
    "#xfi=rent.set_index(\"price\")\n",
    "\n",
    "#bybath.sort_values(\"price\",ascending=False)\n",
    "#print(xfi[[\"bathrooms\",\"bedrooms\"]].head())\n",
    "#print(bybath)\n",
    "#print(bybath.price.min(), bybath.price.mean(), bybath.price.max())\n",
    "'''print(x.groupby([\"bathrooms\"]).mean())\n",
    "print(len(x.groupby([\"bathrooms\"]).mean()))'''\n",
    "\n",
    "xcop=x.copy()\n",
    "xcop[\"caquita\"]=0\n",
    "xcop.head(5)\n",
    "xcop[\"caca2\"]=xcop.bathrooms * xcop.bedrooms\n",
    "xcop.head(5)\n",
    "\n",
    "import matplotlib.pyplot as plt\n",
    "\n",
    "\n",
    "bybath=x.groupby([\"bathrooms\"]).mean()\n",
    "bybath=bybath.reset_index()\n",
    "print(bybath)\n",
    "fig,ax=plt.subplots()\n",
    "ax.plot(bybath.bathrooms, bybath.price)\n",
    "ax.set_xlabel(\"bathrooms\")\n",
    "ax.set_ylabel(\"price\")\n",
    "\n"
   ]
  },
  {
   "cell_type": "markdown",
   "metadata": {},
   "source": [
    "#### Explanation (5 marks)\n",
    "\n",
    "Please provide an explanation and justification for the code submitted in **Part 1** in the context of the overall objective. "
   ]
  },
  {
   "cell_type": "markdown",
   "metadata": {},
   "source": [
    "### Part 2 - Denoise the data\n",
    "\n",
    "This section should only include the code necessary to **denoise** the data, NOT the code necessary to identify inconsistencies, problems, errors, etc. in the data. \n",
    "\n",
    "#### Code (25 marks)"
   ]
  },
  {
   "cell_type": "code",
   "execution_count": null,
   "metadata": {},
   "outputs": [],
   "source": []
  },
  {
   "cell_type": "markdown",
   "metadata": {},
   "source": [
    "### Part 3 - Create and evaluate a final model\n",
    "\n",
    "#### Code (15 marks)"
   ]
  },
  {
   "cell_type": "code",
   "execution_count": null,
   "metadata": {},
   "outputs": [],
   "source": []
  },
  {
   "cell_type": "markdown",
   "metadata": {},
   "source": [
    "#### Explanation (5 marks)\n",
    "\n",
    "Please provide an explanation and justification for the code submitted in **Part 3** in the context of the overall objective. "
   ]
  },
  {
   "cell_type": "markdown",
   "metadata": {},
   "source": [
    "### Part 4 - Document the problems (35 marks)\n",
    "\n",
    "In this part, please use the table below to document your understanding of all the data issues you discovered. Note that **no code** should be included, as that should be covered in **Part 2**. Also, note that even if one line of code fixed a few problems, you should list each problem separately in the table below, so be sure you have investigated the data properly. For example, if the list `[-6, 5, 0, 50]` represents heights of adults, the -6, 0, and 50 would represent three data issues to be included in the table below, even though one line of code may be able to address all of them. \n",
    "\n",
    "| Data issue discovered | Why is this a problem? | How did you fix it? | Why is this fix appropriate? |\n",
    "| :- | :- | :- | :- | \n",
    "|  example problem 1  | example explanation    | example fix  | example explanation about why this fix is appropriate   |\n",
    "|  example problem 2  | example explanation    | example fix  | example explanation about why this fix is appropriate   |\n"
   ]
  },
  {
   "cell_type": "code",
   "execution_count": null,
   "metadata": {},
   "outputs": [],
   "source": []
  }
 ],
 "metadata": {
  "kernelspec": {
   "display_name": "Python 3 (ipykernel)",
   "language": "python",
   "name": "python3"
  },
  "language_info": {
   "codemirror_mode": {
    "name": "ipython",
    "version": 3
   },
   "file_extension": ".py",
   "mimetype": "text/x-python",
   "name": "python",
   "nbconvert_exporter": "python",
   "pygments_lexer": "ipython3",
   "version": "3.12.1"
  }
 },
 "nbformat": 4,
 "nbformat_minor": 4
}
