{
 "cells": [
  {
   "cell_type": "markdown",
   "metadata": {},
   "source": [
    "# A brief introduction to creating a machine learning model\n",
    "\n",
    "In this notebook we will walkthrough the basic steps of creating a machine learning model for **classification**. This is an example of **supervised learning**, which will be the main focus of this course. To do this, we will create what is called a **k nearest neighbors (kNN)** model. By the end of this walkthrough you should get an initial look at:\n",
    "\n",
    "  - the basic concepts of kNN\n",
    "  - the *sklearn* API\n",
    "  - the structure of feature and target data\n",
    "  - splitting the data into train and valid sets\n",
    "  - creating an instance of a kNN machine learning model\n",
    "  - evaluating the model to see how well it makes predictions"
   ]
  },
  {
   "cell_type": "markdown",
   "metadata": {},
   "source": [
    "## The concept of neighbourhood\n",
    "\n",
    "<img src=\"neighbourhood.png\" width=600 align=\"center\">"
   ]
  },
  {
   "cell_type": "markdown",
   "metadata": {},
   "source": [
    "## Imports"
   ]
  },
  {
   "cell_type": "code",
   "execution_count": null,
   "metadata": {},
   "outputs": [],
   "source": [
    "import numpy as np\n",
    "import matplotlib.pyplot as plt\n",
    "import pandas as pd"
   ]
  },
  {
   "cell_type": "markdown",
   "metadata": {},
   "source": [
    "## Create data"
   ]
  },
  {
   "cell_type": "code",
   "execution_count": null,
   "metadata": {},
   "outputs": [],
   "source": [
    "from sklearn.datasets import make_classification\n",
    "\n",
    "# create some classification data\n",
    "X, y = make_classification(n_samples = 100, n_features = 2, n_redundant = 0, random_state = 16)"
   ]
  },
  {
   "cell_type": "markdown",
   "metadata": {},
   "source": [
    "## Plot the data "
   ]
  },
  {
   "cell_type": "code",
   "execution_count": null,
   "metadata": {},
   "outputs": [],
   "source": [
    "plt.scatter(X[:, 0], X[:, 1], s=100, c = y)\n",
    "plt.title(\"Sample Classification Data\")\n",
    "plt.xlabel(\"Feature 1\")\n",
    "plt.ylabel(\"Feature 2\")\n",
    "plt.show()"
   ]
  },
  {
   "cell_type": "markdown",
   "metadata": {},
   "source": [
    "## Feature data"
   ]
  },
  {
   "cell_type": "code",
   "execution_count": null,
   "metadata": {},
   "outputs": [],
   "source": [
    "X  "
   ]
  },
  {
   "cell_type": "code",
   "execution_count": null,
   "metadata": {},
   "outputs": [],
   "source": [
    "type(X)"
   ]
  },
  {
   "cell_type": "code",
   "execution_count": null,
   "metadata": {},
   "outputs": [],
   "source": [
    "X.shape"
   ]
  },
  {
   "cell_type": "markdown",
   "metadata": {},
   "source": [
    "## Target data"
   ]
  },
  {
   "cell_type": "code",
   "execution_count": null,
   "metadata": {},
   "outputs": [],
   "source": [
    "y"
   ]
  },
  {
   "cell_type": "code",
   "execution_count": null,
   "metadata": {},
   "outputs": [],
   "source": [
    "type(y)"
   ]
  },
  {
   "cell_type": "code",
   "execution_count": null,
   "metadata": {},
   "outputs": [],
   "source": [
    "y.shape"
   ]
  },
  {
   "cell_type": "markdown",
   "metadata": {},
   "source": [
    "## In tabular form"
   ]
  },
  {
   "cell_type": "code",
   "execution_count": null,
   "metadata": {},
   "outputs": [],
   "source": [
    "df = pd.DataFrame({'Feature_1': X[:, 0], 'Feature_2': X[:, 1], 'Class': y})\n",
    "\n",
    "df.head()"
   ]
  },
  {
   "cell_type": "markdown",
   "metadata": {},
   "source": [
    "## What do we mean by nearest?\n",
    " \n",
    "$\\;$\n",
    "$\\;$\n",
    "   \n",
    "\n",
    "<img src=\"Euclidean_distance_2d.svg\" width=600 align=\"left\"/>\n",
    "\n"
   ]
  },
  {
   "cell_type": "markdown",
   "metadata": {},
   "source": [
    "*Image source: By Kmhkmh - Own work, CC BY 4.0, https://commons.wikimedia.org/w/index.php?curid=67617313*\n",
    "\n",
    "$\\;$\n",
    "$\\;$\n",
    "   "
   ]
  },
  {
   "cell_type": "code",
   "execution_count": null,
   "metadata": {},
   "outputs": [],
   "source": [
    "plt.scatter(X[:, 0], X[:, 1], s=120, c = y)\n",
    "plt.scatter(0.2, -2, marker='*', s=380, c='red')\n",
    "plt.title(\"Sample Classification Data\")\n",
    "plt.xlabel(\"Feature 1\")\n",
    "plt.ylabel(\"Feature 2\")\n",
    "plt.rcParams[\"figure.figsize\"] = (6, 6)\n",
    "plt.show()"
   ]
  },
  {
   "cell_type": "markdown",
   "metadata": {},
   "source": [
    "##  Split the data into train and valid sets"
   ]
  },
  {
   "cell_type": "code",
   "execution_count": null,
   "metadata": {},
   "outputs": [],
   "source": [
    "from sklearn.model_selection import train_test_split\n",
    "\n",
    "X_train, X_valid, y_train, y_valid = train_test_split(X, y, random_state=0)"
   ]
  },
  {
   "cell_type": "markdown",
   "metadata": {},
   "source": [
    "#### Train data"
   ]
  },
  {
   "cell_type": "code",
   "execution_count": null,
   "metadata": {},
   "outputs": [],
   "source": [
    "X_train"
   ]
  },
  {
   "cell_type": "code",
   "execution_count": null,
   "metadata": {},
   "outputs": [],
   "source": [
    "type(X_train)"
   ]
  },
  {
   "cell_type": "code",
   "execution_count": null,
   "metadata": {},
   "outputs": [],
   "source": [
    "X_train.shape"
   ]
  },
  {
   "cell_type": "code",
   "execution_count": null,
   "metadata": {},
   "outputs": [],
   "source": [
    "y_train"
   ]
  },
  {
   "cell_type": "code",
   "execution_count": null,
   "metadata": {},
   "outputs": [],
   "source": [
    "type(y_train)"
   ]
  },
  {
   "cell_type": "code",
   "execution_count": null,
   "metadata": {},
   "outputs": [],
   "source": [
    "y_train.shape"
   ]
  },
  {
   "cell_type": "markdown",
   "metadata": {},
   "source": [
    "#### valid data"
   ]
  },
  {
   "cell_type": "code",
   "execution_count": null,
   "metadata": {},
   "outputs": [],
   "source": [
    "X_valid"
   ]
  },
  {
   "cell_type": "code",
   "execution_count": null,
   "metadata": {},
   "outputs": [],
   "source": [
    "type(X_valid)"
   ]
  },
  {
   "cell_type": "code",
   "execution_count": null,
   "metadata": {},
   "outputs": [],
   "source": [
    "X_valid.shape"
   ]
  },
  {
   "cell_type": "code",
   "execution_count": null,
   "metadata": {},
   "outputs": [],
   "source": [
    "y_valid"
   ]
  },
  {
   "cell_type": "code",
   "execution_count": null,
   "metadata": {},
   "outputs": [],
   "source": [
    "type(y_valid)"
   ]
  },
  {
   "cell_type": "code",
   "execution_count": null,
   "metadata": {},
   "outputs": [],
   "source": [
    "y_valid.shape"
   ]
  },
  {
   "cell_type": "markdown",
   "metadata": {},
   "source": [
    "## Create a kNN classifier\n",
    "\n",
    "Once our data is in the proper format, we would like to build our classifier. The steps involved in this process are:\n",
    "\n",
    "1. Select the model and import from sklearn\n",
    "2. Instantiate the model and set model parameters\n",
    "3. Train the model\n",
    "4. Evaluate the model\n",
    "5. Use the model"
   ]
  },
  {
   "cell_type": "markdown",
   "metadata": {},
   "source": [
    "##### Step 1. Select the model and import from sklearn"
   ]
  },
  {
   "cell_type": "code",
   "execution_count": null,
   "metadata": {},
   "outputs": [],
   "source": [
    "from sklearn.neighbors import KNeighborsClassifier  "
   ]
  },
  {
   "cell_type": "markdown",
   "metadata": {},
   "source": [
    "##### Step 2. Instantiate the model and set model parameters"
   ]
  },
  {
   "cell_type": "code",
   "execution_count": null,
   "metadata": {},
   "outputs": [],
   "source": [
    "clf = KNeighborsClassifier(n_neighbors=3)           "
   ]
  },
  {
   "cell_type": "markdown",
   "metadata": {},
   "source": [
    "##### Step 3. Train the model"
   ]
  },
  {
   "cell_type": "code",
   "execution_count": null,
   "metadata": {},
   "outputs": [],
   "source": [
    "clf.fit(X_train, y_train)                           "
   ]
  },
  {
   "cell_type": "markdown",
   "metadata": {},
   "source": [
    "##### Step 4. Evaluate the model"
   ]
  },
  {
   "cell_type": "code",
   "execution_count": null,
   "metadata": {},
   "outputs": [],
   "source": [
    "from sklearn.metrics import accuracy_score\n",
    "\n",
    "acc_train = clf.score(X_train, y_train)\n",
    "acc_valid = clf.score(X_valid, y_valid)\n",
    "\n",
    "print(f\"Training set accuracy: {acc_train:.2f}\")  \n",
    "print(f\"valid set accuracy: {acc_valid:.2f}\")  "
   ]
  },
  {
   "cell_type": "markdown",
   "metadata": {},
   "source": [
    "##### Step 5. Use the model\n",
    "\n",
    "**New data point: `[2.5, 1.9]`**"
   ]
  },
  {
   "cell_type": "code",
   "execution_count": null,
   "metadata": {},
   "outputs": [],
   "source": [
    "print(\"New prediction:\", clf.predict([[2.5, 1.9]])) "
   ]
  },
  {
   "cell_type": "code",
   "execution_count": null,
   "metadata": {},
   "outputs": [],
   "source": [
    "# returns the k nearest neighbors for a given test point\n",
    "# the first array contains the distances to the neighbors\n",
    "# the second array contains the indices of the neighbors\n",
    "clf.kneighbors([[2.5, 1.9]], 3)"
   ]
  },
  {
   "cell_type": "code",
   "execution_count": null,
   "metadata": {},
   "outputs": [],
   "source": [
    "plt.scatter(X_train[:, 0], X_train[:, 1], s=120, c = y_train)\n",
    "plt.scatter(2.5, 1.9, s=380,  marker='*', c='red')\n",
    "plt.scatter(X_train[50, 0], X_train[50, 1], s=380, facecolors='none', edgecolors='r', marker='o')\n",
    "plt.scatter(X_train[65, 0], X_train[65, 1], s=380, facecolors='none', edgecolors='b', marker='o')\n",
    "plt.scatter(X_train[9, 0], X_train[9, 1], s=380, facecolors='none', edgecolors='g', marker='o')\n",
    "plt.title(\"Sample Classification Data\")\n",
    "plt.xlabel(\"Feature 1\")\n",
    "plt.ylabel(\"Feature 2\")\n",
    "plt.rcParams[\"figure.figsize\"] = (6,6)\n",
    "plt.show()"
   ]
  },
  {
   "cell_type": "markdown",
   "metadata": {},
   "source": [
    "**New data point: `[0.2, 0]`**"
   ]
  },
  {
   "cell_type": "code",
   "execution_count": null,
   "metadata": {},
   "outputs": [],
   "source": [
    "print(\"New prediction:\", clf.predict([[0.2, 0]])) "
   ]
  },
  {
   "cell_type": "code",
   "execution_count": null,
   "metadata": {},
   "outputs": [],
   "source": [
    "# returns the k nearest neighbors for a given test point\n",
    "# the first array contains the distances to the neighbors\n",
    "# the second array contains the indices of the neighbors\n",
    "clf.kneighbors([[0.2, 0]], 3)"
   ]
  },
  {
   "cell_type": "code",
   "execution_count": null,
   "metadata": {},
   "outputs": [],
   "source": [
    "plt.scatter(X_train[:, 0], X_train[:, 1], s=120, c = y_train)\n",
    "plt.scatter(0.2, 0, s=380,  marker='*', c='red')\n",
    "plt.scatter(X_train[36, 0], X_train[36, 1], s=380, facecolors='none', edgecolors='r', marker='o')\n",
    "plt.scatter(X_train[38, 0], X_train[38, 1], s=380, facecolors='none', edgecolors='b', marker='o')\n",
    "plt.scatter(X_train[71, 0], X_train[71, 1], s=380, facecolors='none', edgecolors='g', marker='o')\n",
    "plt.title(\"Sample Classification Data\")\n",
    "plt.xlabel(\"Feature 1\")\n",
    "plt.ylabel(\"Feature 2\")\n",
    "plt.rcParams[\"figure.figsize\"] = (8,8)\n",
    "plt.show()"
   ]
  },
  {
   "cell_type": "markdown",
   "metadata": {},
   "source": [
    "## Create a kNN regressor\n",
    "\n",
    "Once our data is in the proper format, we would like to build our classifier. The steps involved in this process are:\n",
    "\n",
    "1. Select the model and import from sklearn\n",
    "2. Instantiate the model and set model parameters\n",
    "3. Train the model\n",
    "4. Evaluate the model\n",
    "5. Use the model"
   ]
  },
  {
   "cell_type": "code",
   "execution_count": null,
   "metadata": {},
   "outputs": [],
   "source": [
    "from sklearn.neighbors import KNeighborsRegressor\n",
    "from sklearn.metrics import root_mean_squared_error\n",
    "\n",
    "rent = pd.read_csv(\"rent-ideal.csv\")\n",
    "\n",
    "X = rent.drop(\"price\", axis=1)\n",
    "y = rent[\"price\"]\n",
    "\n",
    "\n",
    "X_train, X_valid, y_train, y_valid = train_test_split(X, y, test_size=0.2, random_state=42)\n",
    "\n",
    "\n",
    "regressor = KNeighborsRegressor(n_neighbors=3)\n",
    "regressor.fit(X_train, y_train)\n",
    "\n",
    "R2_train = regressor.score(X_train, y_train)\n",
    "R2_valid = regressor.score(X_valid, y_valid)\n",
    "\n",
    "\n",
    "print(f\"Training set R^2: {R2_train:.2f}\")  \n",
    "print(f\"valid set R^2: {R2_valid:.2f}\")"
   ]
  },
  {
   "cell_type": "markdown",
   "metadata": {},
   "source": [
    "**Coefficient of determination**\n",
    "\n",
    "$$R^2 = 1 - \\frac{\\sum_{i=1}^m (y{\\rm \\_ true}_i - y{\\rm \\_ pred}_i)^2}{\\sum_{i=1}^m (y{\\rm \\_ true}_i - y{\\rm \\_ mean})^2}$$"
   ]
  },
  {
   "cell_type": "markdown",
   "metadata": {},
   "source": [
    "**Change evaluation metric**"
   ]
  },
  {
   "cell_type": "code",
   "execution_count": null,
   "metadata": {},
   "outputs": [],
   "source": [
    "\n",
    "y_pred = regressor.predict(X_valid)\n",
    "\n",
    "rmse = root_mean_squared_error(y_valid, y_pred)\n",
    "print(f\"Root Mean Squared Error = {rmse:.2f}\")"
   ]
  },
  {
   "cell_type": "markdown",
   "metadata": {},
   "source": [
    "### Selecting `k`\n",
    "\n",
    "`k` in k-nearest neighbours is what is called a **hyperparameter**. Its value must be chosen before the model can be trained. Unfortunately, we won't know the value of `k` that gives the best results ahead of time. To determine that value, we will have to explore the performance of models with different values of `k`."
   ]
  },
  {
   "cell_type": "code",
   "execution_count": 161,
   "metadata": {},
   "outputs": [],
   "source": [
    "valid_scores = []\n",
    "rmse_scores = []\n",
    "k_range = range(1, 21)\n",
    "\n",
    "for k in k_range:\n",
    "    regressor = KNeighborsRegressor(n_neighbors=k)\n",
    "    regressor.fit(X_train, y_train)\n",
    "    R2_valid = regressor.score(X_valid, y_valid)\n",
    "    valid_scores.append(R2_valid)\n",
    "    y_pred = regressor.predict(X_valid)\n",
    "    rmse = root_mean_squared_error(y_valid, y_pred)\n",
    "    rmse_scores.append(rmse)"
   ]
  },
  {
   "cell_type": "code",
   "execution_count": 160,
   "metadata": {},
   "outputs": [
    {
     "data": {
      "image/png": "[encoded data removed]",
      "text/plain": [
       "<Figure size 800x800 with 1 Axes>"
      ]
     },
     "metadata": {},
     "output_type": "display_data"
    }
   ],
   "source": [
    "plt.scatter(k_range, valid_scores, s=60)\n",
    "plt.title(\"Selecting k with the Validation Set\")\n",
    "plt.xlabel(\"k\")\n",
    "plt.ylabel(\"R-Squared\")\n",
    "plt.rcParams[\"figure.figsize\"] = (8,8)\n",
    "plt.show()"
   ]
  },
  {
   "cell_type": "code",
   "execution_count": 163,
   "metadata": {},
   "outputs": [
    {
     "data": {
      "image/png": "[encoded data removed]",
      "text/plain": [
       "<Figure size 800x800 with 1 Axes>"
      ]
     },
     "metadata": {},
     "output_type": "display_data"
    }
   ],
   "source": [
    "plt.scatter(k_range, rmse_scores, s=60)\n",
    "plt.title(\"Selecting k with the Validation Set\")\n",
    "plt.xlabel(\"k\")\n",
    "plt.ylabel(\"Root Mean Squared Error\")\n",
    "plt.rcParams[\"figure.figsize\"] = (8,8)\n",
    "plt.show()"
   ]
  },
  {
   "cell_type": "code",
   "execution_count": null,
   "metadata": {},
   "outputs": [],
   "source": []
  }
 ],
 "metadata": {
  "kernelspec": {
   "display_name": "Python 3",
   "language": "python",
   "name": "python3"
  },
  "language_info": {
   "codemirror_mode": {
    "name": "ipython",
    "version": 3
   },
   "file_extension": ".py",
   "mimetype": "text/x-python",
   "name": "python",
   "nbconvert_exporter": "python",
   "pygments_lexer": "ipython3",
   "version": "3.12.1"
  }
 },
 "nbformat": 4,
 "nbformat_minor": 4
}
