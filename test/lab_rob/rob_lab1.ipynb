{
 "cells": [
  {
   "cell_type": "markdown",
   "metadata": {
    "tags": []
   },
   "source": [
    "## COMP2006 -- Graded Lab 1\n",
    "\n",
    "In this lab, you will gain some experience in **denoising** a dataset in the context of a specific objective. \n",
    "\n",
    "**Overall Objective**: Create a model that predicts rent prices as well as possible for typical New York City apartments."
   ]
  },
  {
   "cell_type": "markdown",
   "metadata": {},
   "source": [
    "**Data set**: make sure you use the data with the same number as your group number!\n",
    "\n",
    "| Group | Data set |\n",
    "| :-: | :-: |\n",
    "| 1 | rent_1.csv |\n",
    "| 2 | rent_2.csv |\n",
    "| etc. | etc. |\n",
    "\n",
    "**Important Notes:**\n",
    " - This lab is more open-ended so be prepared to think on your own, in a logical way, in order to solve the problem at hand\n",
    "     - You should be able to support any decision you make with logical evidence\n",
    " - The data looks like the data we have been using in class but it has other **surprises**\n",
    "     - Be sure to investigate the data in a way that allows you to discover all these surprises\n",
    " - Use [Chapter 5](https://mlbook.explained.ai/prep.html) of the textbook as a **guide**, except:\n",
    "     - you only need to use **random forest** models;\n",
    "     - exclude Section 5.5; \n",
    " - Code submitted for this lab should be:\n",
    "     - error free\n",
    "         - to make sure this is the case, before submitting, close all Jupyter notebooks, exit Anaconda, reload the lab notebook and execute all cells\n",
    "     - final code\n",
    "         - this means that I don't want to see every piece of code you try as you work through this lab but only the final code; only the code that fulfills the objective\n",
    " - Use the **out-of-bag score** to evaluate models\n",
    "     - Read Section 5.2 carefully so that you use this method properly\n",
    "     - The oob score that you provide should be the average of 10 runs\n",
    " - Don't make assumptions!\n",
    "\n",
    "I have broken the lab down into 4 main parts. "
   ]
  },
  {
   "cell_type": "markdown",
   "metadata": {},
   "source": [
    "### Part 0\n",
    "\n",
    "Please provide the following information:\n",
    " - Group Number: 7\n",
    " - Group Members\n",
    "     - Manuel Bishop Noriega 4362207\n",
    "     - Robert E. Matney III 4364229\n",
    "\n",
    "     "
   ]
  },
  {
   "cell_type": "markdown",
   "metadata": {},
   "source": [
    "### Part 1 - Create and evaluate an initial model\n",
    "\n",
    "#### Code (15 marks)"
   ]
  },
  {
   "cell_type": "code",
   "execution_count": 43,
   "metadata": {},
   "outputs": [
    {
     "name": "stdout",
     "output_type": "stream",
     "text": [
      "(20000, 16)\n",
      "0.0691\n",
      "OOB score -0.0067\n",
      "Valiation MAE trials:$1146$1028$1315$1094$1017$1319$966\n",
      "Average validation MAE $1126\n"
     ]
    }
   ],
   "source": [
    "# importing panda to the code, to use dataframes.\n",
    "import pandas as pd\n",
    "\n",
    "# getting the csv file rent opened in a DataFrame\n",
    "df = pd.read_csv(\"rent_7.csv\")\n",
    "\n",
    "# getting how many vectors/records are in the file\n",
    "print(df.shape)\n",
    "\n",
    "# creating table with just these columns of data with numbers\n",
    "# it would also be possible to convert non-numeric data to numbers if needed\n",
    "df_num = df[['bathrooms', 'bedrooms', 'longitude', 'latitude', 'price']]\n",
    "\n",
    "# separating features vector and target columns\n",
    "X_train = df_num.drop('price', axis=1)\n",
    "y_train = df_num['price']\n",
    "\n",
    "# creating an appropriate model with suitable hyper-parameters\n",
    "from sklearn.ensemble import RandomForestRegressor\n",
    "rf = RandomForestRegressor(n_estimators = 100, n_jobs = -1)\n",
    "\n",
    "# fit model to the training data\n",
    "rf.fit(X_train, y_train)\n",
    "\n",
    "# getting a relationship between X_train and y_train\n",
    "r2 = rf.score(X_train, y_train)\n",
    "print(f\"{r2:.4f}\")\n",
    "\n",
    "rf = RandomForestRegressor(n_estimators = 100, n_jobs = -1, oob_score = True)\n",
    "\n",
    "rf.fit(X_train, y_train)\n",
    "noisy_oob_r2 = rf.oob_score_\n",
    "print(f\"OOB score {noisy_oob_r2:.4f}\")\n",
    "\n",
    "from sklearn.model_selection import train_test_split\n",
    "from sklearn.metrics import mean_absolute_error\n",
    "import numpy as np\n",
    "\n",
    "X, y = df_num.drop('price', axis=1), df_num['price']\n",
    "\n",
    "errors = []\n",
    "print(f\"Valiation MAE trials:\", end='')\n",
    "for i in range(7):\n",
    "    X_train, X_test, y_train, y_test = \\\n",
    "        train_test_split(X, y, test_size=0.20)\n",
    "    rf = RandomForestRegressor(n_estimators=100, n_jobs=-1)\n",
    "    rf.fit(X_train, y_train)\n",
    "    y_predicted = rf.predict(X_test)\n",
    "    e = mean_absolute_error(y_test, y_predicted)\n",
    "    print(f\"${e:.0f}\", end='')\n",
    "    errors.append(e)\n",
    "print()\n",
    "noisy_avg_mae = np.mean(errors)\n",
    "print(f\"Average validation MAE ${noisy_avg_mae:.0f}\")\n",
    "\n"
   ]
  },
  {
   "cell_type": "markdown",
   "metadata": {},
   "source": [
    "#### Explanation (5 marks)\n",
    "\n",
    "Please provide an explanation and justification for the code submitted in **Part 1** in the context of the overall objective. \n",
    "\n",
    "To start with the was getting the numbe of data entery rows and columns in the csv file.\n",
    "\n",
    "Then we are training the machine based on the data that is given to look for a type of outcome. Trying to preform a model to help with trying to find a relationship between all of the data.\n",
    "\n",
    "Next we are trying to use the model and what the machine has learned from the model to predict the average apartmet rent price. \n",
    "\n",
    "Then we did several valiation trails for get different amount of data to get the MAE.\n",
    "\n",
    "From the data that is collected we get a MAE from that."
   ]
  },
  {
   "cell_type": "markdown",
   "metadata": {},
   "source": [
    "### Part 2 - Denoise the data\n",
    "\n",
    "This section should only include the code necessary to **denoise** the data, NOT the code necessary to identify inconsistencies, problems, errors, etc. in the data. \n",
    "\n",
    "#### Code (25 marks)"
   ]
  },
  {
   "cell_type": "code",
   "execution_count": 45,
   "metadata": {},
   "outputs": [
    {
     "name": "stdout",
     "output_type": "stream",
     "text": [
      "18699    4490000\n",
      "456      1150000\n",
      "11320     111111\n",
      "16876      85000\n",
      "6428       80000\n",
      "15663      55000\n",
      "11245      53100\n",
      "293        50550\n",
      "19042      39995\n",
      "10017      37000\n",
      "Name: price, dtype: int64\n",
      "bathrooms\n",
      "1.0    15985\n",
      "2.0     3124\n",
      "3.0      301\n",
      "1.5      242\n",
      "0.0      121\n",
      "2.5      109\n",
      "4.0       69\n",
      "3.5       33\n",
      "4.5        8\n",
      "5.0        5\n",
      "5.5        2\n",
      "6.0        1\n",
      "Name: count, dtype: int64\n",
      "bedrooms\n",
      "1    6388\n",
      "2    5918\n",
      "0    3826\n",
      "3    2942\n",
      "4     802\n",
      "5     100\n",
      "6      22\n",
      "8       2\n",
      "Name: count, dtype: int64\n"
     ]
    },
    {
     "data": {
      "image/png": "[encoded data removed]",
      "text/plain": [
       "<Figure size 640x480 with 1 Axes>"
      ]
     },
     "metadata": {},
     "output_type": "display_data"
    },
    {
     "name": "stdout",
     "output_type": "stream",
     "text": [
      "6\n"
     ]
    },
    {
     "data": {
      "image/png": "[encoded data removed]",
      "text/plain": [
       "<Figure size 640x480 with 1 Axes>"
      ]
     },
     "metadata": {},
     "output_type": "display_data"
    },
    {
     "data": {
      "image/png": "[encoded data removed]",
      "text/plain": [
       "<Figure size 640x480 with 1 Axes>"
      ]
     },
     "metadata": {},
     "output_type": "display_data"
    },
    {
     "name": "stdout",
     "output_type": "stream",
     "text": [
      "       bathrooms  bedrooms  longitude  latitude  price\n",
      "2253         1.0         2        0.0       0.0   3619\n",
      "4835         1.0         1        0.0       0.0   3600\n",
      "7027         1.0         2        0.0       0.0   3200\n",
      "8632         5.0         6        0.0       0.0   9995\n",
      "14826        1.0         1        0.0       0.0   1725\n",
      "19735        1.0         1        0.0       0.0   3495\n"
     ]
    }
   ],
   "source": [
    "import matplotlib.pyplot as plt\n",
    "df_num.describe()\n",
    "\n",
    "print(df_num.price.sort_values(ascending=False).head(10))\n",
    "print(df_num.bathrooms.value_counts())  \n",
    "print(df_num.bedrooms.value_counts())\n",
    "\n",
    "bookcolors = { # our usual book color palette\n",
    "        'crimson': '#a50026', 'red': '#d73027', 'redorange': \n",
    "        '#f46d43', 'orange': '#fdae61', 'yellow': '#fee090', \n",
    "        'sky': '#e0f3f8', 'babyblue': '#abd9e9', 'lightblue': \n",
    "        '#74add1', 'blue': '#4575b4', 'purple': '#313695'}\n",
    "\n",
    "#creating a graph to see for the bedrooms \n",
    "fig,ax = plt.subplots()\n",
    "ax.set_xlabel('Num Bedrooms')\n",
    "ax.set_ylabel('Num Apts')\n",
    "ax.hist(df_num.bedrooms, color=bookcolors['blue'])\n",
    "plt.show()\n",
    "\n",
    "#looking at the number of apartments with the error of the longitude and latitude\n",
    "print(len(df[(df.longitude==0.0) & (df.latitude==0.0)]))\n",
    "\n",
    "# looking for apartments in a local as well as with 1 bedroom and one bathroom\n",
    "df_local = df[(df.latitude>40.746) & (df.latitude<40.7678) & \n",
    "        (df.longitude>=-73.9844) & (df.longitude<=-73.9842) &\n",
    "        (df.bathrooms==1) & (df.bedrooms==1)]\n",
    "\n",
    "df_local[['bedrooms', 'bathrooms','street_address','price']].sort_values('price')\n",
    "\n",
    "# filter all record(training/testing)\n",
    "df_clean = df_num[(df_num.price>1_000) & (df_num.price<10_000)]\n",
    "\n",
    "# create a graph for the prices in the df_clean\n",
    "fig,ax = plt.subplots()\n",
    "ax.set_xlabel('Clipped Price')\n",
    "ax.set_ylabel('Num Apts at that price')\n",
    "ax.hist(df_clean.price, bins=45, color=bookcolors['blue'])\n",
    "plt.show()\n",
    "\n",
    "upper, lower = np.percentile(df.price, [1,99]) \n",
    "clipped = np.clip(df.price, upper, lower)\n",
    "fig,ax = plt.subplots()\n",
    "ax.set_xlabel('Prices in middle 98% range')\n",
    "ax.set_ylabel('Num Apts at that price')\n",
    "ax.hist(clipped, bins=45, color=bookcolors['blue'])\n",
    "plt.show()\n",
    "\n",
    "df_missing = df_clean[(df_clean.longitude==0) | (df_clean.latitude==0)]\n",
    "print(df_missing)\n",
    "\n",
    "#df_clean = df_clean[(df_clean.longitude!=0) | (df_clean.latitude!=0)]\n",
    "\n",
    "df_clean = df_clean[(df_clean['latitude']>40.55) &\n",
    "        (df_clean['latitude']<40.94) &\n",
    "        (df_clean['longitude']>-74.1) &\n",
    "        (df_clean['longitude']<-73.67)]\n",
    "#print(len(df_clean))\n",
    "#print(df_num.price[(df_num.price>0)&(df_num.price<2000)])"
   ]
  },
  {
   "cell_type": "markdown",
   "metadata": {},
   "source": [
    "### Part 3 - Create and evaluate a final model\n",
    "\n",
    "#### Code (15 marks)"
   ]
  },
  {
   "cell_type": "code",
   "execution_count": null,
   "metadata": {},
   "outputs": [],
   "source": [
    "X, y = df_clean.drop('price', axis=1), df_clean['price']\n",
    "rf = RandomForestRegressor(n_estimators=100, n_jobs=-1, #parallelize\n",
    "                    oob_score=True) # get error estimate\n",
    "rf.fit(X, y)\n",
    "clean_oob_r2 = rf.oob_score_\n",
    "print(f\"Valiation OOB score {clean_oob_r2: 4f}\")\n",
    "\n",
    "errors = []\n",
    "print(f\"Valiation MAE trials:\", end='')\n",
    "for i in range(7):\n",
    "    X_train, X_test, y_train, y_test = \\\n",
    "        train_test_split(X, y, test_size=0.20)\n",
    "    rf = RandomForestRegressor(n_estimators=100, n_jobs=-1)\n",
    "    rf.fit(X_train, y_train)\n",
    "    y_predicted = rf.predict(X_test)\n",
    "    e = mean_absolute_error(y_test, y_predicted)\n",
    "    print(f\"${e:.0f}\", end='')\n",
    "    errors.append(e)\n",
    "print()\n",
    "noisy_avg_mae = np.mean(errors)\n",
    "print(f\"Average validation MAE ${noisy_avg_mae:.0f}\")\n",
    "\n",
    "from sklearn.linear_model import Lasso\n",
    "\n",
    "X_train, X_test, y_train, y_test = train_test_split(X, y, test_size=0.20)\n",
    "lm = Lasso(alpha=0.5) # create linear model\n",
    "lm.fit(X_train, y_train)\n",
    "print(f\"LM Training score {lm.score(X_train, y_train):.4f}\")\n",
    "print(f\"LM Validation score {lm.score(X_test, y_test):.4f}\")\n",
    "\n",
    "from sklearn.ensemble import GradientBoostingRegressor\n",
    "\n",
    "gbr = GradientBoostingRegressor(n_estimators = 2000)\n",
    "gbr.fit(X_train, y_train)\n",
    "print(f\"GB Training score {gbr.score(X_train, y_train):.4f}\")\n",
    "print(f\"GB Validation score {gbr.score(X_test, y_test):.4f}\")"
   ]
  },
  {
   "cell_type": "markdown",
   "metadata": {},
   "source": [
    "#### Explanation (5 marks)\n",
    "\n",
    "Please provide an explanation and justification for the code submitted in **Part 3** in the context of the overall objective. \n",
    "\n",
    "To start with we are trying to clean up some of the outliner in the data.\n",
    "Then you run it to see how much it seemed to clean up the data.\n",
    "\n",
    "Then the Lasso is a linear model to see if it will pull the data in a better way and see it if gives a better score. It does not.\n",
    "\n",
    "Then we tried the gradient boosting model to see if it would give a different score for the data.  It did not do any better either."
   ]
  },
  {
   "cell_type": "markdown",
   "metadata": {},
   "source": [
    "### Part 4 - Document the problems (35 marks)\n",
    "\n",
    "In this part, please use the table below to document your understanding of all the data issues you discovered. Note that **no code** should be included, as that should be covered in **Part 2**. Also, note that even if one line of code fixed a few problems, you should list each problem separately in the table below, so be sure you have investigated the data properly. For example, if the list `[-6, 5, 0, 50]` represents heights of adults, the -6, 0, and 50 would represent three data issues to be included in the table below, even though one line of code may be able to address all of them. \n",
    "\n",
    "| Data issue discovered | Why is this a problem? | How did you fix it? | Why is this fix appropriate? |\n",
    "| :- | :- | :- | :- | \n",
    "| example problem 1: The longitude and Latitude both have some data entry that have 0.  | Which is this impossible because if it was the case then those apartments would not be in the area of New York but somewhere out in the Ocean or the equator. |  So, what needs to be done is to find all the data entry sets that have either the longitude or latitudeset as 0 and remove them from the model. | This fix is appropriate because those data sets with those number could be good data in the rest of the columns. The data could have been entered wrong or mistyped. |\n",
    "|  example problem 2: The such degree in the price being so low to the price being so high to get the mead of the price of apartments rentals. | The problem with there be extreme low prices and extreme high prices is that it throws off the mean average price for the apartments rentals.    | So in order to fix this you can remove the lower 1 % and the upper 1% as well. | What this will do is help remove any mistakes that could have been made in either mistyping or just given the wrong data by accident. |\n"
   ]
  }
 ],
 "metadata": {
  "kernelspec": {
   "display_name": "Python 3 (ipykernel)",
   "language": "python",
   "name": "python3"
  },
  "language_info": {
   "codemirror_mode": {
    "name": "ipython",
    "version": 3
   },
   "file_extension": ".py",
   "mimetype": "text/x-python",
   "name": "python",
   "nbconvert_exporter": "python",
   "pygments_lexer": "ipython3",
   "version": "3.12.1"
  }
 },
 "nbformat": 4,
 "nbformat_minor": 4
}
