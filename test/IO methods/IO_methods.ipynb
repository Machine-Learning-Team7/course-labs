{
 "cells": [
  {
   "cell_type": "markdown",
   "id": "3678d6f7-c677-4a9c-9367-c0b520e797bd",
   "metadata": {},
   "source": [
    "# Basic I/O Methods"
   ]
  },
  {
   "cell_type": "markdown",
   "id": "54f275d7-926f-4bda-9b77-b60af6771f85",
   "metadata": {},
   "source": [
    "### Reading text files"
   ]
  },
  {
   "cell_type": "code",
   "execution_count": 3,
   "id": "c74d1139-bb57-472b-adc4-6fb45f0bcd43",
   "metadata": {
    "tags": []
   },
   "outputs": [
    {
     "data": {
      "text/plain": [
       "\"HOla hola caquita In the quiet halls of Ivy Tech University, where the hum of fluorescent lights intermingles with the soft clicks of keyboards, lived a young college student named Emma. Fueled by a passion for problem-solving and a desire to explore the world of programming, Emma embarked on a journey to learn Python. Little did she know, the path ahead was fraught with challenges that would test her patience and resilience.\\n\\nEmma's first encounter with Python felt like deciphering an alien language. Indentations, loops, and syntax danced before her eyes, like an intricate puzzle with missing pieces. Frustration gnawed at her determination, and doubt cast its shadow over her ambitions. The seemingly insurmountable wall of code left her feeling defeated, questioning whether she was cut out for the world of programming.\\n\\nUndeterred, Emma sought refuge in the campus library, burying herself in Python textbooks and online tutorials. Late nights blurred into early mornings as she wrestled with concepts that seemed to slip through her fingers like elusive shadows. Debugging became her nightly ritual, and each error message became a stepping stone in her tumultuous journey.\\n\\nAs Emma grappled with the intricacies of Python, a supportive community of peers and mentors emerged. Coding forums became a sanctuary where she could share her struggles and receive guidance from experienced programmers. Through collaborative efforts, Emma discovered that she was not alone in her journey. Others had faced similar frustrations, and their shared experiences provided the camaraderie she needed to persevere.\\n\\nThe breakthrough Emma longed for arrived during a coding marathon in the university's computer lab. As lines of code flowed from her fingertips, a sense of accomplishment enveloped her. The once enigmatic language now seemed like a familiar companion, and the once-daunting challenges transformed into stepping stones towards mastery. Emma's persistence and determination had paid off.\\n\\nIn the end, Emma not only conquered Python but also found a newfound confidence in her ability to navigate the vast landscape of programming. Her journey was a testament to the transformative power of perseverance, community support, and a passion for learning. As she proudly submitted her final project, Emma realized that the frustrations and challenges she faced were not obstacles but rather essential components of her success story in the world of Python programming.\""
      ]
     },
     "execution_count": 3,
     "metadata": {},
     "output_type": "execute_result"
    }
   ],
   "source": [
    "with open('emmas_story.txt') as f:  # file is closed automatically after execution or an error\n",
    "    text_str = f.read()\n",
    "\n",
    "text_str"
   ]
  },
  {
   "cell_type": "code",
   "execution_count": 4,
   "id": "de531e09-c54a-44b6-9ae9-eb4511cb19ef",
   "metadata": {
    "tags": []
   },
   "outputs": [
    {
     "data": {
      "text/plain": [
       "'HOla hola caquita In the quiet'"
      ]
     },
     "execution_count": 4,
     "metadata": {},
     "output_type": "execute_result"
    }
   ],
   "source": [
    "with open('emmas_story.txt') as f: \n",
    "    text_ch = f.read(30)\n",
    "\n",
    "text_ch"
   ]
  },
  {
   "cell_type": "code",
   "execution_count": 5,
   "id": "f752758f-5756-452b-9d8c-a1eac13a7d2b",
   "metadata": {
    "tags": []
   },
   "outputs": [
    {
     "data": {
      "text/plain": [
       "['HOla hola caquita In the quiet halls of Ivy Tech University, where the hum of fluorescent lights intermingles with the soft clicks of keyboards, lived a young college student named Emma. Fueled by a passion for problem-solving and a desire to explore the world of programming, Emma embarked on a journey to learn Python. Little did she know, the path ahead was fraught with challenges that would test her patience and resilience.\\n',\n",
       " '\\n',\n",
       " \"Emma's first encounter with Python felt like deciphering an alien language. Indentations, loops, and syntax danced before her eyes, like an intricate puzzle with missing pieces. Frustration gnawed at her determination, and doubt cast its shadow over her ambitions. The seemingly insurmountable wall of code left her feeling defeated, questioning whether she was cut out for the world of programming.\\n\",\n",
       " '\\n',\n",
       " 'Undeterred, Emma sought refuge in the campus library, burying herself in Python textbooks and online tutorials. Late nights blurred into early mornings as she wrestled with concepts that seemed to slip through her fingers like elusive shadows. Debugging became her nightly ritual, and each error message became a stepping stone in her tumultuous journey.\\n',\n",
       " '\\n',\n",
       " 'As Emma grappled with the intricacies of Python, a supportive community of peers and mentors emerged. Coding forums became a sanctuary where she could share her struggles and receive guidance from experienced programmers. Through collaborative efforts, Emma discovered that she was not alone in her journey. Others had faced similar frustrations, and their shared experiences provided the camaraderie she needed to persevere.\\n',\n",
       " '\\n',\n",
       " \"The breakthrough Emma longed for arrived during a coding marathon in the university's computer lab. As lines of code flowed from her fingertips, a sense of accomplishment enveloped her. The once enigmatic language now seemed like a familiar companion, and the once-daunting challenges transformed into stepping stones towards mastery. Emma's persistence and determination had paid off.\\n\",\n",
       " '\\n',\n",
       " 'In the end, Emma not only conquered Python but also found a newfound confidence in her ability to navigate the vast landscape of programming. Her journey was a testament to the transformative power of perseverance, community support, and a passion for learning. As she proudly submitted her final project, Emma realized that the frustrations and challenges she faced were not obstacles but rather essential components of her success story in the world of Python programming.']"
      ]
     },
     "execution_count": 5,
     "metadata": {},
     "output_type": "execute_result"
    }
   ],
   "source": [
    "with open('emmas_story.txt') as f:  \n",
    "    text_lst_1 = f.readlines()\n",
    "\n",
    "text_lst_1"
   ]
  },
  {
   "cell_type": "code",
   "execution_count": 4,
   "id": "0060b5e0-e340-4a33-adb8-c65df768fc31",
   "metadata": {
    "tags": []
   },
   "outputs": [
    {
     "data": {
      "text/plain": [
       "['In the quiet halls of Ivy Tech University, where the hum of fluorescent lights intermingles with the soft clicks of keyboards, lived a young college student named Emma. Fueled by a passion for problem-solving and a desire to explore the world of programming, Emma embarked on a journey to learn Python. Little did she know, the path ahead was fraught with challenges that would test her patience and resilience.\\n',\n",
       " '\\n',\n",
       " \"Emma's first encounter with Python felt like deciphering an alien language. Indentations, loops, and syntax danced before her eyes, like an intricate puzzle with missing pieces. Frustration gnawed at her determination, and doubt cast its shadow over her ambitions. The seemingly insurmountable wall of code left her feeling defeated, questioning whether she was cut out for the world of programming.\\n\",\n",
       " '\\n',\n",
       " 'Undeterred, Emma sought refuge in the campus library, burying herself in Python textbooks and online tutorials. Late nights blurred into early mornings as she wrestled with concepts that seemed to slip through her fingers like elusive shadows. Debugging became her nightly ritual, and each error message became a stepping stone in her tumultuous journey.\\n',\n",
       " '\\n',\n",
       " 'As Emma grappled with the intricacies of Python, a supportive community of peers and mentors emerged. Coding forums became a sanctuary where she could share her struggles and receive guidance from experienced programmers. Through collaborative efforts, Emma discovered that she was not alone in her journey. Others had faced similar frustrations, and their shared experiences provided the camaraderie she needed to persevere.\\n',\n",
       " '\\n',\n",
       " \"The breakthrough Emma longed for arrived during a coding marathon in the university's computer lab. As lines of code flowed from her fingertips, a sense of accomplishment enveloped her. The once enigmatic language now seemed like a familiar companion, and the once-daunting challenges transformed into stepping stones towards mastery. Emma's persistence and determination had paid off.\\n\",\n",
       " '\\n',\n",
       " 'In the end, Emma not only conquered Python but also found a newfound confidence in her ability to navigate the vast landscape of programming. Her journey was a testament to the transformative power of perseverance, community support, and a passion for learning. As she proudly submitted her final project, Emma realized that the frustrations and challenges she faced were not obstacles but rather essential components of her success story in the world of Python programming.']"
      ]
     },
     "execution_count": 4,
     "metadata": {},
     "output_type": "execute_result"
    }
   ],
   "source": [
    "with open('emmas_story.txt') as f:  \n",
    "    text_lst_2 = list(f)\n",
    "\n",
    "text_lst_2"
   ]
  },
  {
   "cell_type": "code",
   "execution_count": 5,
   "id": "2295496a-ed2b-4df6-99d1-cb51219fd05a",
   "metadata": {
    "tags": []
   },
   "outputs": [
    {
     "data": {
      "text/plain": [
       "True"
      ]
     },
     "execution_count": 5,
     "metadata": {},
     "output_type": "execute_result"
    }
   ],
   "source": [
    "text_lst_1 == text_lst_2"
   ]
  },
  {
   "cell_type": "code",
   "execution_count": 6,
   "id": "e78bdbf9-3e63-44f2-bf8f-167e3d1821eb",
   "metadata": {
    "tags": []
   },
   "outputs": [
    {
     "name": "stdout",
     "output_type": "stream",
     "text": [
      "In the quiet halls of Ivy Tech University, where the hum of fluorescent lights intermingles with the soft clicks of keyboards, lived a young college student named Emma. Fueled by a passion for problem-solving and a desire to explore the world of programming, Emma embarked on a journey to learn Python. Little did she know, the path ahead was fraught with challenges that would test her patience and resilience.\n",
      "\n",
      "\n",
      "\n",
      "Emma's first encounter with Python felt like deciphering an alien language. Indentations, loops, and syntax danced before her eyes, like an intricate puzzle with missing pieces. Frustration gnawed at her determination, and doubt cast its shadow over her ambitions. The seemingly insurmountable wall of code left her feeling defeated, questioning whether she was cut out for the world of programming.\n",
      "\n",
      "\n",
      "\n",
      "Undeterred, Emma sought refuge in the campus library, burying herself in Python textbooks and online tutorials. Late nights blurred into early mornings as she wrestled with concepts that seemed to slip through her fingers like elusive shadows. Debugging became her nightly ritual, and each error message became a stepping stone in her tumultuous journey.\n",
      "\n",
      "\n",
      "\n",
      "As Emma grappled with the intricacies of Python, a supportive community of peers and mentors emerged. Coding forums became a sanctuary where she could share her struggles and receive guidance from experienced programmers. Through collaborative efforts, Emma discovered that she was not alone in her journey. Others had faced similar frustrations, and their shared experiences provided the camaraderie she needed to persevere.\n",
      "\n",
      "\n",
      "\n",
      "The breakthrough Emma longed for arrived during a coding marathon in the university's computer lab. As lines of code flowed from her fingertips, a sense of accomplishment enveloped her. The once enigmatic language now seemed like a familiar companion, and the once-daunting challenges transformed into stepping stones towards mastery. Emma's persistence and determination had paid off.\n",
      "\n",
      "\n",
      "\n",
      "In the end, Emma not only conquered Python but also found a newfound confidence in her ability to navigate the vast landscape of programming. Her journey was a testament to the transformative power of perseverance, community support, and a passion for learning. As she proudly submitted her final project, Emma realized that the frustrations and challenges she faced were not obstacles but rather essential components of her success story in the world of Python programming.\n"
     ]
    }
   ],
   "source": [
    "with open('emmas_story.txt') as f:\n",
    "    for line in f:\n",
    "        print(line)"
   ]
  },
  {
   "cell_type": "markdown",
   "id": "0244eea1-318a-447d-9d2b-aba8664e3f7f",
   "metadata": {
    "tags": []
   },
   "source": [
    "### Writing text files\n",
    "\n",
    "#### As a string"
   ]
  },
  {
   "cell_type": "code",
   "execution_count": 7,
   "id": "4da56e70-215f-4501-aca7-35a90e7a292c",
   "metadata": {
    "tags": []
   },
   "outputs": [],
   "source": [
    "import string\n",
    "\n",
    "punct = string.punctuation\n",
    "\n",
    "text_str = text_str.lower()\n",
    "\n",
    "for ch in punct:\n",
    "    text_str = text_str.replace(ch, '')"
   ]
  },
  {
   "cell_type": "code",
   "execution_count": 8,
   "id": "8fb641c7",
   "metadata": {},
   "outputs": [],
   "source": [
    "with open('new_text.txt', 'w') as f:\n",
    "    f.write(text_str)"
   ]
  },
  {
   "cell_type": "markdown",
   "id": "79f0459d",
   "metadata": {},
   "source": [
    "#### As a list of strings"
   ]
  },
  {
   "cell_type": "code",
   "execution_count": null,
   "id": "ba450446-8881-46d2-9d12-68854d5dac49",
   "metadata": {},
   "outputs": [],
   "source": [
    "text_str_lst = text_str.split(\"\\n\")"
   ]
  },
  {
   "cell_type": "code",
   "execution_count": null,
   "id": "f046f298-d101-4005-8d56-8bac4c5cd2c5",
   "metadata": {
    "tags": []
   },
   "outputs": [],
   "source": [
    "with open(\"newer_text.txt\", 'w') as f:\n",
    "    f.writelines(newer_text)"
   ]
  },
  {
   "cell_type": "markdown",
   "id": "c857532d-0e8c-45f7-a693-f8e52f2d5240",
   "metadata": {},
   "source": [
    "### Reading csv files"
   ]
  },
  {
   "cell_type": "markdown",
   "id": "97dd0a54-d814-49a5-943c-3136cda85ca3",
   "metadata": {},
   "source": [
    "#### As text file"
   ]
  },
  {
   "cell_type": "code",
   "execution_count": 7,
   "id": "e1a92839-db85-498d-a1e7-9cb95270282e",
   "metadata": {
    "tags": []
   },
   "outputs": [
    {
     "data": {
      "text/plain": [
       "'bedrooms,bathrooms,latitude,longitude,price\\n1,1,40.7108,-73.9539,2400\\n2,1,40.7513,-73.9722,3800\\n2,1,40.7575,-73.9625,3495\\n3,1.5,40.7145,-73.9425,3000\\n0,1,40.7439,-73.9743,2795\\n3,1,40.7348,-73.9865,7200\\n3,2,40.7302,-73.9826,6000\\n0,1,40.7769,-73.9467,1945\\n1,0,40.7346,-73.9811,2435\\n3,3,40.699,-73.9943,6850\\n0,1,40.7723,-73.951,2785\\n2,1,40.753,-73.9959,3100\\n0,1,40.761,-73.999,2400\\n1,1,40.7277,-74,2750\\n2,2,40.7633,-73.9596,5465\\n0,1,40.7073,-73.9665,3150\\n2,1,40.7528,-73.9709,3750\\n3,1,40.736,-73.986,4450\\n1,1,40.783,-73.9828,3200\\n1,1,40.7621,-73.9486,2495\\n0,1,40.746,-73.9754,2195\\n2,2,40.7456,-74.0053,5975\\n1,1,40.7685,-73.9895,4960\\n1,1,40.7319,-73.9817,3362\\n1,1,40.7709,-73.9496,2700\\n3,2,40.7352,-73.9832,5500\\n2,1,40.7084,-74.0048,5425\\n2,1,40.7735,-73.9509,3250\\n0,1,40.7708,-73.9576,2350\\n2,1,40.7585,-73.9913,3395\\n2,1,40.7223,-73.9966,4000\\n0,1,40.7743,-73.9875,1495\\n4,1,40.8031,-73.9653,5200\\n1,1,40.7185,-73.9865,2900\\n3,1,40.645,-73.9984,2200\\n2,1,40.6455,-73.961,2475\\n1,1,40.7633,-73.9932,2895\\n0,1,40.771,-73.9553,1750\\n3,2,40.6678,-73.9398,3050\\n0,1,40.7398,-73.9811,3850\\n3,1,40.6956,-73.9227,2400\\n1,1,40.7751,-73.9886,3925\\n2,1,40.7931,-73.9715,2795\\n1,1,40.7287,-73.981,2850\\n1,1,40.7528,-73.9709,2985\\n1,1,40.7852,-73.949,4400\\n1,1,40.7074,-74.0069,3620\\n4,3,40.7024,-73.9279,4200\\n3,2,40.7754,-73.9509,4995\\n0,1,40.7656,-73.9582,1895\\n'"
      ]
     },
     "execution_count": 7,
     "metadata": {},
     "output_type": "execute_result"
    }
   ],
   "source": [
    "with open('rent-ideal.csv') as f:\n",
    "    data = f.read()\n",
    "    \n",
    "data"
   ]
  },
  {
   "cell_type": "markdown",
   "id": "40be6edc-6e11-4d05-a2bb-961600a83384",
   "metadata": {},
   "source": [
    "#### As text file: line by line"
   ]
  },
  {
   "cell_type": "code",
   "execution_count": 8,
   "id": "f29eade1-49aa-455e-a80d-99414bfba53d",
   "metadata": {
    "tags": []
   },
   "outputs": [
    {
     "data": {
      "text/plain": [
       "['bedrooms,bathrooms,latitude,longitude,price\\n',\n",
       " '1,1,40.7108,-73.9539,2400\\n',\n",
       " '2,1,40.7513,-73.9722,3800\\n',\n",
       " '2,1,40.7575,-73.9625,3495\\n',\n",
       " '3,1.5,40.7145,-73.9425,3000\\n',\n",
       " '0,1,40.7439,-73.9743,2795\\n',\n",
       " '3,1,40.7348,-73.9865,7200\\n',\n",
       " '3,2,40.7302,-73.9826,6000\\n',\n",
       " '0,1,40.7769,-73.9467,1945\\n',\n",
       " '1,0,40.7346,-73.9811,2435\\n',\n",
       " '3,3,40.699,-73.9943,6850\\n',\n",
       " '0,1,40.7723,-73.951,2785\\n',\n",
       " '2,1,40.753,-73.9959,3100\\n',\n",
       " '0,1,40.761,-73.999,2400\\n',\n",
       " '1,1,40.7277,-74,2750\\n',\n",
       " '2,2,40.7633,-73.9596,5465\\n',\n",
       " '0,1,40.7073,-73.9665,3150\\n',\n",
       " '2,1,40.7528,-73.9709,3750\\n',\n",
       " '3,1,40.736,-73.986,4450\\n',\n",
       " '1,1,40.783,-73.9828,3200\\n',\n",
       " '1,1,40.7621,-73.9486,2495\\n',\n",
       " '0,1,40.746,-73.9754,2195\\n',\n",
       " '2,2,40.7456,-74.0053,5975\\n',\n",
       " '1,1,40.7685,-73.9895,4960\\n',\n",
       " '1,1,40.7319,-73.9817,3362\\n',\n",
       " '1,1,40.7709,-73.9496,2700\\n',\n",
       " '3,2,40.7352,-73.9832,5500\\n',\n",
       " '2,1,40.7084,-74.0048,5425\\n',\n",
       " '2,1,40.7735,-73.9509,3250\\n',\n",
       " '0,1,40.7708,-73.9576,2350\\n',\n",
       " '2,1,40.7585,-73.9913,3395\\n',\n",
       " '2,1,40.7223,-73.9966,4000\\n',\n",
       " '0,1,40.7743,-73.9875,1495\\n',\n",
       " '4,1,40.8031,-73.9653,5200\\n',\n",
       " '1,1,40.7185,-73.9865,2900\\n',\n",
       " '3,1,40.645,-73.9984,2200\\n',\n",
       " '2,1,40.6455,-73.961,2475\\n',\n",
       " '1,1,40.7633,-73.9932,2895\\n',\n",
       " '0,1,40.771,-73.9553,1750\\n',\n",
       " '3,2,40.6678,-73.9398,3050\\n',\n",
       " '0,1,40.7398,-73.9811,3850\\n',\n",
       " '3,1,40.6956,-73.9227,2400\\n',\n",
       " '1,1,40.7751,-73.9886,3925\\n',\n",
       " '2,1,40.7931,-73.9715,2795\\n',\n",
       " '1,1,40.7287,-73.981,2850\\n',\n",
       " '1,1,40.7528,-73.9709,2985\\n',\n",
       " '1,1,40.7852,-73.949,4400\\n',\n",
       " '1,1,40.7074,-74.0069,3620\\n',\n",
       " '4,3,40.7024,-73.9279,4200\\n',\n",
       " '3,2,40.7754,-73.9509,4995\\n',\n",
       " '0,1,40.7656,-73.9582,1895\\n']"
      ]
     },
     "execution_count": 8,
     "metadata": {},
     "output_type": "execute_result"
    }
   ],
   "source": [
    "with open('rent-ideal.csv') as f:\n",
    "    data = f.readlines()\n",
    "    \n",
    "data"
   ]
  },
  {
   "cell_type": "markdown",
   "id": "044db3fd-0718-4cd9-845e-36b6d7f0f063",
   "metadata": {},
   "source": [
    "### As csv file: list of lists"
   ]
  },
  {
   "cell_type": "code",
   "execution_count": 9,
   "id": "54572c45-dccd-438f-9e79-90e5bcbfd2a4",
   "metadata": {
    "tags": []
   },
   "outputs": [
    {
     "name": "stdout",
     "output_type": "stream",
     "text": [
      "['bedrooms', 'bathrooms', 'latitude', 'longitude', 'price']\n",
      "['1', '1', '40.7108', '-73.9539', '2400']\n",
      "['2', '1', '40.7513', '-73.9722', '3800']\n",
      "['2', '1', '40.7575', '-73.9625', '3495']\n",
      "['3', '1.5', '40.7145', '-73.9425', '3000']\n",
      "['0', '1', '40.7439', '-73.9743', '2795']\n",
      "['3', '1', '40.7348', '-73.9865', '7200']\n",
      "['3', '2', '40.7302', '-73.9826', '6000']\n",
      "['0', '1', '40.7769', '-73.9467', '1945']\n",
      "['1', '0', '40.7346', '-73.9811', '2435']\n",
      "['3', '3', '40.699', '-73.9943', '6850']\n",
      "['0', '1', '40.7723', '-73.951', '2785']\n",
      "['2', '1', '40.753', '-73.9959', '3100']\n",
      "['0', '1', '40.761', '-73.999', '2400']\n",
      "['1', '1', '40.7277', '-74', '2750']\n",
      "['2', '2', '40.7633', '-73.9596', '5465']\n",
      "['0', '1', '40.7073', '-73.9665', '3150']\n",
      "['2', '1', '40.7528', '-73.9709', '3750']\n",
      "['3', '1', '40.736', '-73.986', '4450']\n",
      "['1', '1', '40.783', '-73.9828', '3200']\n",
      "['1', '1', '40.7621', '-73.9486', '2495']\n",
      "['0', '1', '40.746', '-73.9754', '2195']\n",
      "['2', '2', '40.7456', '-74.0053', '5975']\n",
      "['1', '1', '40.7685', '-73.9895', '4960']\n",
      "['1', '1', '40.7319', '-73.9817', '3362']\n",
      "['1', '1', '40.7709', '-73.9496', '2700']\n",
      "['3', '2', '40.7352', '-73.9832', '5500']\n",
      "['2', '1', '40.7084', '-74.0048', '5425']\n",
      "['2', '1', '40.7735', '-73.9509', '3250']\n",
      "['0', '1', '40.7708', '-73.9576', '2350']\n",
      "['2', '1', '40.7585', '-73.9913', '3395']\n",
      "['2', '1', '40.7223', '-73.9966', '4000']\n",
      "['0', '1', '40.7743', '-73.9875', '1495']\n",
      "['4', '1', '40.8031', '-73.9653', '5200']\n",
      "['1', '1', '40.7185', '-73.9865', '2900']\n",
      "['3', '1', '40.645', '-73.9984', '2200']\n",
      "['2', '1', '40.6455', '-73.961', '2475']\n",
      "['1', '1', '40.7633', '-73.9932', '2895']\n",
      "['0', '1', '40.771', '-73.9553', '1750']\n",
      "['3', '2', '40.6678', '-73.9398', '3050']\n",
      "['0', '1', '40.7398', '-73.9811', '3850']\n",
      "['3', '1', '40.6956', '-73.9227', '2400']\n",
      "['1', '1', '40.7751', '-73.9886', '3925']\n",
      "['2', '1', '40.7931', '-73.9715', '2795']\n",
      "['1', '1', '40.7287', '-73.981', '2850']\n",
      "['1', '1', '40.7528', '-73.9709', '2985']\n",
      "['1', '1', '40.7852', '-73.949', '4400']\n",
      "['1', '1', '40.7074', '-74.0069', '3620']\n",
      "['4', '3', '40.7024', '-73.9279', '4200']\n",
      "['3', '2', '40.7754', '-73.9509', '4995']\n",
      "['0', '1', '40.7656', '-73.9582', '1895']\n"
     ]
    },
    {
     "data": {
      "text/plain": [
       "[['bedrooms', 'bathrooms', 'latitude', 'longitude', 'price'],\n",
       " ['1', '1', '40.7108', '-73.9539', '2400'],\n",
       " ['2', '1', '40.7513', '-73.9722', '3800'],\n",
       " ['2', '1', '40.7575', '-73.9625', '3495'],\n",
       " ['3', '1.5', '40.7145', '-73.9425', '3000']]"
      ]
     },
     "execution_count": 9,
     "metadata": {},
     "output_type": "execute_result"
    }
   ],
   "source": [
    "import csv\n",
    "\n",
    "rent = []\n",
    "\n",
    "with open('rent-ideal.csv') as f:\n",
    "    csv_reader = csv.reader(f)\n",
    "    for row in csv_reader:\n",
    "        print(row)  \n",
    "        rent.append(row)\n",
    "\n",
    "rent[0:5]    "
   ]
  },
  {
   "cell_type": "code",
   "execution_count": 10,
   "metadata": {},
   "outputs": [
    {
     "name": "stdout",
     "output_type": "stream",
     "text": [
      "[['bedrooms', 'bathrooms', 'latitude', 'longitude', 'price'], ['1', '1', '40.7108', '-73.9539', '2400'], ['2', '1', '40.7513', '-73.9722', '3800'], ['2', '1', '40.7575', '-73.9625', '3495'], ['3', '1.5', '40.7145', '-73.9425', '3000'], ['0', '1', '40.7439', '-73.9743', '2795'], ['3', '1', '40.7348', '-73.9865', '7200'], ['3', '2', '40.7302', '-73.9826', '6000'], ['0', '1', '40.7769', '-73.9467', '1945'], ['1', '0', '40.7346', '-73.9811', '2435'], ['3', '3', '40.699', '-73.9943', '6850'], ['0', '1', '40.7723', '-73.951', '2785'], ['2', '1', '40.753', '-73.9959', '3100'], ['0', '1', '40.761', '-73.999', '2400'], ['1', '1', '40.7277', '-74', '2750'], ['2', '2', '40.7633', '-73.9596', '5465'], ['0', '1', '40.7073', '-73.9665', '3150'], ['2', '1', '40.7528', '-73.9709', '3750'], ['3', '1', '40.736', '-73.986', '4450'], ['1', '1', '40.783', '-73.9828', '3200'], ['1', '1', '40.7621', '-73.9486', '2495'], ['0', '1', '40.746', '-73.9754', '2195'], ['2', '2', '40.7456', '-74.0053', '5975'], ['1', '1', '40.7685', '-73.9895', '4960'], ['1', '1', '40.7319', '-73.9817', '3362'], ['1', '1', '40.7709', '-73.9496', '2700'], ['3', '2', '40.7352', '-73.9832', '5500'], ['2', '1', '40.7084', '-74.0048', '5425'], ['2', '1', '40.7735', '-73.9509', '3250'], ['0', '1', '40.7708', '-73.9576', '2350'], ['2', '1', '40.7585', '-73.9913', '3395'], ['2', '1', '40.7223', '-73.9966', '4000'], ['0', '1', '40.7743', '-73.9875', '1495'], ['4', '1', '40.8031', '-73.9653', '5200'], ['1', '1', '40.7185', '-73.9865', '2900'], ['3', '1', '40.645', '-73.9984', '2200'], ['2', '1', '40.6455', '-73.961', '2475'], ['1', '1', '40.7633', '-73.9932', '2895'], ['0', '1', '40.771', '-73.9553', '1750'], ['3', '2', '40.6678', '-73.9398', '3050'], ['0', '1', '40.7398', '-73.9811', '3850'], ['3', '1', '40.6956', '-73.9227', '2400'], ['1', '1', '40.7751', '-73.9886', '3925'], ['2', '1', '40.7931', '-73.9715', '2795'], ['1', '1', '40.7287', '-73.981', '2850'], ['1', '1', '40.7528', '-73.9709', '2985'], ['1', '1', '40.7852', '-73.949', '4400'], ['1', '1', '40.7074', '-74.0069', '3620'], ['4', '3', '40.7024', '-73.9279', '4200'], ['3', '2', '40.7754', '-73.9509', '4995'], ['0', '1', '40.7656', '-73.9582', '1895']]\n"
     ]
    }
   ],
   "source": [
    "print(rent)"
   ]
  },
  {
   "cell_type": "markdown",
   "id": "fe0265a2-9146-4b7c-88dc-73b8121caae8",
   "metadata": {},
   "source": [
    "### As csv file: list of dictionaries"
   ]
  },
  {
   "cell_type": "code",
   "execution_count": 12,
   "id": "b6f64dfe-0653-47a0-ae63-b80122f341f2",
   "metadata": {
    "tags": []
   },
   "outputs": [
    {
     "name": "stdout",
     "output_type": "stream",
     "text": [
      "{'bedrooms': '1', 'bathrooms': '1', 'latitude': '40.7108', 'longitude': '-73.9539', 'price': '2400'}\n",
      "{'bedrooms': '2', 'bathrooms': '1', 'latitude': '40.7513', 'longitude': '-73.9722', 'price': '3800'}\n",
      "{'bedrooms': '2', 'bathrooms': '1', 'latitude': '40.7575', 'longitude': '-73.9625', 'price': '3495'}\n",
      "{'bedrooms': '3', 'bathrooms': '1.5', 'latitude': '40.7145', 'longitude': '-73.9425', 'price': '3000'}\n",
      "{'bedrooms': '0', 'bathrooms': '1', 'latitude': '40.7439', 'longitude': '-73.9743', 'price': '2795'}\n",
      "{'bedrooms': '3', 'bathrooms': '1', 'latitude': '40.7348', 'longitude': '-73.9865', 'price': '7200'}\n",
      "{'bedrooms': '3', 'bathrooms': '2', 'latitude': '40.7302', 'longitude': '-73.9826', 'price': '6000'}\n",
      "{'bedrooms': '0', 'bathrooms': '1', 'latitude': '40.7769', 'longitude': '-73.9467', 'price': '1945'}\n",
      "{'bedrooms': '1', 'bathrooms': '0', 'latitude': '40.7346', 'longitude': '-73.9811', 'price': '2435'}\n",
      "{'bedrooms': '3', 'bathrooms': '3', 'latitude': '40.699', 'longitude': '-73.9943', 'price': '6850'}\n",
      "{'bedrooms': '0', 'bathrooms': '1', 'latitude': '40.7723', 'longitude': '-73.951', 'price': '2785'}\n",
      "{'bedrooms': '2', 'bathrooms': '1', 'latitude': '40.753', 'longitude': '-73.9959', 'price': '3100'}\n",
      "{'bedrooms': '0', 'bathrooms': '1', 'latitude': '40.761', 'longitude': '-73.999', 'price': '2400'}\n",
      "{'bedrooms': '1', 'bathrooms': '1', 'latitude': '40.7277', 'longitude': '-74', 'price': '2750'}\n",
      "{'bedrooms': '2', 'bathrooms': '2', 'latitude': '40.7633', 'longitude': '-73.9596', 'price': '5465'}\n",
      "{'bedrooms': '0', 'bathrooms': '1', 'latitude': '40.7073', 'longitude': '-73.9665', 'price': '3150'}\n",
      "{'bedrooms': '2', 'bathrooms': '1', 'latitude': '40.7528', 'longitude': '-73.9709', 'price': '3750'}\n",
      "{'bedrooms': '3', 'bathrooms': '1', 'latitude': '40.736', 'longitude': '-73.986', 'price': '4450'}\n",
      "{'bedrooms': '1', 'bathrooms': '1', 'latitude': '40.783', 'longitude': '-73.9828', 'price': '3200'}\n",
      "{'bedrooms': '1', 'bathrooms': '1', 'latitude': '40.7621', 'longitude': '-73.9486', 'price': '2495'}\n",
      "{'bedrooms': '0', 'bathrooms': '1', 'latitude': '40.746', 'longitude': '-73.9754', 'price': '2195'}\n",
      "{'bedrooms': '2', 'bathrooms': '2', 'latitude': '40.7456', 'longitude': '-74.0053', 'price': '5975'}\n",
      "{'bedrooms': '1', 'bathrooms': '1', 'latitude': '40.7685', 'longitude': '-73.9895', 'price': '4960'}\n",
      "{'bedrooms': '1', 'bathrooms': '1', 'latitude': '40.7319', 'longitude': '-73.9817', 'price': '3362'}\n",
      "{'bedrooms': '1', 'bathrooms': '1', 'latitude': '40.7709', 'longitude': '-73.9496', 'price': '2700'}\n",
      "{'bedrooms': '3', 'bathrooms': '2', 'latitude': '40.7352', 'longitude': '-73.9832', 'price': '5500'}\n",
      "{'bedrooms': '2', 'bathrooms': '1', 'latitude': '40.7084', 'longitude': '-74.0048', 'price': '5425'}\n",
      "{'bedrooms': '2', 'bathrooms': '1', 'latitude': '40.7735', 'longitude': '-73.9509', 'price': '3250'}\n",
      "{'bedrooms': '0', 'bathrooms': '1', 'latitude': '40.7708', 'longitude': '-73.9576', 'price': '2350'}\n",
      "{'bedrooms': '2', 'bathrooms': '1', 'latitude': '40.7585', 'longitude': '-73.9913', 'price': '3395'}\n",
      "{'bedrooms': '2', 'bathrooms': '1', 'latitude': '40.7223', 'longitude': '-73.9966', 'price': '4000'}\n",
      "{'bedrooms': '0', 'bathrooms': '1', 'latitude': '40.7743', 'longitude': '-73.9875', 'price': '1495'}\n",
      "{'bedrooms': '4', 'bathrooms': '1', 'latitude': '40.8031', 'longitude': '-73.9653', 'price': '5200'}\n",
      "{'bedrooms': '1', 'bathrooms': '1', 'latitude': '40.7185', 'longitude': '-73.9865', 'price': '2900'}\n",
      "{'bedrooms': '3', 'bathrooms': '1', 'latitude': '40.645', 'longitude': '-73.9984', 'price': '2200'}\n",
      "{'bedrooms': '2', 'bathrooms': '1', 'latitude': '40.6455', 'longitude': '-73.961', 'price': '2475'}\n",
      "{'bedrooms': '1', 'bathrooms': '1', 'latitude': '40.7633', 'longitude': '-73.9932', 'price': '2895'}\n",
      "{'bedrooms': '0', 'bathrooms': '1', 'latitude': '40.771', 'longitude': '-73.9553', 'price': '1750'}\n",
      "{'bedrooms': '3', 'bathrooms': '2', 'latitude': '40.6678', 'longitude': '-73.9398', 'price': '3050'}\n",
      "{'bedrooms': '0', 'bathrooms': '1', 'latitude': '40.7398', 'longitude': '-73.9811', 'price': '3850'}\n",
      "{'bedrooms': '3', 'bathrooms': '1', 'latitude': '40.6956', 'longitude': '-73.9227', 'price': '2400'}\n",
      "{'bedrooms': '1', 'bathrooms': '1', 'latitude': '40.7751', 'longitude': '-73.9886', 'price': '3925'}\n",
      "{'bedrooms': '2', 'bathrooms': '1', 'latitude': '40.7931', 'longitude': '-73.9715', 'price': '2795'}\n",
      "{'bedrooms': '1', 'bathrooms': '1', 'latitude': '40.7287', 'longitude': '-73.981', 'price': '2850'}\n",
      "{'bedrooms': '1', 'bathrooms': '1', 'latitude': '40.7528', 'longitude': '-73.9709', 'price': '2985'}\n",
      "{'bedrooms': '1', 'bathrooms': '1', 'latitude': '40.7852', 'longitude': '-73.949', 'price': '4400'}\n",
      "{'bedrooms': '1', 'bathrooms': '1', 'latitude': '40.7074', 'longitude': '-74.0069', 'price': '3620'}\n",
      "{'bedrooms': '4', 'bathrooms': '3', 'latitude': '40.7024', 'longitude': '-73.9279', 'price': '4200'}\n",
      "{'bedrooms': '3', 'bathrooms': '2', 'latitude': '40.7754', 'longitude': '-73.9509', 'price': '4995'}\n",
      "{'bedrooms': '0', 'bathrooms': '1', 'latitude': '40.7656', 'longitude': '-73.9582', 'price': '1895'}\n"
     ]
    },
    {
     "data": {
      "text/plain": [
       "[{'bedrooms': '1',\n",
       "  'bathrooms': '1',\n",
       "  'latitude': '40.7108',\n",
       "  'longitude': '-73.9539',\n",
       "  'price': '2400'},\n",
       " {'bedrooms': '2',\n",
       "  'bathrooms': '1',\n",
       "  'latitude': '40.7513',\n",
       "  'longitude': '-73.9722',\n",
       "  'price': '3800'},\n",
       " {'bedrooms': '2',\n",
       "  'bathrooms': '1',\n",
       "  'latitude': '40.7575',\n",
       "  'longitude': '-73.9625',\n",
       "  'price': '3495'},\n",
       " {'bedrooms': '3',\n",
       "  'bathrooms': '1.5',\n",
       "  'latitude': '40.7145',\n",
       "  'longitude': '-73.9425',\n",
       "  'price': '3000'},\n",
       " {'bedrooms': '0',\n",
       "  'bathrooms': '1',\n",
       "  'latitude': '40.7439',\n",
       "  'longitude': '-73.9743',\n",
       "  'price': '2795'}]"
      ]
     },
     "execution_count": 12,
     "metadata": {},
     "output_type": "execute_result"
    }
   ],
   "source": [
    "import csv # not needed as we have already imported; here only for completeness\n",
    "\n",
    "rent_d = []\n",
    "\n",
    "with open('rent-ideal.csv') as f:\n",
    "    reader = csv.DictReader(f, delimiter=',')\n",
    "    for row in reader:\n",
    "        print(row) \n",
    "        rent_d.append(row)\n",
    "\n",
    "rent_d[0:5]"
   ]
  },
  {
   "cell_type": "markdown",
   "id": "1811da81-2475-4b0b-9f7b-f9fb2c57ebc1",
   "metadata": {},
   "source": [
    "### Writing csv files"
   ]
  },
  {
   "cell_type": "markdown",
   "id": "15e27b0c",
   "metadata": {},
   "source": [
    "##### From list of lists"
   ]
  },
  {
   "cell_type": "code",
   "execution_count": null,
   "id": "50e4253e-e823-4008-8182-ffcb23051729",
   "metadata": {
    "tags": []
   },
   "outputs": [],
   "source": [
    "header = rent[0] # select appropriate index to get headers\n",
    "rent = rent[1:21] # get a slice of the first 20 apartment\n",
    "\n",
    "filename = \"short_rent.csv\"\n",
    "\n",
    "with open(filename, 'w') as f:\n",
    "    csv_writer = csv.writer(f)\n",
    "    csv_writer.writerow(header)  \n",
    "    csv_writer.writerows(rent)  "
   ]
  },
  {
   "cell_type": "markdown",
   "id": "3f50f8a4",
   "metadata": {},
   "source": [
    "##### From list of dictionaries"
   ]
  },
  {
   "cell_type": "code",
   "execution_count": null,
   "id": "7a7b0c89-f026-4362-9505-d6aaacc1b66b",
   "metadata": {},
   "outputs": [],
   "source": [
    "variables = ['bedrooms', 'bathrooms', 'latitude', 'longitude', 'price']\n",
    "\n",
    "filename = \"short_rent_d.csv\"\n",
    "\n",
    "with open(filename, 'w') as f:\n",
    "    csv_writer = csv.DictWriter(f, fieldnames=variables)\n",
    "    csv_writer.writeheader()\n",
    "    csv_writer.writerows(rent_d)"
   ]
  },
  {
   "cell_type": "markdown",
   "id": "be1a0cbb-bf75-42cc-8052-ce760f3f3f78",
   "metadata": {},
   "source": [
    "### Reading json files"
   ]
  },
  {
   "cell_type": "code",
   "execution_count": 13,
   "id": "3448716a-f70e-443d-b67c-106018a1e7c3",
   "metadata": {
    "tags": []
   },
   "outputs": [
    {
     "data": {
      "text/plain": [
       "{'results': [{'fsq_id': '4b96d534f964a52096e734e3',\n",
       "   'categories': [{'id': 16000,\n",
       "     'name': 'Landmarks and Outdoors',\n",
       "     'icon': {'prefix': 'https://ss3.4sqi.net/img/categories_v2/parks_outdoors/default_',\n",
       "      'suffix': '.png'}}],\n",
       "   'chains': [],\n",
       "   'distance': 140,\n",
       "   'geocodes': {'main': {'latitude': 42.319583, 'longitude': -83.042261}},\n",
       "   'link': '/v3/places/4b96d534f964a52096e734e3',\n",
       "   'location': {'address': 'Ouellette Ave',\n",
       "    'country': 'CA',\n",
       "    'formatted_address': 'Ouellette Ave, Windsor ON',\n",
       "    'locality': 'Windsor',\n",
       "    'region': 'ON'},\n",
       "   'name': 'Windsor Riverwalk',\n",
       "   'related_places': {},\n",
       "   'timezone': 'America/Detroit'},\n",
       "  {'fsq_id': '58ef8f318f2c1a27684b29cb',\n",
       "   'categories': [{'id': 13002,\n",
       "     'name': 'Bakery',\n",
       "     'icon': {'prefix': 'https://ss3.4sqi.net/img/categories_v2/food/bakery_',\n",
       "      'suffix': '.png'}},\n",
       "    {'id': 13034,\n",
       "     'name': 'CafÃ©',\n",
       "     'icon': {'prefix': 'https://ss3.4sqi.net/img/categories_v2/food/cafe_',\n",
       "      'suffix': '.png'}},\n",
       "    {'id': 13068,\n",
       "     'name': 'American Restaurant',\n",
       "     'icon': {'prefix': 'https://ss3.4sqi.net/img/categories_v2/food/default_',\n",
       "      'suffix': '.png'}}],\n",
       "   'chains': [],\n",
       "   'distance': 1649,\n",
       "   'geocodes': {'main': {'latitude': 42.332509, 'longitude': -83.047829},\n",
       "    'roof': {'latitude': 42.332509, 'longitude': -83.047829}},\n",
       "   'link': '/v3/places/58ef8f318f2c1a27684b29cb',\n",
       "   'location': {'address': '1049 Woodward Ave',\n",
       "    'census_block': '261635207001013',\n",
       "    'country': 'US',\n",
       "    'cross_street': '',\n",
       "    'dma': 'Detroit',\n",
       "    'formatted_address': '1049 Woodward Ave, Detroit, MI 48226',\n",
       "    'locality': 'Detroit',\n",
       "    'postcode': '48226',\n",
       "    'region': 'MI'},\n",
       "   'name': 'Avalon Cafe and Bakery',\n",
       "   'related_places': {},\n",
       "   'timezone': 'America/Detroit'},\n",
       "  {'fsq_id': '5653affd498eb4c9c34c4ac6',\n",
       "   'categories': [{'id': 13009,\n",
       "     'name': 'Cocktail Bar',\n",
       "     'icon': {'prefix': 'https://ss3.4sqi.net/img/categories_v2/nightlife/cocktails_',\n",
       "      'suffix': '.png'}},\n",
       "    {'id': 13314,\n",
       "     'name': 'New American Restaurant',\n",
       "     'icon': {'prefix': 'https://ss3.4sqi.net/img/categories_v2/food/newamerican_',\n",
       "      'suffix': '.png'}}],\n",
       "   'chains': [],\n",
       "   'distance': 1776,\n",
       "   'geocodes': {'drop_off': {'latitude': 42.334363, 'longitude': -83.045864},\n",
       "    'main': {'latitude': 42.334481, 'longitude': -83.046019},\n",
       "    'roof': {'latitude': 42.334481, 'longitude': -83.046019}},\n",
       "   'link': '/v3/places/5653affd498eb4c9c34c4ac6',\n",
       "   'location': {'address': '225 Gratiot Ave',\n",
       "    'census_block': '261635172001044',\n",
       "    'country': 'US',\n",
       "    'cross_street': 'Gratiot And Broadway',\n",
       "    'dma': 'Detroit',\n",
       "    'formatted_address': '225 Gratiot Ave (Gratiot And Broadway), Detroit, MI 48226',\n",
       "    'locality': 'Detroit',\n",
       "    'postcode': '48226',\n",
       "    'region': 'MI'},\n",
       "   'name': 'Standby',\n",
       "   'related_places': {},\n",
       "   'timezone': 'America/Detroit'},\n",
       "  {'fsq_id': '5c54fe0e911fc4002cc0557e',\n",
       "   'categories': [{'id': 13002,\n",
       "     'name': 'Bakery',\n",
       "     'icon': {'prefix': 'https://ss3.4sqi.net/img/categories_v2/food/bakery_',\n",
       "      'suffix': '.png'}},\n",
       "    {'id': 13035,\n",
       "     'name': 'Coffee Shop',\n",
       "     'icon': {'prefix': 'https://ss3.4sqi.net/img/categories_v2/food/coffeeshop_',\n",
       "      'suffix': '.png'}},\n",
       "    {'id': 13334,\n",
       "     'name': 'Sandwich Spot',\n",
       "     'icon': {'prefix': 'https://ss3.4sqi.net/img/categories_v2/food/deli_',\n",
       "      'suffix': '.png'}}],\n",
       "   'chains': [],\n",
       "   'distance': 1783,\n",
       "   'geocodes': {'main': {'latitude': 42.333679, 'longitude': -83.049382},\n",
       "    'roof': {'latitude': 42.333679, 'longitude': -83.049382}},\n",
       "   'link': '/v3/places/5c54fe0e911fc4002cc0557e',\n",
       "   'location': {'address': '45 Grand River Ave',\n",
       "    'census_block': '261635207001000',\n",
       "    'country': 'US',\n",
       "    'cross_street': '',\n",
       "    'dma': 'Detroit',\n",
       "    'formatted_address': '45 Grand River Ave, Detroit, MI 48226',\n",
       "    'locality': 'Detroit',\n",
       "    'postcode': '48226',\n",
       "    'region': 'MI'},\n",
       "   'name': 'Cannelle Matt Knio',\n",
       "   'related_places': {},\n",
       "   'timezone': 'America/Detroit'},\n",
       "  {'fsq_id': '4b3155d7f964a520f90425e3',\n",
       "   'categories': [{'id': 17019,\n",
       "     'name': 'Used Bookstore',\n",
       "     'icon': {'prefix': 'https://ss3.4sqi.net/img/categories_v2/shops/bookstore_',\n",
       "      'suffix': '.png'}}],\n",
       "   'chains': [],\n",
       "   'distance': 1659,\n",
       "   'geocodes': {'main': {'latitude': 42.32748, 'longitude': -83.056976},\n",
       "    'roof': {'latitude': 42.32748, 'longitude': -83.056976}},\n",
       "   'link': '/v3/places/4b3155d7f964a520f90425e3',\n",
       "   'location': {'address': '901 W Lafayette Blvd',\n",
       "    'census_block': '261635208001070',\n",
       "    'country': 'US',\n",
       "    'cross_street': 'at 5th St',\n",
       "    'dma': 'Detroit',\n",
       "    'formatted_address': '901 W Lafayette Blvd (at 5th St), Detroit, MI 48226',\n",
       "    'locality': 'Detroit',\n",
       "    'postcode': '48226',\n",
       "    'region': 'MI'},\n",
       "   'name': 'John K King Books',\n",
       "   'related_places': {},\n",
       "   'timezone': 'America/Detroit'},\n",
       "  {'fsq_id': '4ba94bc9f964a520771c3ae3',\n",
       "   'categories': [{'id': 16038,\n",
       "     'name': 'State or Provincial Park',\n",
       "     'icon': {'prefix': 'https://ss3.4sqi.net/img/categories_v2/parks_outdoors/default_',\n",
       "      'suffix': '.png'}}],\n",
       "   'chains': [],\n",
       "   'distance': 1733,\n",
       "   'geocodes': {'main': {'latitude': 42.333175, 'longitude': -83.025757},\n",
       "    'roof': {'latitude': 42.333175, 'longitude': -83.025757}},\n",
       "   'link': '/v3/places/4ba94bc9f964a520771c3ae3',\n",
       "   'location': {'address': '1900 Atwater St',\n",
       "    'census_block': '261635165001010',\n",
       "    'country': 'US',\n",
       "    'cross_street': 'btwn Rivard & St Aubin',\n",
       "    'dma': 'Detroit',\n",
       "    'formatted_address': '1900 Atwater St (btwn Rivard & St Aubin), Detroit, MI 48207',\n",
       "    'locality': 'Detroit',\n",
       "    'postcode': '48207',\n",
       "    'region': 'MI'},\n",
       "   'name': 'William G. Milliken State Park and Harbor',\n",
       "   'related_places': {'children': [{'fsq_id': '5bbbe98be96d0c002c9a74d2',\n",
       "      'name': 'Tricentennial Lighthouse'},\n",
       "     {'fsq_id': '4cbe6a30acd48cfaba333d3f',\n",
       "      'name': 'William G. Milliken State Park and Harbor Lighthouse'}]},\n",
       "   'timezone': 'America/Detroit'},\n",
       "  {'fsq_id': '53b98b96498ef894b65e877c',\n",
       "   'categories': [{'id': 13057,\n",
       "     'name': 'Gastropub',\n",
       "     'icon': {'prefix': 'https://ss3.4sqi.net/img/categories_v2/food/gastropub_',\n",
       "      'suffix': '.png'}},\n",
       "    {'id': 13314,\n",
       "     'name': 'New American Restaurant',\n",
       "     'icon': {'prefix': 'https://ss3.4sqi.net/img/categories_v2/food/newamerican_',\n",
       "      'suffix': '.png'}},\n",
       "    {'id': 13347,\n",
       "     'name': 'Tapas Restaurant',\n",
       "     'icon': {'prefix': 'https://ss3.4sqi.net/img/categories_v2/food/tapas_',\n",
       "      'suffix': '.png'}}],\n",
       "   'chains': [],\n",
       "   'distance': 1919,\n",
       "   'geocodes': {'main': {'latitude': 42.335206, 'longitude': -83.049152},\n",
       "    'roof': {'latitude': 42.335206, 'longitude': -83.049152}},\n",
       "   'link': '/v3/places/53b98b96498ef894b65e877c',\n",
       "   'location': {'address': '1500 Woodward Ave',\n",
       "    'address_extended': 'Fl 2',\n",
       "    'census_block': '261635172001040',\n",
       "    'country': 'US',\n",
       "    'cross_street': 'at John R St',\n",
       "    'dma': 'Detroit',\n",
       "    'formatted_address': '1500 Woodward Ave (at John R St), Detroit, MI 48226',\n",
       "    'locality': 'Detroit',\n",
       "    'postcode': '48226',\n",
       "    'region': 'MI'},\n",
       "   'name': 'Wright & Co.',\n",
       "   'related_places': {},\n",
       "   'timezone': 'America/Detroit'},\n",
       "  {'fsq_id': '4a7b6811f964a520ecea1fe3',\n",
       "   'categories': [{'id': 13039,\n",
       "     'name': 'Deli',\n",
       "     'icon': {'prefix': 'https://ss3.4sqi.net/img/categories_v2/food/deli_',\n",
       "      'suffix': '.png'}},\n",
       "    {'id': 13068,\n",
       "     'name': 'American Restaurant',\n",
       "     'icon': {'prefix': 'https://ss3.4sqi.net/img/categories_v2/food/default_',\n",
       "      'suffix': '.png'}},\n",
       "    {'id': 13334,\n",
       "     'name': 'Sandwich Spot',\n",
       "     'icon': {'prefix': 'https://ss3.4sqi.net/img/categories_v2/food/deli_',\n",
       "      'suffix': '.png'}}],\n",
       "   'chains': [],\n",
       "   'distance': 2095,\n",
       "   'geocodes': {'main': {'latitude': 42.329002, 'longitude': -83.062029},\n",
       "    'roof': {'latitude': 42.329002, 'longitude': -83.062029}},\n",
       "   'link': '/v3/places/4a7b6811f964a520ecea1fe3',\n",
       "   'location': {'address': '1300 Porter St',\n",
       "    'census_block': '261635214002020',\n",
       "    'country': 'US',\n",
       "    'cross_street': 'Brooklyn St.',\n",
       "    'dma': 'Detroit',\n",
       "    'formatted_address': '1300 Porter St (Brooklyn St.), Detroit, MI 48226',\n",
       "    'locality': 'Detroit',\n",
       "    'postcode': '48226',\n",
       "    'region': 'MI'},\n",
       "   'name': \"Mudgie's\",\n",
       "   'related_places': {},\n",
       "   'timezone': 'America/Detroit'},\n",
       "  {'fsq_id': '513906c38aca6b6931303b04',\n",
       "   'categories': [{'id': 13003,\n",
       "     'name': 'Bar',\n",
       "     'icon': {'prefix': 'https://ss3.4sqi.net/img/categories_v2/nightlife/pub_',\n",
       "      'suffix': '.png'}},\n",
       "    {'id': 13029,\n",
       "     'name': 'Brewery',\n",
       "     'icon': {'prefix': 'https://ss3.4sqi.net/img/categories_v2/food/brewery_',\n",
       "      'suffix': '.png'}},\n",
       "    {'id': 13068,\n",
       "     'name': 'American Restaurant',\n",
       "     'icon': {'prefix': 'https://ss3.4sqi.net/img/categories_v2/food/default_',\n",
       "      'suffix': '.png'}}],\n",
       "   'chains': [],\n",
       "   'distance': 2164,\n",
       "   'geocodes': {'main': {'latitude': 42.328526, 'longitude': -83.063374},\n",
       "    'roof': {'latitude': 42.328526, 'longitude': -83.063374}},\n",
       "   'link': '/v3/places/513906c38aca6b6931303b04',\n",
       "   'location': {'address': '1400 Porter St',\n",
       "    'census_block': '261635214002022',\n",
       "    'country': 'US',\n",
       "    'cross_street': 'At Eighth Ave',\n",
       "    'dma': 'Detroit',\n",
       "    'formatted_address': '1400 Porter St (At Eighth Ave), Detroit, MI 48216',\n",
       "    'locality': 'Detroit',\n",
       "    'postcode': '48216',\n",
       "    'region': 'MI'},\n",
       "   'name': 'Batch Brewing Company',\n",
       "   'related_places': {'children': [{'fsq_id': '6025d739723a8779a5772846',\n",
       "      'name': 'Fauci Fieldhouse'}]},\n",
       "   'timezone': 'America/Detroit'},\n",
       "  {'fsq_id': '59667bf75455b20e2af2c92e',\n",
       "   'categories': [{'id': 16032,\n",
       "     'name': 'Park',\n",
       "     'icon': {'prefix': 'https://ss3.4sqi.net/img/categories_v2/parks_outdoors/park_',\n",
       "      'suffix': '.png'}}],\n",
       "   'chains': [],\n",
       "   'distance': 2114,\n",
       "   'geocodes': {'main': {'latitude': 42.334526, 'longitude': -83.055049}},\n",
       "   'link': '/v3/places/59667bf75455b20e2af2c92e',\n",
       "   'location': {'address': '1901 Grand River Ave',\n",
       "    'census_block': '261635207004000',\n",
       "    'country': 'US',\n",
       "    'cross_street': 'First St.',\n",
       "    'dma': 'Detroit',\n",
       "    'formatted_address': '1901 Grand River Ave (First St.), Detroit, MI 48226',\n",
       "    'locality': 'Detroit',\n",
       "    'postcode': '48226',\n",
       "    'region': 'MI'},\n",
       "   'name': 'Beacon Park',\n",
       "   'related_places': {'children': [{'fsq_id': '5a9dae6ae55d8b482af54f13',\n",
       "      'name': 'Lumen Detroit'}]},\n",
       "   'timezone': 'America/Detroit'}],\n",
       " 'context': {'geo_bounds': {'circle': {'center': {'latitude': 42.31898,\n",
       "     'longitude': -83.04049},\n",
       "    'radius': 22000}}}}"
      ]
     },
     "execution_count": 13,
     "metadata": {},
     "output_type": "execute_result"
    }
   ],
   "source": [
    "import json\n",
    "\n",
    "with open('example.json') as f:\n",
    "    data = json.load(f)\n",
    "    \n",
    "data"
   ]
  },
  {
   "cell_type": "code",
   "execution_count": 15,
   "id": "c9afe9e4-f6ff-4cb2-bd74-14bef21d7d95",
   "metadata": {},
   "outputs": [
    {
     "data": {
      "text/plain": [
       "dict_keys(['results', 'context'])"
      ]
     },
     "execution_count": 15,
     "metadata": {},
     "output_type": "execute_result"
    }
   ],
   "source": [
    "data.keys()"
   ]
  },
  {
   "cell_type": "code",
   "execution_count": 16,
   "id": "cf9f2308",
   "metadata": {},
   "outputs": [
    {
     "data": {
      "text/plain": [
       "list"
      ]
     },
     "execution_count": 16,
     "metadata": {},
     "output_type": "execute_result"
    }
   ],
   "source": [
    "type(data['results'])"
   ]
  },
  {
   "cell_type": "code",
   "execution_count": 18,
   "id": "ee6b0c17",
   "metadata": {},
   "outputs": [
    {
     "data": {
      "text/plain": [
       "dict"
      ]
     },
     "execution_count": 18,
     "metadata": {},
     "output_type": "execute_result"
    }
   ],
   "source": [
    "type(data['results'][0])"
   ]
  },
  {
   "cell_type": "code",
   "execution_count": 19,
   "id": "65572f2f",
   "metadata": {},
   "outputs": [
    {
     "data": {
      "text/plain": [
       "dict_keys(['fsq_id', 'categories', 'chains', 'distance', 'geocodes', 'link', 'location', 'name', 'related_places', 'timezone'])"
      ]
     },
     "execution_count": 19,
     "metadata": {},
     "output_type": "execute_result"
    }
   ],
   "source": [
    "data['results'][0].keys()"
   ]
  },
  {
   "cell_type": "code",
   "execution_count": 17,
   "id": "b51df1b6",
   "metadata": {},
   "outputs": [
    {
     "data": {
      "text/plain": [
       "'Windsor Riverwalk'"
      ]
     },
     "execution_count": 17,
     "metadata": {},
     "output_type": "execute_result"
    }
   ],
   "source": [
    "data['results'][0]['name']"
   ]
  },
  {
   "cell_type": "code",
   "execution_count": 18,
   "id": "cb2c4746",
   "metadata": {},
   "outputs": [
    {
     "data": {
      "text/plain": [
       "{'main': {'latitude': 42.319583, 'longitude': -83.042261}}"
      ]
     },
     "execution_count": 18,
     "metadata": {},
     "output_type": "execute_result"
    }
   ],
   "source": [
    "data['results'][0]['geocodes']"
   ]
  },
  {
   "cell_type": "code",
   "execution_count": 19,
   "id": "12e51106",
   "metadata": {},
   "outputs": [
    {
     "data": {
      "text/plain": [
       "{'latitude': 42.319583, 'longitude': -83.042261}"
      ]
     },
     "execution_count": 19,
     "metadata": {},
     "output_type": "execute_result"
    }
   ],
   "source": [
    "data['results'][0]['geocodes']['main']"
   ]
  },
  {
   "cell_type": "code",
   "execution_count": 21,
   "id": "c53b0f3b",
   "metadata": {},
   "outputs": [
    {
     "data": {
      "text/plain": [
       "{'Windsor Riverwalk': [42.319583, -83.042261],\n",
       " 'Avalon Cafe and Bakery': [42.332509, -83.047829],\n",
       " 'Standby': [42.334481, -83.046019],\n",
       " 'Cannelle Matt Knio': [42.333679, -83.049382],\n",
       " 'John K King Books': [42.32748, -83.056976],\n",
       " 'William G. Milliken State Park and Harbor': [42.333175, -83.025757],\n",
       " 'Wright & Co.': [42.335206, -83.049152],\n",
       " \"Mudgie's\": [42.329002, -83.062029],\n",
       " 'Batch Brewing Company': [42.328526, -83.063374],\n",
       " 'Beacon Park': [42.334526, -83.055049]}"
      ]
     },
     "execution_count": 21,
     "metadata": {},
     "output_type": "execute_result"
    }
   ],
   "source": [
    "places = {}\n",
    "\n",
    "for item in data['results']:\n",
    "    place = item['name']\n",
    "    lat = item['geocodes']['main']['latitude']\n",
    "    long = item['geocodes']['main']['longitude']\n",
    "    places[place] = [lat, long]\n",
    "\n",
    "places"
   ]
  },
  {
   "cell_type": "markdown",
   "id": "62a9798c-0acb-4e54-a74e-c37dc6567172",
   "metadata": {},
   "source": [
    "### Writing json files"
   ]
  },
  {
   "cell_type": "code",
   "execution_count": 22,
   "id": "76157ce3-e4e0-4adf-bc84-064eba4b619a",
   "metadata": {
    "tags": []
   },
   "outputs": [],
   "source": [
    "with open('places.json', 'w') as f:\n",
    "    json.dump(places, f)"
   ]
  }
 ],
 "metadata": {
  "kernelspec": {
   "display_name": "Python 3 (ipykernel)",
   "language": "python",
   "name": "python3"
  },
  "language_info": {
   "codemirror_mode": {
    "name": "ipython",
    "version": 3
   },
   "file_extension": ".py",
   "mimetype": "text/x-python",
   "name": "python",
   "nbconvert_exporter": "python",
   "pygments_lexer": "ipython3",
   "version": "3.12.1"
  }
 },
 "nbformat": 4,
 "nbformat_minor": 5
}
