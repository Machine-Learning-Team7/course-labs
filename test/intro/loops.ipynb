{
 "cells": [
  {
   "cell_type": "markdown",
   "id": "b722975d-b848-490d-b40f-808952704b08",
   "metadata": {},
   "source": [
    "# Loops: `for` and `while` \n",
    "\n",
    "`for` loops are useful for definite iteration.\n",
    "\n",
    "`while` loops are useful for indefinite iteration."
   ]
  },
  {
   "cell_type": "markdown",
   "id": "529499bb-7086-44e4-8ed5-e3cc1e526137",
   "metadata": {},
   "source": [
    "## Numeric range `for` loop\n",
    "\n",
    "The basic structure for this type of loop is:\n",
    "\n",
    "```python\n",
    "for <var> in range(<begin>, <end>, <stride>=1):\n",
    "    <statement(s)>\n",
    "```\n"
   ]
  },
  {
   "cell_type": "code",
   "execution_count": 2,
   "id": "a764f8b2-49eb-4c81-a39e-8c5eb4f1f967",
   "metadata": {},
   "outputs": [
    {
     "name": "stdout",
     "output_type": "stream",
     "text": [
      "1\n",
      "3\n",
      "5\n",
      "7\n",
      "9\n"
     ]
    }
   ],
   "source": [
    "for i in range(1, 11, 2):\n",
    "    print(i)"
   ]
  },
  {
   "cell_type": "markdown",
   "id": "ecc97aba-4b67-4896-9816-636c3a91d2ab",
   "metadata": {},
   "source": [
    "## `for` loop with iterable\n",
    "\n",
    "The basic structure for this type of loop is:\n",
    "\n",
    "```python\n",
    "for <var> in <iterable>:\n",
    "    <statement(s)>\n",
    "```\n",
    "\n",
    "Create examples of each object listed and check if it is iterable:\n",
    "- integer\n",
    "- string\n",
    "- list\n",
    "- float\n",
    "- tuple\n",
    "- any built-in function\n",
    "- set\n",
    "- boolean\n",
    "- dictionary"
   ]
  },
  {
   "cell_type": "code",
   "execution_count": 9,
   "id": "b7d0c659-9b99-4eea-bf55-729111db708a",
   "metadata": {},
   "outputs": [
    {
     "name": "stdout",
     "output_type": "stream",
     "text": [
      "1\n",
      "3\n",
      "5\n",
      "caquita\n"
     ]
    },
    {
     "data": {
      "text/plain": [
       "list"
      ]
     },
     "execution_count": 9,
     "metadata": {},
     "output_type": "execute_result"
    }
   ],
   "source": [
    "my_int = [1,3,5,\"caquita\"]\n",
    "\n",
    "for d in my_int:\n",
    "    print(d)\n",
    "    \n",
    "type(my_int)"
   ]
  },
  {
   "cell_type": "code",
   "execution_count": null,
   "id": "c0b46528",
   "metadata": {},
   "outputs": [],
   "source": [
    "my_string = 'this is a beautiful sentence'\n",
    "\n",
    "for ch in my_string:\n",
    "    print(ch)"
   ]
  },
  {
   "cell_type": "markdown",
   "id": "8a4727c0-2dff-49fe-a79b-90ded4dc541f",
   "metadata": {},
   "source": [
    "#### Adding an index manually\n",
    "\n",
    "The numeric range loop always has an index available, while the loop with iterable does not. "
   ]
  },
  {
   "cell_type": "code",
   "execution_count": null,
   "id": "23b6a8bc-f937-438e-97cd-74cd349cdca3",
   "metadata": {
    "tags": []
   },
   "outputs": [],
   "source": [
    "letters = ['a', 'b', 'c']\n",
    "\n",
    "idx = 0\n",
    "for l in letters:\n",
    "    print(idx, l)\n",
    "    idx += 1"
   ]
  },
  {
   "cell_type": "markdown",
   "id": "6b67874b-d854-466c-8009-7e713700c528",
   "metadata": {},
   "source": [
    "#### Adding an index with `enumerate`"
   ]
  },
  {
   "cell_type": "code",
   "execution_count": null,
   "id": "71eaf3a0-aeb8-46ed-82aa-97145df36669",
   "metadata": {
    "tags": []
   },
   "outputs": [],
   "source": [
    "for i, l in enumerate(letters):\n",
    "    print(i, l)"
   ]
  },
  {
   "cell_type": "markdown",
   "id": "54849a3c-e739-4cca-88f1-d82cd47b337e",
   "metadata": {},
   "source": [
    "## Altering `for` loop behaviour\n",
    "\n",
    "We can interrupt the execution of a loop using the `break` and `continue` statements.\n",
    "\n",
    "#### Using `break`"
   ]
  },
  {
   "cell_type": "code",
   "execution_count": null,
   "id": "f332d125-6f26-49f9-b28e-c7dda75fe952",
   "metadata": {
    "tags": []
   },
   "outputs": [],
   "source": [
    "# first occurence in list\n",
    "\n",
    "for l in letters:\n",
    "    print(l)\n",
    "    if l == 'b':\n",
    "        break\n"
   ]
  },
  {
   "cell_type": "markdown",
   "id": "9221820c-059a-4e4e-9f33-a3623dfcfa89",
   "metadata": {},
   "source": [
    "#### Using `continue`"
   ]
  },
  {
   "cell_type": "code",
   "execution_count": null,
   "id": "79f6ec3f-a159-4e30-af3d-bdbc22509d54",
   "metadata": {},
   "outputs": [],
   "source": [
    "# print all characters except digits from a string\n",
    "\n",
    "my_string = 'this 1 sentence 2 has 3 digits 4'\n",
    "\n",
    "for ch in my_string:\n",
    "    if ch.isdigit():\n",
    "        continue\n",
    "    print(ch)"
   ]
  },
  {
   "cell_type": "markdown",
   "id": "050eca0b-8bfb-45b8-b603-4715ad659b86",
   "metadata": {},
   "source": [
    "## Basic `while` loop\n",
    "\n",
    "The simplest structure for a `while` loop is:\n",
    "\n",
    "```python\n",
    "while <condition>:\n",
    "    <statement(s)>\n",
    "```"
   ]
  },
  {
   "cell_type": "code",
   "execution_count": null,
   "id": "fa5de226-3431-4006-83e6-e9a02ec203a0",
   "metadata": {
    "tags": []
   },
   "outputs": [],
   "source": [
    "# numeric\n",
    "\n",
    "x = 0 \n",
    "\n",
    "while x < 10:\n",
    "    print(x)\n",
    "    x += 1"
   ]
  },
  {
   "cell_type": "code",
   "execution_count": null,
   "id": "67c768f3-d9eb-4b66-ace2-442d1f5b2e8a",
   "metadata": {
    "tags": []
   },
   "outputs": [],
   "source": [
    "# user input\n",
    "\n",
    "item = input('add item to list (q to quit): ')\n",
    "\n",
    "while item != 'q':\n",
    "    print('adding', item)\n",
    "    item = input('add item to list (q to quit): ')"
   ]
  },
  {
   "cell_type": "markdown",
   "id": "88e7a15d-f754-42f6-b37c-08a7dd5c5894",
   "metadata": {},
   "source": [
    "## Infinite loops"
   ]
  },
  {
   "cell_type": "code",
   "execution_count": null,
   "id": "7cfdabde-8b8a-4e57-bb84-f77f4cb0a0d0",
   "metadata": {},
   "outputs": [],
   "source": [
    "# x = 0\n",
    "\n",
    "# while x < 10:\n",
    "#     print(x)\n",
    "#     x -= 1"
   ]
  },
  {
   "cell_type": "markdown",
   "id": "019a13db-42e1-4a28-953e-5d008874b39f",
   "metadata": {},
   "source": [
    "## Altering `while` loop behaviour\n",
    "\n",
    "As with `for` loops, we can interrupt the execution of a `while` loop using the `break` and `continue` statements.\n",
    "\n",
    "#### Using `break`"
   ]
  },
  {
   "cell_type": "code",
   "execution_count": null,
   "id": "cd0b095c-9ae1-4604-b4bb-c73390c7c6c4",
   "metadata": {},
   "outputs": [],
   "source": [
    "# numeric exit loop\n",
    "\n",
    "x = 0\n",
    "\n",
    "while True:\n",
    "    print(x)\n",
    "    x += 1\n",
    "    if x == 10:\n",
    "        break"
   ]
  },
  {
   "cell_type": "markdown",
   "id": "b11b2a11-038d-4ba6-a097-f0fccc29972b",
   "metadata": {},
   "source": [
    "#### Using `continue`"
   ]
  },
  {
   "cell_type": "code",
   "execution_count": null,
   "id": "5b288118-1c5d-4a5f-b607-1d6d814f7cc3",
   "metadata": {},
   "outputs": [],
   "source": [
    "# numeric skip to next\n",
    "\n",
    "x = 0\n",
    "\n",
    "while x < 10:\n",
    "    x += 1\n",
    "    if x % 2 == 0:\n",
    "        continue\n",
    "    print(x)"
   ]
  }
 ],
 "metadata": {
  "kernelspec": {
   "display_name": "Python 3 (ipykernel)",
   "language": "python",
   "name": "python3"
  },
  "language_info": {
   "codemirror_mode": {
    "name": "ipython",
    "version": 3
   },
   "file_extension": ".py",
   "mimetype": "text/x-python",
   "name": "python",
   "nbconvert_exporter": "python",
   "pygments_lexer": "ipython3",
   "version": "3.12.1"
  }
 },
 "nbformat": 4,
 "nbformat_minor": 5
}
