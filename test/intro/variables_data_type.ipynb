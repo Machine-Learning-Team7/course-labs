{
 "cells": [
  {
   "cell_type": "markdown",
   "id": "4fbe4e5d-4969-40f3-8396-a2828326783d",
   "metadata": {},
   "source": [
    "# Variables, Data Types, Operators, and Conditional Logic"
   ]
  },
  {
   "cell_type": "markdown",
   "id": "cba6b240-aa7f-4d3a-bb73-c65281e66d29",
   "metadata": {},
   "source": [
    "### Variables\n",
    "\n",
    "Why do we need variables?\n",
    " - make values accessible\n",
    " - provide context\n",
    " - easier to change code\n",
    " \n",
    "Naming conventions\n",
    " - should use `snake_case` (same as functions, but classes use `CapitalizedWords`; see [PEP8](https://pep8.org/); PEP = Python enhancement protocol) \n",
    " - can have digits \n",
    " - cannot start with a digit\n",
    " - descriptive names are better than short names\n",
    " - avoid using Python's reserved keywords, like `print`, `len`, etc. \n",
    " \n",
    "> Consistency is what is most important!\n",
    " "
   ]
  },
  {
   "cell_type": "markdown",
   "id": "fa773840-0cfa-4313-9282-6f5737c02936",
   "metadata": {},
   "source": [
    "\n",
    "<center><img src=\"variable_pointer.png\" alt=\"Drawing\" style=\"width: 600px;\"/><br><br>\n",
    "(source: realpython.com)</center>"
   ]
  },
  {
   "cell_type": "code",
   "execution_count": null,
   "id": "690ff011",
   "metadata": {},
   "outputs": [],
   "source": [
    "n = 300\n",
    "print(id(n))\n",
    "m = n\n",
    "print(id(m))\n",
    "n = \"foo\"\n",
    "print(id(n))\n",
    "m = 400\n",
    "print(id(m))\n"
   ]
  },
  {
   "cell_type": "markdown",
   "id": "b2cec478",
   "metadata": {},
   "source": [
    "## Data types\n",
    "\n",
    "A [full list](https://docs.python.org/3/library/stdtypes.html#) of data types is available in the documentation. For the moment, we will focus on a few of the most basic, most often used data types:\n",
    "\n",
    " - numeric\n",
    " - string\n",
    " - boolean\n",
    " - lists\n",
    " - tuples\n",
    " - dictionaries\n",
    " - sets"
   ]
  },
  {
   "cell_type": "markdown",
   "id": "6df87581-4d8d-4270-8dca-72211f5d411b",
   "metadata": {
    "tags": []
   },
   "source": [
    "### Numeric, boolean, and text data Types\n",
    "\n",
    " \n",
    " - integers\n",
    " - floats\n",
    " - strings\n",
    " - boolean\n",
    " "
   ]
  },
  {
   "cell_type": "code",
   "execution_count": null,
   "id": "63a8f9f8",
   "metadata": {},
   "outputs": [],
   "source": [
    "my_int = 5\n",
    "my_float = 5.0\n",
    "my_string = \"this is a string\"\n",
    "my_bool = True"
   ]
  },
  {
   "cell_type": "markdown",
   "id": "d8c5a66b-1983-4050-b906-d6f0736489c2",
   "metadata": {},
   "source": [
    "#### Type Casting"
   ]
  },
  {
   "cell_type": "code",
   "execution_count": null,
   "id": "704a971a",
   "metadata": {},
   "outputs": [],
   "source": [
    "# int to float\n",
    "float(my_int)"
   ]
  },
  {
   "cell_type": "code",
   "execution_count": null,
   "id": "3281e81a",
   "metadata": {},
   "outputs": [],
   "source": [
    "# int to string\n",
    "str(my_int)"
   ]
  },
  {
   "cell_type": "code",
   "execution_count": null,
   "id": "177bfacb",
   "metadata": {},
   "outputs": [],
   "source": [
    "# int to boolean\n",
    "bool(my_int)"
   ]
  },
  {
   "cell_type": "code",
   "execution_count": null,
   "id": "02a6c58d",
   "metadata": {},
   "outputs": [],
   "source": [
    "# try out other combinations (to convert to integer use int())\n",
    "\n",
    "float(my_string)"
   ]
  },
  {
   "cell_type": "code",
   "execution_count": null,
   "id": "9e982965",
   "metadata": {},
   "outputs": [],
   "source": [
    "float(my_int)"
   ]
  },
  {
   "cell_type": "code",
   "execution_count": null,
   "id": "ac33acd7",
   "metadata": {},
   "outputs": [],
   "source": [
    "float(my_bool)"
   ]
  },
  {
   "cell_type": "code",
   "execution_count": null,
   "id": "a4e6c83b",
   "metadata": {},
   "outputs": [],
   "source": [
    "bool(my_string)"
   ]
  },
  {
   "cell_type": "code",
   "execution_count": null,
   "id": "d59519cf",
   "metadata": {},
   "outputs": [],
   "source": [
    "bool(my_int)"
   ]
  },
  {
   "cell_type": "code",
   "execution_count": null,
   "id": "521ebefb",
   "metadata": {},
   "outputs": [],
   "source": [
    "bool(my_float)"
   ]
  },
  {
   "cell_type": "code",
   "execution_count": null,
   "id": "f1d4025e",
   "metadata": {},
   "outputs": [],
   "source": [
    "int(my_string)"
   ]
  },
  {
   "cell_type": "code",
   "execution_count": null,
   "id": "e9e3fa7f",
   "metadata": {},
   "outputs": [],
   "source": [
    "int(my_float)"
   ]
  },
  {
   "cell_type": "code",
   "execution_count": null,
   "id": "74c3a18c",
   "metadata": {},
   "outputs": [],
   "source": [
    "int(my_bool)"
   ]
  },
  {
   "cell_type": "code",
   "execution_count": null,
   "id": "188714a0",
   "metadata": {},
   "outputs": [],
   "source": [
    "# of note\n",
    "\n",
    "int('5')\n",
    "int('5.2')\n",
    "\n",
    "bool(\"lksjdfkj\")\n",
    "bool(\"\")\n",
    "bool(-1232837)\n",
    "bool(0)\n",
    "bool(None)"
   ]
  },
  {
   "cell_type": "markdown",
   "id": "72f69c1f-3577-4e2c-af84-20502e2b5c0b",
   "metadata": {
    "tags": []
   },
   "source": [
    "#### Operators\n",
    "\n",
    " - `+` \n",
    " - `-` \n",
    " - `*` \n",
    " - `**`  \n",
    " - `//` \n",
    " - `%`\n",
    "\n",
    " Augmented assignment:\n",
    "  - `+=`\n",
    "  - `-=`\n",
    "  - `*=`\n",
    "  - `/=`"
   ]
  },
  {
   "cell_type": "code",
   "execution_count": null,
   "id": "fe5d3862",
   "metadata": {},
   "outputs": [],
   "source": [
    "x = 5 \n",
    "x += 4 # x = x + 4\n",
    "x"
   ]
  },
  {
   "cell_type": "markdown",
   "id": "aaed6d62-1b50-4b0c-8596-b79cd898e65b",
   "metadata": {},
   "source": [
    "##### Linear congruential generator\n",
    "$$\n",
    "X_{n+1} = (aX_n + c) \\, \\rm{mod} \\; m\n",
    "$$\n",
    "\n",
    "where `mod` (modulo) is the same operation as `%`."
   ]
  },
  {
   "cell_type": "code",
   "execution_count": null,
   "id": "4b43a24a-9048-47fb-8ce3-93e8775a223b",
   "metadata": {
    "tags": []
   },
   "outputs": [],
   "source": [
    "a = 9\n",
    "c = 3\n",
    "m = 19"
   ]
  },
  {
   "cell_type": "code",
   "execution_count": null,
   "id": "79d71dd7-d831-44ca-9217-fc9a912b007e",
   "metadata": {
    "tags": []
   },
   "outputs": [],
   "source": [
    "x = 5\n",
    "\n",
    "for i in range(20):\n",
    "    x = (a*x + c) % m\n",
    "    print(x)"
   ]
  },
  {
   "cell_type": "markdown",
   "id": "201430a5-b4f5-45a0-b50f-411dc59dc416",
   "metadata": {},
   "source": [
    "##### Operator precedence\n",
    "\n",
    "A full list of [operator precedence](https://docs.python.org/3/reference/expressions.html#operator-summary) can be found in the documentation. \n",
    "\n",
    "- brackets\n",
    "- subscripting\n",
    "- exponents\n",
    "- multiplication/division/integer division (`//`)/remainder division `%`\n",
    "- addition/subtraction\n"
   ]
  },
  {
   "cell_type": "code",
   "execution_count": null,
   "id": "14621d57",
   "metadata": {},
   "outputs": [],
   "source": []
  },
  {
   "cell_type": "markdown",
   "id": "6051db8c-80d4-469c-86f5-8029934ea0b5",
   "metadata": {
    "tags": []
   },
   "source": [
    "### Conditional Logic\n",
    "\n",
    "boolean comparators\n",
    "\n",
    "- equal to `==`\n",
    "- not equal to `!=`\n",
    "- greater than `>`\n",
    "- less than `<`\n",
    "- greater than or equal to `>=`\n",
    "- less than or equal to `<=`"
   ]
  },
  {
   "cell_type": "code",
   "execution_count": null,
   "id": "3d22cce6",
   "metadata": {},
   "outputs": [],
   "source": [
    "x = 5 \n",
    "y = 7\n",
    "x <= y"
   ]
  },
  {
   "cell_type": "markdown",
   "id": "ee094192-3c84-442f-a918-fd3b9c269d32",
   "metadata": {
    "tags": []
   },
   "source": [
    "### Sequence types: `list`, `tuple`, and `range`\n"
   ]
  },
  {
   "cell_type": "markdown",
   "id": "990d4591",
   "metadata": {},
   "source": [
    "#### Lists \n",
    "\n",
    "Lists may be constructed in several ways:\n",
    "\n",
    " - using square brackets:\n",
    "    - empty list: `[]`\n",
    "    - separating items with commas: `[a]`, `[a, b, c]`\n",
    " - list comprehension: \n",
    "    - `[x for x in iterable]`\n",
    " - type constructor: \n",
    "    - empty list: `list()` \n",
    "    - from iterable: `list(iterable)`"
   ]
  },
  {
   "cell_type": "code",
   "execution_count": null,
   "id": "097eff82",
   "metadata": {},
   "outputs": [],
   "source": [
    "# create some lists\n",
    "\n",
    "l1 = []\n",
    "l2 = list()\n",
    "l3 = [1, 2, 3]\n",
    "l4 = [ch for ch in 'abc']\n",
    "l5 = list('abc')"
   ]
  },
  {
   "cell_type": "markdown",
   "id": "7151bf81",
   "metadata": {},
   "source": [
    "##### List methods/operations\n",
    "\n",
    "Lists impement all of the [common sequence methods](https://docs.python.org/3/library/stdtypes.html#typesseq-common) and \n",
    "the [mutable sequence operations/methods](https://docs.python.org/3/library/stdtypes.html#typesseq-mutable).\n",
    "\n",
    "In addition, lists also support the additional method:\n",
    "   - `sort(key=None, reverse=False)`\n",
    "   - more information on sorting can be found in the [docs](https://docs.python.org/3/howto/sorting.html#sortinghowto)"
   ]
  },
  {
   "cell_type": "markdown",
   "id": "177ff121",
   "metadata": {},
   "source": [
    "\n",
    "##### List properties\n",
    "\n",
    "The important properties of lists are as follows:\n",
    " - elements can be accessed by index (suscriptable)\n",
    "  - iterable\n",
    " - mutable\n",
    " - ordered\n",
    " - can contain any arbitrary objects\n",
    " - can be nested to arbitrary depth\n",
    " - dynamic (change size)\n",
    "\n"
   ]
  },
  {
   "cell_type": "markdown",
   "id": "6a9f6263",
   "metadata": {},
   "source": [
    "\n",
    "<center><img src=\"Python_indexing.png\" alt=\"Drawing\" style=\"width: 600px;\"/><br><br>\n"
   ]
  },
  {
   "cell_type": "code",
   "execution_count": null,
   "id": "058bf386",
   "metadata": {},
   "outputs": [],
   "source": [
    "# create list of letters\n",
    "import string\n",
    "\n",
    "x = list(string.ascii_lowercase)\n",
    "print(x)\n",
    "\n",
    "\n"
   ]
  },
  {
   "cell_type": "code",
   "execution_count": null,
   "id": "dada56d7",
   "metadata": {},
   "outputs": [],
   "source": [
    "# get a single element\n",
    "\n",
    "print(x[0])\n",
    "print(x[1])\n",
    "print(x[25])\n",
    "print(x[-1])"
   ]
  },
  {
   "cell_type": "code",
   "execution_count": null,
   "id": "83502669-9e11-4895-9d5d-c134b479a953",
   "metadata": {},
   "outputs": [],
   "source": [
    "# slice\n",
    "print(x[0:5])\n",
    "print(x[:5]) # leaving off the first index implies starting from 0\n",
    "print(x[11:19])\n",
    "print(x[17:25])\n",
    "print(x[17:]) # leaving off second index implies going to the end\n"
   ]
  },
  {
   "cell_type": "code",
   "execution_count": null,
   "id": "271e3760",
   "metadata": {},
   "outputs": [],
   "source": [
    "# slice with step \n",
    "print(x[0:5])\n",
    "print(x[0:5:1]) # third number is the step size\n",
    "print(x[0:5:2]) # get every second element \n"
   ]
  },
  {
   "cell_type": "code",
   "execution_count": null,
   "id": "74d3a638",
   "metadata": {},
   "outputs": [],
   "source": [
    "# slice with negative indices\n",
    "print(x[-26:-21])\n",
    "print(x[-5:-1])"
   ]
  },
  {
   "cell_type": "code",
   "execution_count": null,
   "id": "b9e1f193",
   "metadata": {},
   "outputs": [],
   "source": [
    "# change an element\n",
    "print(id(x))\n",
    "x[0] = 'g'\n",
    "print(id(x))\n",
    "print(x)"
   ]
  },
  {
   "cell_type": "code",
   "execution_count": null,
   "id": "a4bb9a99",
   "metadata": {},
   "outputs": [],
   "source": [
    "# iterate over a list\n",
    "\n",
    "x = [1, 2, 3]\n",
    "\n",
    "for el in x:\n",
    "    print(el)\n",
    "    print('inside the loop')\n",
    "\n",
    "print() # print empty line\n",
    "print('OUTSIDE THE LOOP')"
   ]
  },
  {
   "cell_type": "code",
   "execution_count": null,
   "id": "4bb47313",
   "metadata": {},
   "outputs": [],
   "source": [
    "# ordered \n",
    "[1, 2, 3] == [3, 1, 2]\n"
   ]
  },
  {
   "cell_type": "code",
   "execution_count": null,
   "id": "056ca7ef",
   "metadata": {},
   "outputs": [],
   "source": [
    "# arbitrary objects\n",
    "x = [1, 'a', print, [5, 6, 7], True]\n",
    "print(type(x))\n",
    "print(type(x[3]))\n",
    "x[3][1]"
   ]
  },
  {
   "cell_type": "code",
   "execution_count": null,
   "id": "0f3be00f",
   "metadata": {},
   "outputs": [],
   "source": [
    "# nesting\n",
    "x = [1, [1, [1, 2]]]\n",
    "x[1][1][0]"
   ]
  },
  {
   "cell_type": "code",
   "execution_count": null,
   "id": "80a4f29d",
   "metadata": {},
   "outputs": [],
   "source": [
    "# add elements to a list: append, extend\n",
    "x = [1, 2, 3]\n",
    "x.append(4)\n",
    "x.extend([5, 6])\n",
    "x = x + [7, 8, 9]\n",
    "x"
   ]
  },
  {
   "cell_type": "markdown",
   "id": "2f9ac83f",
   "metadata": {},
   "source": [
    "#### Tuples \n",
    "\n",
    "Tuples may be constructed in several ways:\n",
    " - empty tuple: \n",
    "    - `()`\n",
    "    - `tuple()`\n",
    " - a singleton tuple: \n",
    "    - `a,` \n",
    "    - `(a,)`\n",
    " - a multi-element tuple:\n",
    "    - `a, b, c` \n",
    "    - `(a, b, c)`\n",
    "    - `tuple(iterable)`"
   ]
  },
  {
   "cell_type": "code",
   "execution_count": null,
   "id": "6a9a6be3",
   "metadata": {},
   "outputs": [],
   "source": [
    "# create some tuples \n",
    "t1 = ()\n",
    "t2 = tuple()\n",
    "t3 = 2, \n",
    "t4 = (9, )\n",
    "t5 = 1, 2, 3\n",
    "t6 = (4, 5, 6, 7)\n",
    "t7 = tuple([8, 9])\n",
    "\n",
    "tuple_list = [t1, t2, t3, t4, t5, t6, t7]\n",
    "\n",
    "for t in tuple_list:\n",
    "    print(type(t), len(t))"
   ]
  },
  {
   "cell_type": "markdown",
   "id": "b62580a2",
   "metadata": {},
   "source": [
    "##### Tuple methods\n",
    "\n",
    "Tuples impement all of the [common sequence methods](https://docs.python.org/3/library/stdtypes.html#typesseq-common).\n"
   ]
  },
  {
   "cell_type": "markdown",
   "id": "89a386f7",
   "metadata": {},
   "source": [
    "##### Tuple properties\n",
    "\n",
    "The important properties of tuples are as follows:\n",
    " - elements can be accessed by index (suscriptable)\n",
    " - iterable\n",
    " - immutable\n",
    " - ordered\n",
    " - can contain any arbitrary objects\n",
    " - can be nested to arbitrary depth\n"
   ]
  },
  {
   "cell_type": "code",
   "execution_count": null,
   "id": "5f2aa423",
   "metadata": {},
   "outputs": [],
   "source": [
    "# single element selection\n",
    "t6[0]"
   ]
  },
  {
   "cell_type": "code",
   "execution_count": null,
   "id": "51222448",
   "metadata": {},
   "outputs": [],
   "source": [
    "# slice \n",
    "t6[0:3]"
   ]
  },
  {
   "cell_type": "code",
   "execution_count": null,
   "id": "d87a9949",
   "metadata": {},
   "outputs": [],
   "source": [
    "# change an element\n",
    "t6[0] = 999"
   ]
  },
  {
   "cell_type": "code",
   "execution_count": null,
   "id": "323fb3b2",
   "metadata": {},
   "outputs": [],
   "source": [
    "# iterate over a tuple\n",
    "\n",
    "for item in t6:\n",
    "    print(item)"
   ]
  },
  {
   "cell_type": "code",
   "execution_count": null,
   "id": "635359ff",
   "metadata": {},
   "outputs": [],
   "source": [
    "# ordered \n",
    "(1, 2, 3) == (2, 3, 1)\n"
   ]
  },
  {
   "cell_type": "code",
   "execution_count": null,
   "id": "cbe3772b",
   "metadata": {},
   "outputs": [],
   "source": [
    "# arbitrary objects\n",
    "(1, 'a', [2, 3], print)\n"
   ]
  },
  {
   "cell_type": "code",
   "execution_count": null,
   "id": "e56c565c",
   "metadata": {},
   "outputs": [],
   "source": [
    "# nesting\n",
    "t = (1, (2, (3, 4)))\n",
    "print(t)\n",
    "print(t[0])\n",
    "print(t[1])\n",
    "\n",
    "print(t[1][0])\n",
    "print(t[1][1])\n",
    "\n",
    "print(t[1][1][1])\n",
    "\n"
   ]
  },
  {
   "cell_type": "markdown",
   "id": "61d2a96c",
   "metadata": {},
   "source": [
    "#### `range` function"
   ]
  },
  {
   "cell_type": "markdown",
   "id": "765b34bf",
   "metadata": {},
   "source": [
    "The range object is:\n",
    " - suscriptable\n",
    " - iterable\n",
    " - immutable\n",
    " - ordered\n",
    "\n",
    "However, you will generally see it used for loops, so the iterable property is the only one typcially seen. "
   ]
  },
  {
   "cell_type": "code",
   "execution_count": null,
   "id": "06c62d8f",
   "metadata": {},
   "outputs": [],
   "source": [
    "for i in range(5):\n",
    "    print(i)"
   ]
  },
  {
   "cell_type": "markdown",
   "id": "d090831e",
   "metadata": {},
   "source": [
    "### Set types: `set`\n",
    "\n",
    " - using braces:\n",
    "    - separating items with commas: `{'a', 'b', 'c'}`\n",
    " - set comprehension: \n",
    "    - `{ch for ch in 'abc'}`\n",
    " - type constructor: \n",
    "    - empty list: `set()` \n",
    "    - from iterable: `set(iterable)`\n",
    "\n"
   ]
  },
  {
   "cell_type": "code",
   "execution_count": null,
   "id": "d0df0ba6",
   "metadata": {},
   "outputs": [],
   "source": [
    "# create some sets \n",
    "s1 = {'a', 'b', 'c', 'd', 'e'}\n",
    "s2 = {ch for ch in 'abcdefg'}\n",
    "s3 = set()\n",
    "s4 = set(['a', 'b', 'c'])\n",
    "\n",
    "set_list = [s1, s2, s3, s4]\n",
    "\n",
    "for s in set_list:\n",
    "    print(type(s), s)"
   ]
  },
  {
   "cell_type": "code",
   "execution_count": null,
   "id": "c384ebc3",
   "metadata": {},
   "outputs": [],
   "source": [
    "# beware {}\n",
    "s = {}\n",
    "type(s)"
   ]
  },
  {
   "cell_type": "markdown",
   "id": "3817e2e4",
   "metadata": {},
   "source": [
    "#### Set methods/operations\n",
    "\n",
    "Sets implement various [methods/operations](https://docs.python.org/3/library/stdtypes.html#set) as noted in the docs."
   ]
  },
  {
   "cell_type": "markdown",
   "id": "1397c4c8",
   "metadata": {},
   "source": [
    "##### Set properties\n",
    "\n",
    "The important properties of sets are as follows:\n",
    " - elements are unique\n",
    " - not subscriptable\n",
    " - iterable\n",
    " - mutable\n",
    " - unordered\n",
    " - elements must be hashable \n"
   ]
  },
  {
   "cell_type": "code",
   "execution_count": null,
   "id": "c6262fb0",
   "metadata": {},
   "outputs": [],
   "source": [
    "# unique elements\n",
    "set([1, 1, 2, 3, 3, 4, 4])"
   ]
  },
  {
   "cell_type": "code",
   "execution_count": null,
   "id": "36864d92",
   "metadata": {},
   "outputs": [],
   "source": [
    "# not subscriptable\n",
    "s2[0]"
   ]
  },
  {
   "cell_type": "code",
   "execution_count": null,
   "id": "778964a7",
   "metadata": {},
   "outputs": [],
   "source": [
    "# iterable\n",
    "for item in s2:\n",
    "    print(item)"
   ]
  },
  {
   "cell_type": "code",
   "execution_count": null,
   "id": "3881a412",
   "metadata": {},
   "outputs": [],
   "source": [
    "# mutable: add, remove, update\n",
    "s2 = {ch for ch in 'abcdefg'}\n",
    "\n",
    "s2.add('RRR')\n",
    "print(s2)\n",
    "\n",
    "s2.remove('a')\n",
    "print(s2)\n",
    "\n",
    "s2.update(['h', 'i', 'j'])\n",
    "s2\n"
   ]
  },
  {
   "cell_type": "code",
   "execution_count": null,
   "id": "c375dcbb",
   "metadata": {},
   "outputs": [],
   "source": [
    "# elements must be hashable\n",
    "{1, 2, [3, 4]}"
   ]
  },
  {
   "cell_type": "code",
   "execution_count": null,
   "id": "f057cc47",
   "metadata": {},
   "outputs": [],
   "source": [
    "# union\n",
    "S1 = {'a', 'b', 'c'}\n",
    "S2 = {'c', 'd', 'e'}\n",
    "S1.union(S2)\n"
   ]
  },
  {
   "cell_type": "code",
   "execution_count": null,
   "id": "8c65d8cc",
   "metadata": {},
   "outputs": [],
   "source": [
    "# intersection\n",
    "S1.intersection(S2)"
   ]
  },
  {
   "cell_type": "markdown",
   "id": "18e7a8d1",
   "metadata": {},
   "source": [
    "### Mapping types: `dict`"
   ]
  },
  {
   "cell_type": "markdown",
   "id": "efed57f6",
   "metadata": {},
   "source": [
    "#### Dictionary \n",
    "\n",
    "Lists may be constructed in several ways:\n",
    "\n",
    " - using `key:value` pairs with braces:\n",
    "    - empty list: `{}`\n",
    "    - separating items with commas: `{'a':1, 'b':2, 'c':3}`\n",
    " - dictionary comprehension: \n",
    "    - `{x:x**2 for x in range(10)}`\n",
    " - type constructor: \n",
    "    - empty list: `dict()` \n",
    "    - from iterable: `dict([('a', 1), ('b', 2), ('c', 3)])`, `dict(a=1, b=2, c=3)`"
   ]
  },
  {
   "cell_type": "code",
   "execution_count": null,
   "id": "33496d72",
   "metadata": {},
   "outputs": [],
   "source": [
    "# create some dictionaries\n",
    "\n",
    "d1 = {}\n",
    "d2 = dict()\n",
    "d3 = {'a': 1, 'b': 2, 'c': 3}\n",
    "d4 = {x:x**2 for x in range(10)}\n",
    "d5 = dict(a=1, b=2, c=3)\n",
    "\n",
    "dict_list = [d1, d2, d3, d4, d5]\n",
    "\n",
    "for d in dict_list:\n",
    "    print(type(d), d)"
   ]
  },
  {
   "cell_type": "markdown",
   "id": "8c357436",
   "metadata": {},
   "source": [
    "#### Dictionary operations\n",
    "\n",
    "Dictionaries various [methods/operations](https://docs.python.org/3/library/stdtypes.html#dict) as noted in the docs."
   ]
  },
  {
   "cell_type": "markdown",
   "id": "928c9322",
   "metadata": {},
   "source": [
    "##### Dictionary  properties\n",
    "\n",
    "The important properties of dictionaries are as follows:\n",
    " - access values by keys\n",
    " - iterable\n",
    " - mutable\n",
    " - unordered\n",
    " - keys must be hashable\n",
    " - can be nested\n",
    " - dynamic\n"
   ]
  },
  {
   "cell_type": "code",
   "execution_count": null,
   "id": "3c0bd246",
   "metadata": {},
   "outputs": [],
   "source": [
    "# access via key\n",
    "\n",
    "d5['a']"
   ]
  },
  {
   "cell_type": "code",
   "execution_count": null,
   "id": "aa2eb0f8",
   "metadata": {},
   "outputs": [],
   "source": [
    "# mutable: d[k]=v, del, update\n",
    "d5 = dict(a=1, b=2, c=3)\n",
    "\n",
    "d5['a'] = 99\n",
    "print(d5)\n",
    "\n",
    "d5['d'] = 4\n",
    "print(d5)\n",
    "\n",
    "del d5['a']\n",
    "print(d5)\n",
    "\n",
    "d5.update({'e':5})\n",
    "d5"
   ]
  },
  {
   "cell_type": "code",
   "execution_count": null,
   "id": "100f9589",
   "metadata": {},
   "outputs": [],
   "source": [
    "# nesting\n",
    "D = {'a':[1, 2, 3], 'b':{'c':4, 'd':5}}\n",
    "D"
   ]
  },
  {
   "cell_type": "code",
   "execution_count": null,
   "id": "a3dabc12",
   "metadata": {},
   "outputs": [],
   "source": [
    "# iterable\n",
    "\n",
    "for k in d5:\n",
    "    print(k)"
   ]
  },
  {
   "cell_type": "code",
   "execution_count": null,
   "id": "ebb6e975",
   "metadata": {},
   "outputs": [],
   "source": [
    "for k in d5.keys():\n",
    "    print(k)"
   ]
  },
  {
   "cell_type": "code",
   "execution_count": null,
   "id": "3e897480",
   "metadata": {},
   "outputs": [],
   "source": [
    "for v in d5.values():\n",
    "    print(v)"
   ]
  },
  {
   "cell_type": "code",
   "execution_count": null,
   "id": "40321292",
   "metadata": {},
   "outputs": [],
   "source": [
    "for k,v in d5.items():\n",
    "    print(k, v)"
   ]
  },
  {
   "cell_type": "code",
   "execution_count": 1,
   "id": "c0e23c2c",
   "metadata": {},
   "outputs": [
    {
     "name": "stdout",
     "output_type": "stream",
     "text": [
      "Goodbye!\n"
     ]
    }
   ],
   "source": [
    "print(\"Goodbye!\")"
   ]
  },
  {
   "cell_type": "code",
   "execution_count": null,
   "id": "34d6c198",
   "metadata": {},
   "outputs": [],
   "source": []
  }
 ],
 "metadata": {
  "kernelspec": {
   "display_name": "Python 3 (ipykernel)",
   "language": "python",
   "name": "python3"
  },
  "language_info": {
   "codemirror_mode": {
    "name": "ipython",
    "version": 3
   },
   "file_extension": ".py",
   "mimetype": "text/x-python",
   "name": "python",
   "nbconvert_exporter": "python",
   "pygments_lexer": "ipython3",
   "version": "3.12.1"
  }
 },
 "nbformat": 4,
 "nbformat_minor": 5
}
