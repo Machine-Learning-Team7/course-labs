{
 "cells": [
  {
   "cell_type": "markdown",
   "id": "e9640966-b7ee-40fb-8caa-efad518daabb",
   "metadata": {},
   "source": [
    "# Basic error handling\n",
    "\n",
    " - Syntax Error vs Exceptions\n",
    " - `raise`\n",
    " - `assert`\n",
    " - `try`/`except`"
   ]
  },
  {
   "cell_type": "code",
   "execution_count": 1,
   "id": "e564b2c4",
   "metadata": {},
   "outputs": [
    {
     "ename": "SyntaxError",
     "evalue": "incomplete input (1448804655.py, line 3)",
     "output_type": "error",
     "traceback": [
      "\u001b[1;36m  Cell \u001b[1;32mIn[1], line 3\u001b[1;36m\u001b[0m\n\u001b[1;33m    print(\"hello world\"\u001b[0m\n\u001b[1;37m                       ^\u001b[0m\n\u001b[1;31mSyntaxError\u001b[0m\u001b[1;31m:\u001b[0m incomplete input\n"
     ]
    }
   ],
   "source": [
    "# syntax error\n",
    "\n",
    "print(\"hello world\""
   ]
  },
  {
   "cell_type": "code",
   "execution_count": 3,
   "id": "bd58471f-0358-484c-b774-98d2dd5f85c6",
   "metadata": {},
   "outputs": [
    {
     "ename": "Exception",
     "evalue": "x should not be negative",
     "output_type": "error",
     "traceback": [
      "\u001b[1;31m---------------------------------------------------------------------------\u001b[0m",
      "\u001b[1;31mException\u001b[0m                                 Traceback (most recent call last)",
      "\u001b[1;32mc:\\Users\\manolo\\OneDrive - St. Lawrence College\\Documents\\slc\\winter2024\\pyTest\\test\\basic_error_handling.ipynb Cell 3\u001b[0m line \u001b[0;36m6\n\u001b[0;32m      <a href='vscode-notebook-cell:/c%3A/Users/manolo/OneDrive%20-%20St.%20Lawrence%20College/Documents/slc/winter2024/pyTest/test/basic_error_handling.ipynb#W2sZmlsZQ%3D%3D?line=2'>3</a>\u001b[0m x \u001b[39m=\u001b[39m \u001b[39m-\u001b[39m\u001b[39m1\u001b[39m\n\u001b[0;32m      <a href='vscode-notebook-cell:/c%3A/Users/manolo/OneDrive%20-%20St.%20Lawrence%20College/Documents/slc/winter2024/pyTest/test/basic_error_handling.ipynb#W2sZmlsZQ%3D%3D?line=4'>5</a>\u001b[0m \u001b[39mif\u001b[39;00m x \u001b[39m<\u001b[39m \u001b[39m0\u001b[39m:\n\u001b[1;32m----> <a href='vscode-notebook-cell:/c%3A/Users/manolo/OneDrive%20-%20St.%20Lawrence%20College/Documents/slc/winter2024/pyTest/test/basic_error_handling.ipynb#W2sZmlsZQ%3D%3D?line=5'>6</a>\u001b[0m     \u001b[39mraise\u001b[39;00m \u001b[39mException\u001b[39;00m(\u001b[39m\"\u001b[39m\u001b[39mx should not be negative\u001b[39m\u001b[39m\"\u001b[39m)\n\u001b[0;32m      <a href='vscode-notebook-cell:/c%3A/Users/manolo/OneDrive%20-%20St.%20Lawrence%20College/Documents/slc/winter2024/pyTest/test/basic_error_handling.ipynb#W2sZmlsZQ%3D%3D?line=7'>8</a>\u001b[0m \u001b[39mprint\u001b[39m(\u001b[39m'\u001b[39m\u001b[39mhi\u001b[39m\u001b[39m'\u001b[39m)\n",
      "\u001b[1;31mException\u001b[0m: x should not be negative"
     ]
    }
   ],
   "source": [
    "# raise Exception based on a condition\n",
    "\n",
    "x = -1\n",
    "\n",
    "if x < 0:\n",
    "    raise Exception(\"x should not be negative\")\n",
    "\n",
    "print('hi')"
   ]
  },
  {
   "cell_type": "code",
   "execution_count": null,
   "id": "0930b0ad-dc54-46e9-b8f4-842847aadabb",
   "metadata": {
    "tags": []
   },
   "outputs": [],
   "source": [
    "# AssertionError Exception based on asserting a condition\n",
    "\n",
    "def adder(x, y):\n",
    "    assert isinstance(x, (int, float)), \"x needs to be numeric\" \n",
    "    assert isinstance(y, (int, float)), \"y needs to be numeric\" \n",
    "    return x + y"
   ]
  },
  {
   "cell_type": "code",
   "execution_count": null,
   "id": "16ee7f1b-28a8-4762-a114-39fb7d413e72",
   "metadata": {
    "tags": []
   },
   "outputs": [],
   "source": [
    "adder(2, 3)"
   ]
  },
  {
   "cell_type": "code",
   "execution_count": null,
   "id": "ed4f9085",
   "metadata": {},
   "outputs": [],
   "source": [
    "adder(2, '3')"
   ]
  },
  {
   "cell_type": "code",
   "execution_count": null,
   "id": "f7a3d114-7beb-42f3-9413-bcd7a227f20d",
   "metadata": {
    "tags": []
   },
   "outputs": [],
   "source": [
    "# try/except to catch and handle exceptions\n",
    "\n",
    "x = 5 \n",
    "y = 4 # try changing this to 0 or '4'\n",
    "\n",
    "try:\n",
    "    x/y\n",
    "except (ZeroDivisionError, TypeError) as e:\n",
    "    print(e)\n",
    "    \n",
    "print('hi') # will still execute even when there is an error"
   ]
  },
  {
   "cell_type": "code",
   "execution_count": null,
   "id": "ff2231a6-67a4-4b12-9e50-ffac083055f7",
   "metadata": {
    "tags": []
   },
   "outputs": [],
   "source": [
    "# try/except to catch and handle exceptions\n",
    "\n",
    "filename = \"lkwjefkj.kjkjdf\"\n",
    "\n",
    "try:\n",
    "    with open(filename) as f:\n",
    "        f.read()\n",
    "except FileNotFoundError:\n",
    "    print(f\"no such file name {filename}\")\n",
    "    \n",
    "print('hi') # will still execute even when there is an error"
   ]
  }
 ],
 "metadata": {
  "kernelspec": {
   "display_name": "Python 3 (ipykernel)",
   "language": "python",
   "name": "python3"
  },
  "language_info": {
   "codemirror_mode": {
    "name": "ipython",
    "version": 3
   },
   "file_extension": ".py",
   "mimetype": "text/x-python",
   "name": "python",
   "nbconvert_exporter": "python",
   "pygments_lexer": "ipython3",
   "version": "3.12.1"
  }
 },
 "nbformat": 4,
 "nbformat_minor": 5
}
