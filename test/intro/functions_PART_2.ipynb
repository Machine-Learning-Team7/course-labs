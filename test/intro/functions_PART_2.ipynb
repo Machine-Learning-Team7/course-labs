{
 "cells": [
  {
   "cell_type": "markdown",
   "id": "346d8e02-3d49-4aa0-b37d-60b89f853fc4",
   "metadata": {},
   "source": [
    "# Functions *cont'd*"
   ]
  },
  {
   "cell_type": "markdown",
   "id": "0d9a3596-a39c-4ee7-8e01-cf79334278d7",
   "metadata": {},
   "source": [
    "## Varible-length argument lists"
   ]
  },
  {
   "cell_type": "markdown",
   "id": "e4483137-2fa6-4374-a358-4a30d851cbc2",
   "metadata": {},
   "source": [
    "#### Argument tuple packing"
   ]
  },
  {
   "cell_type": "code",
   "execution_count": null,
   "id": "c3c77784",
   "metadata": {},
   "outputs": [],
   "source": [
    "def tuple_packing(*args):\n",
    "    for arg in args:\n",
    "        print(f\"Type: {type(arg)}, Value: {arg}\")\n",
    "\n",
    "# Example usage\n",
    "tuple_packing(1, 'hello', [1, 2, 3])\n"
   ]
  },
  {
   "cell_type": "markdown",
   "id": "c374ba98-144d-4966-8798-fa797ac3e927",
   "metadata": {},
   "source": [
    "#### Argument Tuple Unpacking"
   ]
  },
  {
   "cell_type": "code",
   "execution_count": null,
   "id": "250da6bb-03f2-416a-87b7-e25146167b72",
   "metadata": {},
   "outputs": [],
   "source": [
    "# Define a tuple\n",
    "my_tuple = (1, 2, 3)\n",
    "\n",
    "# Unpack the tuple into separate variables\n",
    "a, b, c = my_tuple\n",
    "\n",
    "# Print the unpacked variables\n",
    "print(a) \n",
    "print(b)  \n",
    "print(c)  \n"
   ]
  },
  {
   "cell_type": "code",
   "execution_count": null,
   "id": "8d6eee74",
   "metadata": {},
   "outputs": [],
   "source": [
    "def my_function(a, b, c):\n",
    "    print(f\"a: {a}\")\n",
    "    print(f\"b: {b}\")\n",
    "    print(f\"c: {c}\")\n",
    "\n",
    "# Define a tuple\n",
    "my_tuple = (1, 2, 3)\n",
    "\n",
    "# Unpack the tuple as arguments to the function\n",
    "my_function(*my_tuple)\n"
   ]
  },
  {
   "cell_type": "markdown",
   "id": "9838d055-68b6-488c-b577-f4eecd90d5d3",
   "metadata": {},
   "source": [
    "#### Argument Dictionary Packing"
   ]
  },
  {
   "cell_type": "code",
   "execution_count": null,
   "id": "dea7098d-a604-42f2-869a-fdec7f964ede",
   "metadata": {},
   "outputs": [],
   "source": [
    "def dictionary_packing(**kwargs):\n",
    "    for key, value in kwargs.items():\n",
    "        print(f\"Key: {key}, Value: {value}\")\n",
    "\n",
    "# Example usage\n",
    "dictionary_packing(name='Alice', age=25)\n"
   ]
  },
  {
   "cell_type": "markdown",
   "id": "8575b871-e8b1-43d9-80f5-dbbd1d015c0b",
   "metadata": {},
   "source": [
    "#### Argument Dictionary Unpacking"
   ]
  },
  {
   "cell_type": "code",
   "execution_count": null,
   "id": "ce36bc6e-885f-421e-abad-6cdb4655bd41",
   "metadata": {},
   "outputs": [],
   "source": [
    "def my_function(a, b, c):\n",
    "    print(f\"a: {a}\")\n",
    "    print(f\"b: {b}\")\n",
    "    print(f\"c: {c}\")\n",
    "\n",
    "# Define a dictionary\n",
    "my_dict = {'a': 1, 'b': 2, 'c': 3}\n",
    "\n",
    "# Unpack the dictionary as keyword arguments to the function\n",
    "my_function(**my_dict)\n"
   ]
  },
  {
   "cell_type": "markdown",
   "id": "563503c6-4611-40c6-85e9-84c6cb6ff94b",
   "metadata": {},
   "source": [
    "#### Multiple Unpackings in a Python Function Call"
   ]
  },
  {
   "cell_type": "code",
   "execution_count": null,
   "id": "e29269ec-517c-4810-808c-3509733e323b",
   "metadata": {},
   "outputs": [],
   "source": [
    "def my_function(*args, **kwargs):\n",
    "    # Access and print the positional arguments\n",
    "    for arg in args:\n",
    "        print(f\"Positional argument: {arg}\")\n",
    "    \n",
    "    # Access and print the keyword arguments\n",
    "    for key, value in kwargs.items():\n",
    "        print(f\"Keyword argument - Key: {key}, Value: {value}\")\n",
    "\n",
    "# Example usage\n",
    "my_function(1, 2, 3, name='Alice', age=25)\n"
   ]
  },
  {
   "cell_type": "markdown",
   "id": "aaa77f59-e9b3-4d83-a8e4-ffb354060d38",
   "metadata": {
    "tags": []
   },
   "source": [
    "### Docstrings ([PEP257](https://peps.python.org/pep-0257/))\n",
    "\n",
    "To create a docstring: \n",
    " - always use `\"\"\"triple double quotes\"\"\"` \n",
    "     - use `r\"\"\"raw triple double quotes\"\"\"` if you use any backslashes\n",
    "\n",
    "There are two types:\n",
    " - one-line docstrings\n",
    " - multi-line docstrings"
   ]
  },
  {
   "cell_type": "markdown",
   "id": "a26a7f8c-8c7d-45bb-b782-b7e057575288",
   "metadata": {},
   "source": [
    "#### One-line docstrings\n",
    "\n",
    "- triple quotes are used even though the string fits on one line. This makes it easy to later expand it.\n",
    "    - one line is a maximum of 72 characters\n",
    "- closing quotes are on the same line as the opening quotes. This looks better for one-liners.\n",
    "- no blank line either before or after the docstring.\n",
    "- the docstring is a phrase ending in a period. It prescribes the function or method’s effect as a command (“Do this”, “Return that”), not as a description\n",
    "- should NOT be a “signature” reiterating the function/method parameters (which can be obtained by introspection). DON'T do:\n",
    "\n",
    "```python\n",
    "def function(a, b):\n",
    "    \"\"\"function(a, b) -> list\"\"\"\n",
    "    <statement(s)>\n",
    "```\n",
    "- the nature of the return value cannot be determined by introspection, so it should be mentioned. The preferred form for such a docstring would be something like:\n",
    "\n",
    "```python\n",
    "def function(a, b):\n",
    "    \"\"\"Do X and return a list.\"\"\"\n",
    "    <statement(s)>\n",
    "```"
   ]
  },
  {
   "cell_type": "markdown",
   "id": "d662d0bb-938b-4044-afc2-d0470105d632",
   "metadata": {},
   "source": [
    "#### Multi-line docstrings \n",
    "\n",
    " - consist of a summary line just like a one-line docstring, followed by a blank line, followed by a more elaborate description. \n",
    "     - important that it fits on one line and is separated from the rest of the docstring by a blank line \n",
    "     - the summary line may be on the same line as the opening quotes or on the next line\n",
    " - summarize function behavior\n",
    " - document:  \n",
    "     - arguments\n",
    "     - return value(s)\n",
    "     - side effects \n",
    "     - exceptions raised \n",
    "     - restrictions on when it can be called (all if applicable)\n",
    "     - optional arguments should be indicated \n",
    "     - whether keyword arguments are part of the interface\n",
    "    "
   ]
  },
  {
   "cell_type": "code",
   "execution_count": null,
   "id": "1e6241aa-6a00-4235-8a07-5b40f4053a70",
   "metadata": {},
   "outputs": [],
   "source": [
    "import math\n",
    "\n",
    "def root_square(lst):\n",
    "    \"\"\"\n",
    "    Calculates the square root of the sum of squares of the elements in the given list.\n",
    "\n",
    "    Parameters:\n",
    "    lst (list): A list of numbers.\n",
    "\n",
    "    Returns:\n",
    "    float: The square root of the sum of squares of the elements in the list.\n",
    "    \"\"\"\n",
    "    total = 0\n",
    "    for el in lst:\n",
    "        total += el**2\n",
    "    return math.sqrt(total)"
   ]
  },
  {
   "cell_type": "code",
   "execution_count": null,
   "id": "98faa24e",
   "metadata": {},
   "outputs": [],
   "source": [
    "help(root_square)"
   ]
  },
  {
   "cell_type": "markdown",
   "id": "3fb37f2c-8c23-4c6b-99b2-2ceaa849f0e9",
   "metadata": {},
   "source": [
    "### Function annotations (type hinting)"
   ]
  },
  {
   "cell_type": "code",
   "execution_count": null,
   "id": "f7aba716-9e57-4a17-84ca-21c695e8c89f",
   "metadata": {},
   "outputs": [],
   "source": [
    "from typing import List\n",
    "\n",
    "def root_square(lst: List[float]) -> float:\n",
    "    total: float = 0\n",
    "    for el in lst:\n",
    "        total += el**2\n",
    "    return math.sqrt(total)"
   ]
  },
  {
   "cell_type": "markdown",
   "id": "6bf5072e-b8b3-46e5-a99b-9904a57cec4f",
   "metadata": {},
   "source": [
    "## Lambda functions"
   ]
  },
  {
   "cell_type": "code",
   "execution_count": null,
   "id": "1d90419a",
   "metadata": {},
   "outputs": [],
   "source": [
    "lambda x: x + 1"
   ]
  },
  {
   "cell_type": "code",
   "execution_count": null,
   "id": "b3f334cf-1b0d-4299-83f2-beb645639ee7",
   "metadata": {},
   "outputs": [],
   "source": [
    "square = lambda x: x ** 2\n",
    "\n",
    "\n",
    "add = lambda x, y: x + y"
   ]
  },
  {
   "cell_type": "code",
   "execution_count": null,
   "id": "430492a2",
   "metadata": {},
   "outputs": [],
   "source": [
    "# List of tuples\n",
    "my_list = [('Eve', 28), ('Frank', 32), ('Grace', 24)]\n",
    "\n",
    "# Sort the list of tuples based on the second element of each tuple\n",
    "sorted_list = sorted(my_list, key=lambda x: x[1])\n",
    "\n",
    "print(sorted_list)\n"
   ]
  }
 ],
 "metadata": {
  "kernelspec": {
   "display_name": "Python 3 (ipykernel)",
   "language": "python",
   "name": "python3"
  },
  "language_info": {
   "codemirror_mode": {
    "name": "ipython",
    "version": 3
   },
   "file_extension": ".py",
   "mimetype": "text/x-python",
   "name": "python",
   "nbconvert_exporter": "python",
   "pygments_lexer": "ipython3",
   "version": "3.12.1"
  }
 },
 "nbformat": 4,
 "nbformat_minor": 5
}
