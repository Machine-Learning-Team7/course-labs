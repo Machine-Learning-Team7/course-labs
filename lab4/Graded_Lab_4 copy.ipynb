{
 "cells": [
  {
   "cell_type": "markdown",
   "metadata": {},
   "source": [
    "## COMP2006: Graded Lab 4\n",
    "\n",
    "In this lab, you will gain some experience in dealing with missing data and further practice converting non-numeric features in a dataset to numeric.\n",
    "\n",
    "**Target**: to predict `Comb Unadj FE - Conventional Fuel`"
   ]
  },
  {
   "cell_type": "markdown",
   "metadata": {},
   "source": [
    "**Data set**: make sure you use the data assigned to your group!\n",
    "\n",
    "| Groups | Data set |\n",
    "| :-: | :-: |\n",
    "| 1 | veh1_missing.csv |\n",
    "| 2 | veh2_missing.csv |\n",
    "| 3 | veh3_missing.csv |\n",
    "| 4 | veh4_missing.csv |\n",
    "| 5 | veh5_missing.csv |\n",
    "| 6 | veh6_missing.csv |\n",
    "| 7 | veh7_missing.csv |\n",
    "| 8 | veh8_missing.csv |\n",
    "| 10 | veh10_missing.csv |\n",
    "\n",
    "**Important Notes:**\n",
    "- Use [Chapter 7](https://mlbook.explained.ai/bulldozer-intro.html) of the textbook as a **guide**:\n",
    "     - you only need to use **random forest** models;\n",
    "- Use the **out-of-bag score** to evaluate models\n",
    "     - Read Section 5.2 carefully so that you use this method properly\n",
    "     - The oob score that you provide should be the average of 10 runs\n",
    "- Code submitted for this lab should be:\n",
    "     - error free\n",
    "         - to make sure this is the case, before submitting, close all Jupyter notebooks, exit Anaconda, reload the lab notebook and execute all cells\n",
    "     - final code\n",
    "         - this means that I don't want to see every piece of code you try as you work through this lab but only the final code; only the code that fulfills the objective\n",
    "\n",
    "> **Don't make assumptions!**\n"
   ]
  },
  {
   "cell_type": "markdown",
   "metadata": {},
   "source": [
    "### Part 0\n",
    "\n",
    "### Group Number 7\n",
    " - Manuel Bishop Noriega - ID 4362207\n",
    " - Robert E. Matney III - ID: 4364229\n",
    "\n",
    "     "
   ]
  },
  {
   "cell_type": "markdown",
   "metadata": {},
   "source": [
    "### Part 1 - Create and evaluate an initial model\n",
    "\n",
    "In this part you should: \n",
    " - use Section 7.3 of the textbook as a guide, except:\n",
    "     - use all of the data; and\n",
    "     - use 150 decision trees in your random forest models\n",
    " - read in the data\n",
    " - isolate all numeric features from original data set\n",
    " - fill in any missing values with 0\n",
    " - create and evaluate a baseline model \n",
    "\n",
    "#### Code (10 marks)"
   ]
  },
  {
   "cell_type": "markdown",
   "metadata": {},
   "source": [
    "### Importing libraries and setting up some useful functions"
   ]
  },
  {
   "cell_type": "code",
   "execution_count": 36,
   "metadata": {},
   "outputs": [],
   "source": [
    "import pandas as pd\n",
    "# from rfpimp import *\n",
    "from rfpimp_MC import *\n",
    "from sklearn.ensemble import RandomForestRegressor\n",
    "import warnings # to avoid some warnings about plots\n",
    "warnings.filterwarnings('ignore')\n",
    "\n",
    "# ------------------------------- HELPER FUNCTIONS ----------------------------------\n",
    "# to prevent repeating code we'll create an evaluation function called evalute\n",
    "# it will take features and target as parameters and use them to\n",
    "# create and fit a random forest regressor model and calculate it's oob performance\n",
    "# it returns a tuple with rf model and its oob average from 10 runs\n",
    "def evaluate(X,y):\n",
    "    \n",
    "    oob_scores = []\n",
    "    for i in range(10):\n",
    "        rf = RandomForestRegressor(n_estimators=100, n_jobs=-1, oob_score=True)\n",
    "        rf.fit(X, y)\n",
    "        oob_scores.append(rf.oob_score_)\n",
    "    oob=sum(oob_scores) / len(oob_scores)\n",
    "    print(f'Mean OOB score: {oob}')\n",
    "    print(f'{rfnnodes(rf):,d} tree nodes and {np.median(rfmaxdepths(rf))} median tree height')\n",
    "\n",
    "    return rf, oob\n",
    "\n",
    "# showimp() show features importances, it accepts up to 4 params\n",
    "# rf: a randomforest regressor\n",
    "# X,y are the features and target\n",
    "# features, I added this to perform different tests while converting non-numeric features\n",
    "# plots the features' importances graphic\n",
    "def showimp(rf,X,y,features):\n",
    "    I=importances(rf,X,y, features=features)\n",
    "    plot_importances(I,color='blue')"
   ]
  },
  {
   "cell_type": "code",
   "execution_count": 37,
   "metadata": {},
   "outputs": [],
   "source": [
    "# PART ONE\n",
    "#-------------------------- reading the data ----------------------\n",
    "df_raw = pd.read_csv(\"veh7_missing.csv\")\n",
    "df=df_raw.copy() # let's keep a safe copy of our oringal data set\n"
   ]
  },
  {
   "cell_type": "markdown",
   "metadata": {},
   "source": [
    "### Before doing anything let's take a look of our data set"
   ]
  },
  {
   "cell_type": "code",
   "execution_count": 38,
   "metadata": {},
   "outputs": [
    {
     "name": "stdout",
     "output_type": "stream",
     "text": [
      "<class 'pandas.core.frame.DataFrame'>\n",
      "RangeIndex: 1196 entries, 0 to 1195\n",
      "Data columns (total 12 columns):\n",
      " #   Column                                                     Non-Null Count  Dtype  \n",
      "---  ------                                                     --------------  -----  \n",
      " 0   Eng Displ                                                  831 non-null    float64\n",
      " 1   # Cyl                                                      1196 non-null   int64  \n",
      " 2   Comb Unadj FE - Conventional Fuel                          1196 non-null   object \n",
      " 3   # Gears                                                    1196 non-null   int64  \n",
      " 4   Max Ethanol % - Gasoline                                   1164 non-null   float64\n",
      " 5   Intake Valves Per Cyl                                      1196 non-null   int64  \n",
      " 6   Exhaust Valves Per Cyl                                     1196 non-null   int64  \n",
      " 7   Stop/Start System (Engine Management System)  Description  1196 non-null   object \n",
      " 8   Lockup Torque Converter                                    969 non-null    object \n",
      " 9   Calc Approach Desc                                         1196 non-null   object \n",
      " 10  Cyl Deact?                                                 1196 non-null   object \n",
      " 11  Trans Creeper Gear                                         1196 non-null   object \n",
      "dtypes: float64(2), int64(4), object(6)\n",
      "memory usage: 112.3+ KB\n"
     ]
    },
    {
     "data": {
      "text/html": [
       "<div>\n",
       "<style scoped>\n",
       "    .dataframe tbody tr th:only-of-type {\n",
       "        vertical-align: middle;\n",
       "    }\n",
       "\n",
       "    .dataframe tbody tr th {\n",
       "        vertical-align: top;\n",
       "    }\n",
       "\n",
       "    .dataframe thead th {\n",
       "        text-align: right;\n",
       "    }\n",
       "</style>\n",
       "<table border=\"1\" class=\"dataframe\">\n",
       "  <thead>\n",
       "    <tr style=\"text-align: right;\">\n",
       "      <th></th>\n",
       "      <th>Eng Displ</th>\n",
       "      <th># Cyl</th>\n",
       "      <th>Comb Unadj FE - Conventional Fuel</th>\n",
       "      <th># Gears</th>\n",
       "      <th>Max Ethanol % - Gasoline</th>\n",
       "      <th>Intake Valves Per Cyl</th>\n",
       "      <th>Exhaust Valves Per Cyl</th>\n",
       "      <th>Stop/Start System (Engine Management System)  Description</th>\n",
       "      <th>Lockup Torque Converter</th>\n",
       "      <th>Calc Approach Desc</th>\n",
       "      <th>Cyl Deact?</th>\n",
       "      <th>Trans Creeper Gear</th>\n",
       "    </tr>\n",
       "  </thead>\n",
       "  <tbody>\n",
       "    <tr>\n",
       "      <th>0</th>\n",
       "      <td>4.4</td>\n",
       "      <td>8</td>\n",
       "      <td>20.538</td>\n",
       "      <td>7</td>\n",
       "      <td>10.0</td>\n",
       "      <td>2</td>\n",
       "      <td>2</td>\n",
       "      <td>Yes</td>\n",
       "      <td></td>\n",
       "      <td>not filled in</td>\n",
       "      <td>^^</td>\n",
       "      <td>N</td>\n",
       "    </tr>\n",
       "    <tr>\n",
       "      <th>1</th>\n",
       "      <td>2.0</td>\n",
       "      <td>4</td>\n",
       "      <td>34.5365</td>\n",
       "      <td>6</td>\n",
       "      <td>15.0</td>\n",
       "      <td>2</td>\n",
       "      <td>2</td>\n",
       "      <td>No</td>\n",
       "      <td>NaN</td>\n",
       "      <td>not filled in</td>\n",
       "      <td>^^</td>\n",
       "      <td>N</td>\n",
       "    </tr>\n",
       "    <tr>\n",
       "      <th>2</th>\n",
       "      <td>3.4</td>\n",
       "      <td>6</td>\n",
       "      <td>31.5932</td>\n",
       "      <td>7</td>\n",
       "      <td>10.0</td>\n",
       "      <td>2</td>\n",
       "      <td>2</td>\n",
       "      <td>none</td>\n",
       "      <td>N</td>\n",
       "      <td>not filled in</td>\n",
       "      <td>N</td>\n",
       "      <td>N</td>\n",
       "    </tr>\n",
       "    <tr>\n",
       "      <th>3</th>\n",
       "      <td>4.4</td>\n",
       "      <td>8</td>\n",
       "      <td>22.0246</td>\n",
       "      <td>6</td>\n",
       "      <td>10.0</td>\n",
       "      <td>2</td>\n",
       "      <td>2</td>\n",
       "      <td>none</td>\n",
       "      <td>N</td>\n",
       "      <td>Derived 5-cycle label</td>\n",
       "      <td>N</td>\n",
       "      <td>N</td>\n",
       "    </tr>\n",
       "    <tr>\n",
       "      <th>4</th>\n",
       "      <td>4.3</td>\n",
       "      <td>6</td>\n",
       "      <td>25.772</td>\n",
       "      <td>6</td>\n",
       "      <td>85.0</td>\n",
       "      <td>1</td>\n",
       "      <td>1</td>\n",
       "      <td>No</td>\n",
       "      <td>NaN</td>\n",
       "      <td>not filled in</td>\n",
       "      <td>^^</td>\n",
       "      <td>N</td>\n",
       "    </tr>\n",
       "  </tbody>\n",
       "</table>\n",
       "</div>"
      ],
      "text/plain": [
       "   Eng Displ  # Cyl Comb Unadj FE - Conventional Fuel  # Gears  \\\n",
       "0        4.4      8                            20.538        7   \n",
       "1        2.0      4                           34.5365        6   \n",
       "2        3.4      6                           31.5932        7   \n",
       "3        4.4      8                           22.0246        6   \n",
       "4        4.3      6                            25.772        6   \n",
       "\n",
       "   Max Ethanol % - Gasoline  Intake Valves Per Cyl  Exhaust Valves Per Cyl  \\\n",
       "0                      10.0                      2                       2   \n",
       "1                      15.0                      2                       2   \n",
       "2                      10.0                      2                       2   \n",
       "3                      10.0                      2                       2   \n",
       "4                      85.0                      1                       1   \n",
       "\n",
       "  Stop/Start System (Engine Management System)  Description  \\\n",
       "0                                                Yes          \n",
       "1                                                 No          \n",
       "2                                               none          \n",
       "3                                               none          \n",
       "4                                                 No          \n",
       "\n",
       "  Lockup Torque Converter     Calc Approach Desc Cyl Deact? Trans Creeper Gear  \n",
       "0                                  not filled in         ^^                  N  \n",
       "1                     NaN          not filled in         ^^                  N  \n",
       "2                       N          not filled in          N                  N  \n",
       "3                       N  Derived 5-cycle label          N                  N  \n",
       "4                     NaN          not filled in         ^^                  N  "
      ]
     },
     "execution_count": 38,
     "metadata": {},
     "output_type": "execute_result"
    }
   ],
   "source": [
    "df.info()\n",
    "df.head()"
   ]
  },
  {
   "cell_type": "markdown",
   "metadata": {},
   "source": [
    "***\n",
    "It seems that we have some missing values in our dataset, but because we want to quickly build our baseline model, let's just use numeric features by now and fill in missing values with 0 and keep going with building and evaluating baseline model.\n",
    "\n",
    "**NOTE:**\n",
    " After doing the above, while trying to fit our model we got an error `ValueError: could not convert string to float: 'Mod'` then we realized that target feature was shown as `object dtype` in df.info() even when values seem to be all float, after a closer look we found some missing values hidden behind 'Mod' string in our target feature. Then, considering that problem was only in around 1.1% of the total rows, we just decided to drop those rows.\n",
    "***"
   ]
  },
  {
   "cell_type": "code",
   "execution_count": 39,
   "metadata": {},
   "outputs": [
    {
     "data": {
      "text/plain": [
       "Eng Displ                   False\n",
       "# Cyl                       False\n",
       "# Gears                     False\n",
       "Max Ethanol % - Gasoline    False\n",
       "Intake Valves Per Cyl       False\n",
       "Exhaust Valves Per Cyl      False\n",
       "dtype: bool"
      ]
     },
     "execution_count": 39,
     "metadata": {},
     "output_type": "execute_result"
    }
   ],
   "source": [
    "df_num=df.select_dtypes(include=['number']) \n",
    "df_num=df_num.fillna(0)\n",
    "df_num.isna().any()"
   ]
  },
  {
   "cell_type": "code",
   "execution_count": 40,
   "metadata": {},
   "outputs": [
    {
     "ename": "ValueError",
     "evalue": "could not convert string to float: 'Mod'",
     "output_type": "error",
     "traceback": [
      "\u001b[1;31m---------------------------------------------------------------------------\u001b[0m",
      "\u001b[1;31mValueError\u001b[0m                                Traceback (most recent call last)",
      "Cell \u001b[1;32mIn[40], line 3\u001b[0m\n\u001b[0;32m      1\u001b[0m \u001b[38;5;66;03m# now we pull out target and call evaluate() to create and test baseline model\u001b[39;00m\n\u001b[0;32m      2\u001b[0m y\u001b[38;5;241m=\u001b[39mdf[\u001b[38;5;124m'\u001b[39m\u001b[38;5;124mComb Unadj FE - Conventional Fuel\u001b[39m\u001b[38;5;124m'\u001b[39m]\n\u001b[1;32m----> 3\u001b[0m \u001b[43mevaluate\u001b[49m\u001b[43m(\u001b[49m\u001b[43mdf_num\u001b[49m\u001b[43m,\u001b[49m\u001b[43my\u001b[49m\u001b[43m)\u001b[49m\n",
      "Cell \u001b[1;32mIn[36], line 18\u001b[0m, in \u001b[0;36mevaluate\u001b[1;34m(X, y)\u001b[0m\n\u001b[0;32m     16\u001b[0m \u001b[38;5;28;01mfor\u001b[39;00m i \u001b[38;5;129;01min\u001b[39;00m \u001b[38;5;28mrange\u001b[39m(\u001b[38;5;241m10\u001b[39m):\n\u001b[0;32m     17\u001b[0m     rf \u001b[38;5;241m=\u001b[39m RandomForestRegressor(n_estimators\u001b[38;5;241m=\u001b[39m\u001b[38;5;241m100\u001b[39m, n_jobs\u001b[38;5;241m=\u001b[39m\u001b[38;5;241m-\u001b[39m\u001b[38;5;241m1\u001b[39m, oob_score\u001b[38;5;241m=\u001b[39m\u001b[38;5;28;01mTrue\u001b[39;00m)\n\u001b[1;32m---> 18\u001b[0m     \u001b[43mrf\u001b[49m\u001b[38;5;241;43m.\u001b[39;49m\u001b[43mfit\u001b[49m\u001b[43m(\u001b[49m\u001b[43mX\u001b[49m\u001b[43m,\u001b[49m\u001b[43m \u001b[49m\u001b[43my\u001b[49m\u001b[43m)\u001b[49m\n\u001b[0;32m     19\u001b[0m     oob_scores\u001b[38;5;241m.\u001b[39mappend(rf\u001b[38;5;241m.\u001b[39moob_score_)\n\u001b[0;32m     20\u001b[0m oob\u001b[38;5;241m=\u001b[39m\u001b[38;5;28msum\u001b[39m(oob_scores) \u001b[38;5;241m/\u001b[39m \u001b[38;5;28mlen\u001b[39m(oob_scores)\n",
      "File \u001b[1;32mc:\\Users\\manolo\\OneDrive - St. Lawrence College\\Documents\\slc\\winter2024\\comp2006_python\\course-labs\\.venv\\Lib\\site-packages\\sklearn\\base.py:1474\u001b[0m, in \u001b[0;36m_fit_context.<locals>.decorator.<locals>.wrapper\u001b[1;34m(estimator, *args, **kwargs)\u001b[0m\n\u001b[0;32m   1467\u001b[0m     estimator\u001b[38;5;241m.\u001b[39m_validate_params()\n\u001b[0;32m   1469\u001b[0m \u001b[38;5;28;01mwith\u001b[39;00m config_context(\n\u001b[0;32m   1470\u001b[0m     skip_parameter_validation\u001b[38;5;241m=\u001b[39m(\n\u001b[0;32m   1471\u001b[0m         prefer_skip_nested_validation \u001b[38;5;129;01mor\u001b[39;00m global_skip_validation\n\u001b[0;32m   1472\u001b[0m     )\n\u001b[0;32m   1473\u001b[0m ):\n\u001b[1;32m-> 1474\u001b[0m     \u001b[38;5;28;01mreturn\u001b[39;00m \u001b[43mfit_method\u001b[49m\u001b[43m(\u001b[49m\u001b[43mestimator\u001b[49m\u001b[43m,\u001b[49m\u001b[43m \u001b[49m\u001b[38;5;241;43m*\u001b[39;49m\u001b[43margs\u001b[49m\u001b[43m,\u001b[49m\u001b[43m \u001b[49m\u001b[38;5;241;43m*\u001b[39;49m\u001b[38;5;241;43m*\u001b[39;49m\u001b[43mkwargs\u001b[49m\u001b[43m)\u001b[49m\n",
      "File \u001b[1;32mc:\\Users\\manolo\\OneDrive - St. Lawrence College\\Documents\\slc\\winter2024\\comp2006_python\\course-labs\\.venv\\Lib\\site-packages\\sklearn\\ensemble\\_forest.py:424\u001b[0m, in \u001b[0;36mBaseForest.fit\u001b[1;34m(self, X, y, sample_weight)\u001b[0m\n\u001b[0;32m    421\u001b[0m y, expanded_class_weight \u001b[38;5;241m=\u001b[39m \u001b[38;5;28mself\u001b[39m\u001b[38;5;241m.\u001b[39m_validate_y_class_weight(y)\n\u001b[0;32m    423\u001b[0m \u001b[38;5;28;01mif\u001b[39;00m \u001b[38;5;28mgetattr\u001b[39m(y, \u001b[38;5;124m\"\u001b[39m\u001b[38;5;124mdtype\u001b[39m\u001b[38;5;124m\"\u001b[39m, \u001b[38;5;28;01mNone\u001b[39;00m) \u001b[38;5;241m!=\u001b[39m DOUBLE \u001b[38;5;129;01mor\u001b[39;00m \u001b[38;5;129;01mnot\u001b[39;00m y\u001b[38;5;241m.\u001b[39mflags\u001b[38;5;241m.\u001b[39mcontiguous:\n\u001b[1;32m--> 424\u001b[0m     y \u001b[38;5;241m=\u001b[39m \u001b[43mnp\u001b[49m\u001b[38;5;241;43m.\u001b[39;49m\u001b[43mascontiguousarray\u001b[49m\u001b[43m(\u001b[49m\u001b[43my\u001b[49m\u001b[43m,\u001b[49m\u001b[43m \u001b[49m\u001b[43mdtype\u001b[49m\u001b[38;5;241;43m=\u001b[39;49m\u001b[43mDOUBLE\u001b[49m\u001b[43m)\u001b[49m\n\u001b[0;32m    426\u001b[0m \u001b[38;5;28;01mif\u001b[39;00m expanded_class_weight \u001b[38;5;129;01mis\u001b[39;00m \u001b[38;5;129;01mnot\u001b[39;00m \u001b[38;5;28;01mNone\u001b[39;00m:\n\u001b[0;32m    427\u001b[0m     \u001b[38;5;28;01mif\u001b[39;00m sample_weight \u001b[38;5;129;01mis\u001b[39;00m \u001b[38;5;129;01mnot\u001b[39;00m \u001b[38;5;28;01mNone\u001b[39;00m:\n",
      "\u001b[1;31mValueError\u001b[0m: could not convert string to float: 'Mod'"
     ]
    }
   ],
   "source": [
    "# now we pull out target and call evaluate() to create and test baseline model\n",
    "y=df['Comb Unadj FE - Conventional Fuel']\n",
    "evaluate(df_num,y)"
   ]
  },
  {
   "cell_type": "markdown",
   "metadata": {},
   "source": [
    "Three features have missing values in our original dataset\n",
    "- Eng Displ\n",
    "- Max Ethanol % - Gasoline\n",
    "- Lockup Torque Converter\n",
    "\n",
    "But sometimes missing values are hidden as meaningless values in our features, so let's take a closer look of our dataset"
   ]
  },
  {
   "cell_type": "code",
   "execution_count": 15,
   "metadata": {},
   "outputs": [
    {
     "name": "stdout",
     "output_type": "stream",
     "text": [
      "Eng Displ                                                     44\n",
      "# Cyl                                                          8\n",
      "Comb Unadj FE - Conventional Fuel                            899\n",
      "# Gears                                                        7\n",
      "Max Ethanol % - Gasoline                                       3\n",
      "Intake Valves Per Cyl                                          2\n",
      "Exhaust Valves Per Cyl                                         2\n",
      "Stop/Start System (Engine Management System)  Description      3\n",
      "Lockup Torque Converter                                        3\n",
      "Calc Approach Desc                                             4\n",
      "Cyl Deact?                                                     3\n",
      "Trans Creeper Gear                                             2\n",
      "dtype: int64\n",
      "<class 'pandas.core.frame.DataFrame'>\n",
      "RangeIndex: 1196 entries, 0 to 1195\n",
      "Data columns (total 12 columns):\n",
      " #   Column                                                     Non-Null Count  Dtype  \n",
      "---  ------                                                     --------------  -----  \n",
      " 0   Eng Displ                                                  831 non-null    float64\n",
      " 1   # Cyl                                                      1196 non-null   int64  \n",
      " 2   Comb Unadj FE - Conventional Fuel                          1196 non-null   object \n",
      " 3   # Gears                                                    1196 non-null   int64  \n",
      " 4   Max Ethanol % - Gasoline                                   1164 non-null   float64\n",
      " 5   Intake Valves Per Cyl                                      1196 non-null   int64  \n",
      " 6   Exhaust Valves Per Cyl                                     1196 non-null   int64  \n",
      " 7   Stop/Start System (Engine Management System)  Description  1196 non-null   object \n",
      " 8   Lockup Torque Converter                                    969 non-null    object \n",
      " 9   Calc Approach Desc                                         1196 non-null   object \n",
      " 10  Cyl Deact?                                                 1196 non-null   object \n",
      " 11  Trans Creeper Gear                                         1196 non-null   object \n",
      "dtypes: float64(2), int64(4), object(6)\n",
      "memory usage: 112.3+ KB\n",
      "None\n",
      "        Eng Displ        # Cyl      # Gears  Max Ethanol % - Gasoline  \\\n",
      "count  831.000000  1196.000000  1196.000000               1164.000000   \n",
      "mean     3.255596     5.832776     6.158027                 19.621993   \n",
      "std      1.417741     1.877984     1.467966                 24.237888   \n",
      "min      1.000000     3.000000     1.000000                 10.000000   \n",
      "25%      2.000000     4.000000     6.000000                 10.000000   \n",
      "50%      3.000000     6.000000     6.000000                 10.000000   \n",
      "75%      4.000000     8.000000     7.000000                 10.000000   \n",
      "max      7.000000    16.000000     9.000000                 85.000000   \n",
      "\n",
      "       Intake Valves Per Cyl  Exhaust Valves Per Cyl  \n",
      "count            1196.000000             1196.000000  \n",
      "mean                1.907191                1.900502  \n",
      "std                 0.290286                0.299455  \n",
      "min                 1.000000                1.000000  \n",
      "25%                 2.000000                2.000000  \n",
      "50%                 2.000000                2.000000  \n",
      "75%                 2.000000                2.000000  \n",
      "max                 2.000000                2.000000  \n"
     ]
    }
   ],
   "source": [
    "print(f'This will tell us which features have EVIDENT missing values\\n\\n{df.isna().any()}' )\n",
    "# df.info()\n",
    "# df=df.fillna(0)\n",
    "#print(df.isna().any())\n",
    "print(df.nunique(axis=0))\n",
    "print(df.info())\n",
    "print(df.describe())\n",
    "# df['Comb Unadj FE - Conventional Fuel'].unique()\n",
    "\n",
    "# def sniff(df):\n",
    "#     with pd.option_context(\"display.max_colwidth\",20):\n",
    "#         info=pd.DataFrame()\n",
    "#         info['sample']=df.iloc[120]\n",
    "#         info['data type']=df.dtypes\n",
    "#         info['percent missing']=df.isnull().sum()*100/len(df)\n",
    "#         return info.sort_values('data type')\n",
    "\n",
    "\n",
    "# print(sniff(df))\n",
    "# sniff(df)\n",
    "\n",
    "# from pandas.api.types import is_string_dtype, is_object_dtype\n",
    "# # if is_numeric_dtype((df['Comb Unadj FE - Conventional Fuel'])):\n",
    "# temp=pd.to_numeric(df['Comb Unadj FE - Conventional Fuel'],errors='coerce',downcast='float')\n",
    "# # df['Comb Unadj FE - Conventional Fuel'].isnull().any()\n",
    "# # df['Comb Unadj FE - Conventional Fuel'].describe()\n",
    "# print(temp.isna().any())\n",
    "# print(df['Comb Unadj FE - Conventional Fuel'].isna().any())\n",
    "# # df['Stop/Start System (Engine Management System)  Description'].astype(float)\n"
   ]
  },
  {
   "cell_type": "markdown",
   "metadata": {},
   "source": [
    "### Part 2 - Normalize missing values\n",
    "\n",
    "In this part you should: \n",
    " - use Section 7.4 of the textbook as a guide\n",
    " - convert **all** representations of missing data to a **single** representation\n",
    " \n",
    "#### Code (15 marks)"
   ]
  },
  {
   "cell_type": "code",
   "execution_count": null,
   "metadata": {},
   "outputs": [],
   "source": []
  },
  {
   "cell_type": "markdown",
   "metadata": {},
   "source": [
    "#### Question (5 marks)\n",
    "\n",
    "Note here all the different ways missing data was represented in the data.   "
   ]
  },
  {
   "cell_type": "markdown",
   "metadata": {},
   "source": [
    "**Enter your answer here:**"
   ]
  },
  {
   "cell_type": "markdown",
   "metadata": {},
   "source": [
    "### Part 3 - Categorical features\n",
    "\n",
    "In this part you should: \n",
    " - use Section 7.5.1 as a guide\n",
    " - only use ordinal encoding \n",
    " - convert **all** non-numeric features to numeric \n",
    " - handle any missing values\n",
    " \n",
    "#### Code (25 marks)"
   ]
  },
  {
   "cell_type": "code",
   "execution_count": null,
   "metadata": {},
   "outputs": [],
   "source": []
  },
  {
   "cell_type": "markdown",
   "metadata": {},
   "source": [
    "### Part 4 - Numeric features\n",
    "\n",
    "In this part you should: \n",
    " - use Section 7.5.2 as a guide\n",
    " - handle any missing values\n",
    " \n",
    "#### Code (30 marks)"
   ]
  },
  {
   "cell_type": "code",
   "execution_count": null,
   "metadata": {},
   "outputs": [],
   "source": []
  },
  {
   "cell_type": "markdown",
   "metadata": {},
   "source": [
    "### Part 5 - Create and evaluate a final model\n",
    "\n",
    "In this part you should:\n",
    " - create and evaluate a model using all the features after processing them in Parts 2, 3, and 4 above \n",
    "\n",
    "#### Code (10 marks)"
   ]
  },
  {
   "cell_type": "code",
   "execution_count": null,
   "metadata": {},
   "outputs": [],
   "source": []
  },
  {
   "cell_type": "markdown",
   "metadata": {},
   "source": [
    "#### Questions (5 marks)\n",
    "\n",
    "Provide answers to the following:\n",
    " 1. calculate the percent difference between the results of Part 1 and Part 5 (make sure you are using the correct formula for percent difference) \n",
    " 2. based on the percent difference, state whether or not the results of Part 5 are an improvement over the results of Part 1"
   ]
  },
  {
   "cell_type": "markdown",
   "metadata": {},
   "source": [
    "**Enter your answers here:**"
   ]
  }
 ],
 "metadata": {
  "kernelspec": {
   "display_name": "Python 3 (ipykernel)",
   "language": "python",
   "name": "python3"
  },
  "language_info": {
   "codemirror_mode": {
    "name": "ipython",
    "version": 3
   },
   "file_extension": ".py",
   "mimetype": "text/x-python",
   "name": "python",
   "nbconvert_exporter": "python",
   "pygments_lexer": "ipython3",
   "version": "3.12.2"
  }
 },
 "nbformat": 4,
 "nbformat_minor": 4
}
