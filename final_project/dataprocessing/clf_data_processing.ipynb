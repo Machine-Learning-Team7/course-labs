{
 "cells": [
  {
   "cell_type": "markdown",
   "metadata": {},
   "source": [
    "# CLASSIFICATION MODEL:\n",
    "Due to nature of this process (creating a predictive model), involving coming back and forth trial and error while cleaning data and testing differet hyperparameters setup. We decided to:\n",
    "\n",
    "- Move all our helper functions to a separated file, so we can reach them from every file while keeping our files cleaner.\n",
    "- Have 2 code files to get our final model:\n",
    "    - This file `clf_data_proccessing.ipynb`:<br>\n",
    "        &emsp;To read and clean the data and save it to sql database in ``./database/models.db`` file.<br>\n",
    "        &emsp;To test cleanliness of data, we'll use a random forest model.\n",
    "    - Another file `clf_model_selection.ipynb` to test and compare different models working with cleaned dataset.\n",
    "- Once final model version is selected, it will be serialized after trainning and stored in ``./trained_models`` folder.\n",
    "- Then trained model will be deployed to a website built with flask/jinja to perform predictions for data entered by users.\n"
   ]
  },
  {
   "cell_type": "code",
   "execution_count": 70,
   "metadata": {},
   "outputs": [],
   "source": [
    "from myFunc import *  # moved all our functions to separated file to keep this cleaner\n",
    "# pulling dataset from UCI ML repository\n",
    "heartDisease = fetch_ucirepo(id=45) \n",
    "df=heartDisease.data.original"
   ]
  },
  {
   "cell_type": "code",
   "execution_count": 71,
   "metadata": {},
   "outputs": [
    {
     "data": {
      "text/plain": [
       "303"
      ]
     },
     "execution_count": 71,
     "metadata": {},
     "output_type": "execute_result"
    }
   ],
   "source": [
    "#Connecting to database and saving a copy of raw data in it\n",
    "con = sqlite3.connect('./../database/models.db')\n",
    "df.to_sql('class_raw_data', con, if_exists='replace',index=False)"
   ]
  },
  {
   "cell_type": "code",
   "execution_count": 72,
   "metadata": {},
   "outputs": [
    {
     "data": {
      "text/html": [
       "<div>\n",
       "<style scoped>\n",
       "    .dataframe tbody tr th:only-of-type {\n",
       "        vertical-align: middle;\n",
       "    }\n",
       "\n",
       "    .dataframe tbody tr th {\n",
       "        vertical-align: top;\n",
       "    }\n",
       "\n",
       "    .dataframe thead th {\n",
       "        text-align: right;\n",
       "    }\n",
       "</style>\n",
       "<table border=\"1\" class=\"dataframe\">\n",
       "  <thead>\n",
       "    <tr style=\"text-align: right;\">\n",
       "      <th></th>\n",
       "      <th>data type</th>\n",
       "      <th>percent missing</th>\n",
       "      <th>No. unique</th>\n",
       "      <th>unique values</th>\n",
       "    </tr>\n",
       "  </thead>\n",
       "  <tbody>\n",
       "    <tr>\n",
       "      <th>age</th>\n",
       "      <td>int64</td>\n",
       "      <td>0.000000</td>\n",
       "      <td>41</td>\n",
       "      <td>[63, 67, 37, 41, 56, 62, 57, 53, 44, 52, 48, 5...</td>\n",
       "    </tr>\n",
       "    <tr>\n",
       "      <th>sex</th>\n",
       "      <td>int64</td>\n",
       "      <td>0.000000</td>\n",
       "      <td>2</td>\n",
       "      <td>[1, 0]</td>\n",
       "    </tr>\n",
       "    <tr>\n",
       "      <th>cp</th>\n",
       "      <td>int64</td>\n",
       "      <td>0.000000</td>\n",
       "      <td>4</td>\n",
       "      <td>[1, 4, 3, 2]</td>\n",
       "    </tr>\n",
       "    <tr>\n",
       "      <th>trestbps</th>\n",
       "      <td>int64</td>\n",
       "      <td>0.000000</td>\n",
       "      <td>50</td>\n",
       "      <td>[145, 160, 120, 130, 140, 172, 150, 110, 132, ...</td>\n",
       "    </tr>\n",
       "    <tr>\n",
       "      <th>chol</th>\n",
       "      <td>int64</td>\n",
       "      <td>0.000000</td>\n",
       "      <td>152</td>\n",
       "      <td>[233, 286, 229, 250, 204, 236, 268, 354, 254, ...</td>\n",
       "    </tr>\n",
       "    <tr>\n",
       "      <th>fbs</th>\n",
       "      <td>int64</td>\n",
       "      <td>0.000000</td>\n",
       "      <td>2</td>\n",
       "      <td>[1, 0]</td>\n",
       "    </tr>\n",
       "    <tr>\n",
       "      <th>restecg</th>\n",
       "      <td>int64</td>\n",
       "      <td>0.000000</td>\n",
       "      <td>3</td>\n",
       "      <td>[2, 0, 1]</td>\n",
       "    </tr>\n",
       "    <tr>\n",
       "      <th>thalach</th>\n",
       "      <td>int64</td>\n",
       "      <td>0.000000</td>\n",
       "      <td>91</td>\n",
       "      <td>[150, 108, 129, 187, 172, 178, 160, 163, 147, ...</td>\n",
       "    </tr>\n",
       "    <tr>\n",
       "      <th>exang</th>\n",
       "      <td>int64</td>\n",
       "      <td>0.000000</td>\n",
       "      <td>2</td>\n",
       "      <td>[0, 1]</td>\n",
       "    </tr>\n",
       "    <tr>\n",
       "      <th>slope</th>\n",
       "      <td>int64</td>\n",
       "      <td>0.000000</td>\n",
       "      <td>3</td>\n",
       "      <td>[3, 2, 1]</td>\n",
       "    </tr>\n",
       "    <tr>\n",
       "      <th>num</th>\n",
       "      <td>int64</td>\n",
       "      <td>0.000000</td>\n",
       "      <td>5</td>\n",
       "      <td>[0, 2, 1, 3, 4]</td>\n",
       "    </tr>\n",
       "    <tr>\n",
       "      <th>oldpeak</th>\n",
       "      <td>float64</td>\n",
       "      <td>0.000000</td>\n",
       "      <td>40</td>\n",
       "      <td>[2.3, 1.5, 2.6, 3.5, 1.4, 0.8, 3.6, 0.6, 3.1, ...</td>\n",
       "    </tr>\n",
       "    <tr>\n",
       "      <th>ca</th>\n",
       "      <td>float64</td>\n",
       "      <td>1.320132</td>\n",
       "      <td>5</td>\n",
       "      <td>[0.0, 3.0, 2.0, 1.0, nan]</td>\n",
       "    </tr>\n",
       "    <tr>\n",
       "      <th>thal</th>\n",
       "      <td>float64</td>\n",
       "      <td>0.660066</td>\n",
       "      <td>4</td>\n",
       "      <td>[6.0, 3.0, 7.0, nan]</td>\n",
       "    </tr>\n",
       "  </tbody>\n",
       "</table>\n",
       "</div>"
      ],
      "text/plain": [
       "         data type  percent missing  No. unique  \\\n",
       "age          int64         0.000000          41   \n",
       "sex          int64         0.000000           2   \n",
       "cp           int64         0.000000           4   \n",
       "trestbps     int64         0.000000          50   \n",
       "chol         int64         0.000000         152   \n",
       "fbs          int64         0.000000           2   \n",
       "restecg      int64         0.000000           3   \n",
       "thalach      int64         0.000000          91   \n",
       "exang        int64         0.000000           2   \n",
       "slope        int64         0.000000           3   \n",
       "num          int64         0.000000           5   \n",
       "oldpeak    float64         0.000000          40   \n",
       "ca         float64         1.320132           5   \n",
       "thal       float64         0.660066           4   \n",
       "\n",
       "                                              unique values  \n",
       "age       [63, 67, 37, 41, 56, 62, 57, 53, 44, 52, 48, 5...  \n",
       "sex                                                  [1, 0]  \n",
       "cp                                             [1, 4, 3, 2]  \n",
       "trestbps  [145, 160, 120, 130, 140, 172, 150, 110, 132, ...  \n",
       "chol      [233, 286, 229, 250, 204, 236, 268, 354, 254, ...  \n",
       "fbs                                                  [1, 0]  \n",
       "restecg                                           [2, 0, 1]  \n",
       "thalach   [150, 108, 129, 187, 172, 178, 160, 163, 147, ...  \n",
       "exang                                                [0, 1]  \n",
       "slope                                             [3, 2, 1]  \n",
       "num                                         [0, 2, 1, 3, 4]  \n",
       "oldpeak   [2.3, 1.5, 2.6, 3.5, 1.4, 0.8, 3.6, 0.6, 3.1, ...  \n",
       "ca                                [0.0, 3.0, 2.0, 1.0, nan]  \n",
       "thal                                   [6.0, 3.0, 7.0, nan]  "
      ]
     },
     "execution_count": 72,
     "metadata": {},
     "output_type": "execute_result"
    }
   ],
   "source": [
    "# To create a baseline model, let's see the dataset to undesrtand what needs to be done.\n",
    "sniff(df)"
   ]
  },
  {
   "cell_type": "markdown",
   "metadata": {},
   "source": [
    "``ca`` and ``thal`` features contain missing values, to build baseline model we'll fill them with value -1, because this time 0 is a valid value for 1 feature"
   ]
  },
  {
   "cell_type": "code",
   "execution_count": 73,
   "metadata": {},
   "outputs": [
    {
     "name": "stdout",
     "output_type": "stream",
     "text": [
      "<class 'pandas.core.frame.DataFrame'>\n",
      "RangeIndex: 303 entries, 0 to 302\n",
      "Data columns (total 14 columns):\n",
      " #   Column    Non-Null Count  Dtype  \n",
      "---  ------    --------------  -----  \n",
      " 0   age       303 non-null    int64  \n",
      " 1   sex       303 non-null    int64  \n",
      " 2   cp        303 non-null    int64  \n",
      " 3   trestbps  303 non-null    int64  \n",
      " 4   chol      303 non-null    int64  \n",
      " 5   fbs       303 non-null    int64  \n",
      " 6   restecg   303 non-null    int64  \n",
      " 7   thalach   303 non-null    int64  \n",
      " 8   exang     303 non-null    int64  \n",
      " 9   oldpeak   303 non-null    float64\n",
      " 10  slope     303 non-null    int64  \n",
      " 11  ca        303 non-null    float64\n",
      " 12  thal      303 non-null    float64\n",
      " 13  num       303 non-null    int64  \n",
      "dtypes: float64(3), int64(11)\n",
      "memory usage: 33.3 KB\n"
     ]
    }
   ],
   "source": [
    "df=df.fillna(-1)\n",
    "df.info()"
   ]
  },
  {
   "cell_type": "code",
   "execution_count": 74,
   "metadata": {},
   "outputs": [
    {
     "name": "stdout",
     "output_type": "stream",
     "text": [
      "Mean OOB score: 0.570957095709571\n",
      "25,968 tree nodes and 13.0 median tree height\n"
     ]
    },
    {
     "data": {
      "text/html": [
       "<div>\n",
       "<style scoped>\n",
       "    .dataframe tbody tr th:only-of-type {\n",
       "        vertical-align: middle;\n",
       "    }\n",
       "\n",
       "    .dataframe tbody tr th {\n",
       "        vertical-align: top;\n",
       "    }\n",
       "\n",
       "    .dataframe thead th {\n",
       "        text-align: right;\n",
       "    }\n",
       "</style>\n",
       "<table border=\"1\" class=\"dataframe\">\n",
       "  <thead>\n",
       "    <tr style=\"text-align: right;\">\n",
       "      <th></th>\n",
       "      <th>Importance</th>\n",
       "    </tr>\n",
       "    <tr>\n",
       "      <th>Feature</th>\n",
       "      <th></th>\n",
       "    </tr>\n",
       "  </thead>\n",
       "  <tbody>\n",
       "    <tr>\n",
       "      <th>ca</th>\n",
       "      <td>0.089109</td>\n",
       "    </tr>\n",
       "    <tr>\n",
       "      <th>cp</th>\n",
       "      <td>0.082508</td>\n",
       "    </tr>\n",
       "    <tr>\n",
       "      <th>thal</th>\n",
       "      <td>0.066007</td>\n",
       "    </tr>\n",
       "    <tr>\n",
       "      <th>age</th>\n",
       "      <td>0.039604</td>\n",
       "    </tr>\n",
       "    <tr>\n",
       "      <th>oldpeak</th>\n",
       "      <td>0.029703</td>\n",
       "    </tr>\n",
       "    <tr>\n",
       "      <th>thalach</th>\n",
       "      <td>0.026403</td>\n",
       "    </tr>\n",
       "    <tr>\n",
       "      <th>chol</th>\n",
       "      <td>0.019802</td>\n",
       "    </tr>\n",
       "    <tr>\n",
       "      <th>exang</th>\n",
       "      <td>0.019802</td>\n",
       "    </tr>\n",
       "    <tr>\n",
       "      <th>trestbps</th>\n",
       "      <td>0.013201</td>\n",
       "    </tr>\n",
       "    <tr>\n",
       "      <th>sex</th>\n",
       "      <td>0.006601</td>\n",
       "    </tr>\n",
       "    <tr>\n",
       "      <th>slope</th>\n",
       "      <td>0.003300</td>\n",
       "    </tr>\n",
       "    <tr>\n",
       "      <th>fbs</th>\n",
       "      <td>0.000000</td>\n",
       "    </tr>\n",
       "    <tr>\n",
       "      <th>restecg</th>\n",
       "      <td>0.000000</td>\n",
       "    </tr>\n",
       "  </tbody>\n",
       "</table>\n",
       "</div>"
      ],
      "text/plain": [
       "          Importance\n",
       "Feature             \n",
       "ca          0.089109\n",
       "cp          0.082508\n",
       "thal        0.066007\n",
       "age         0.039604\n",
       "oldpeak     0.029703\n",
       "thalach     0.026403\n",
       "chol        0.019802\n",
       "exang       0.019802\n",
       "trestbps    0.013201\n",
       "sex         0.006601\n",
       "slope       0.003300\n",
       "fbs         0.000000\n",
       "restecg     0.000000"
      ]
     },
     "execution_count": 74,
     "metadata": {},
     "output_type": "execute_result"
    },
    {
     "data": {
      "image/png": "[encoded data removed]",
      "text/plain": [
       "<Figure size 400x288 with 1 Axes>"
      ]
     },
     "metadata": {},
     "output_type": "display_data"
    }
   ],
   "source": [
    "X=df.drop('num',axis=1)\n",
    "y=df['num']\n",
    "#creating baseline model\n",
    "rf,oob=evalClass(X,y,150)\n",
    "showimp(rf,X,y)"
   ]
  },
  {
   "cell_type": "code",
   "execution_count": 75,
   "metadata": {},
   "outputs": [
    {
     "name": "stdout",
     "output_type": "stream",
     "text": [
      "Mean OOB score: 0.8211221122112212\n",
      "16,394 tree nodes and 11.0 median tree height\n",
      "Data cleanning produced an improvment of 43.81502890173411\n",
      "          Importance\n",
      "Feature             \n",
      "ca          0.062706\n",
      "cp          0.059406\n",
      "age         0.029703\n",
      "oldpeak     0.029703\n",
      "thal        0.029703\n",
      "chol        0.026403\n",
      "thalach     0.016502\n",
      "sex         0.013201\n",
      "restecg     0.013201\n",
      "trestbps    0.006601\n",
      "exang       0.006601\n",
      "slope       0.003300\n",
      "fbs         0.000000\n",
      "ca_na       0.000000\n",
      "thal_na     0.000000\n"
     ]
    },
    {
     "data": {
      "image/png": "[encoded data removed]",
      "text/plain": [
       "<Figure size 400x332 with 1 Axes>"
      ]
     },
     "metadata": {},
     "output_type": "display_data"
    }
   ],
   "source": [
    "# try to improve results by feature engineering\n",
    "#first, replace missing values (-1) with median()\n",
    "Xclean=df.drop('num',axis=1)\n",
    "normalize_num(Xclean,-1)\n",
    "fix_missing_num(Xclean)\n",
    "# now, according to the information provided with the dataset, target feature has values from 0 to 4\n",
    "# but to predict if a pacient has heart disease we should have 2 categories only una for 0 and other for (1-4)\n",
    "yclean=y.clip(0,1)\n",
    "# let's see if cleaning helped to improve results\n",
    "rf1,oob1=evalClass(Xclean,yclean,150)\n",
    "print(f'Data cleanning produced an improvment of {oob1*100/oob-100}')\n",
    "I=showimp(rf1,Xclean,y)\n",
    "print(I)"
   ]
  },
  {
   "cell_type": "markdown",
   "metadata": {},
   "source": [
    "Also tried to drop some features but no improvement was seen.\n",
    "\n",
    "## Next step\n",
    "Dataset is now cleaned and it looks good to be used to train, validate and test our models.The code related is in `clf_model_selection.ipynb`.\n",
    "\n",
    "So now, before leaving this file, let's save dataset in to the table `class_clean_data` in the database."
   ]
  },
  {
   "cell_type": "code",
   "execution_count": 76,
   "metadata": {},
   "outputs": [
    {
     "name": "stdout",
     "output_type": "stream",
     "text": [
      "               name\n",
      "0    class_raw_data\n",
      "1  class_clean_data\n"
     ]
    },
    {
     "data": {
      "text/html": [
       "<div>\n",
       "<style scoped>\n",
       "    .dataframe tbody tr th:only-of-type {\n",
       "        vertical-align: middle;\n",
       "    }\n",
       "\n",
       "    .dataframe tbody tr th {\n",
       "        vertical-align: top;\n",
       "    }\n",
       "\n",
       "    .dataframe thead th {\n",
       "        text-align: right;\n",
       "    }\n",
       "</style>\n",
       "<table border=\"1\" class=\"dataframe\">\n",
       "  <thead>\n",
       "    <tr style=\"text-align: right;\">\n",
       "      <th></th>\n",
       "      <th>age</th>\n",
       "      <th>sex</th>\n",
       "      <th>cp</th>\n",
       "      <th>trestbps</th>\n",
       "      <th>chol</th>\n",
       "      <th>fbs</th>\n",
       "      <th>restecg</th>\n",
       "      <th>thalach</th>\n",
       "      <th>exang</th>\n",
       "      <th>oldpeak</th>\n",
       "      <th>slope</th>\n",
       "      <th>ca</th>\n",
       "      <th>thal</th>\n",
       "      <th>ca_na</th>\n",
       "      <th>thal_na</th>\n",
       "      <th>num</th>\n",
       "    </tr>\n",
       "  </thead>\n",
       "  <tbody>\n",
       "    <tr>\n",
       "      <th>178</th>\n",
       "      <td>43</td>\n",
       "      <td>1</td>\n",
       "      <td>3</td>\n",
       "      <td>130</td>\n",
       "      <td>315</td>\n",
       "      <td>0</td>\n",
       "      <td>0</td>\n",
       "      <td>162</td>\n",
       "      <td>0</td>\n",
       "      <td>1.9</td>\n",
       "      <td>1</td>\n",
       "      <td>1.0</td>\n",
       "      <td>3.0</td>\n",
       "      <td>0</td>\n",
       "      <td>0</td>\n",
       "      <td>0</td>\n",
       "    </tr>\n",
       "  </tbody>\n",
       "</table>\n",
       "</div>"
      ],
      "text/plain": [
       "     age  sex  cp  trestbps  chol  fbs  restecg  thalach  exang  oldpeak  \\\n",
       "178   43    1   3       130   315    0        0      162      0      1.9   \n",
       "\n",
       "     slope   ca  thal  ca_na  thal_na  num  \n",
       "178      1  1.0   3.0      0        0    0  "
      ]
     },
     "execution_count": 76,
     "metadata": {},
     "output_type": "execute_result"
    }
   ],
   "source": [
    "# then let's put all features in a single dataframe and save it to database\n",
    "df_clean=pd.concat([Xclean,yclean],axis=1)\n",
    "df_clean.to_sql('class_clean_data', con, if_exists='replace',index=False)\n",
    "#just to confirm clean dataset was successfuly saved\n",
    "print(pd.read_sql_query('select name from sqlite_master where type=\"table\" and name like \"%class%\"',con))\n",
    "test=pd.read_sql_query('select * from class_clean_data',con).sample(1)\n",
    "test"
   ]
  },
  {
   "cell_type": "code",
   "execution_count": 77,
   "metadata": {},
   "outputs": [],
   "source": [
    "con.commit()\n",
    "con.close()"
   ]
  }
 ],
 "metadata": {
  "kernelspec": {
   "display_name": ".venv",
   "language": "python",
   "name": "python3"
  },
  "language_info": {
   "codemirror_mode": {
    "name": "ipython",
    "version": 3
   },
   "file_extension": ".py",
   "mimetype": "text/x-python",
   "name": "python",
   "nbconvert_exporter": "python",
   "pygments_lexer": "ipython3",
   "version": "3.12.2"
  }
 },
 "nbformat": 4,
 "nbformat_minor": 2
}
