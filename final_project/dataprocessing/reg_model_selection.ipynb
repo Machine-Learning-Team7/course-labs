{
 "cells": [
  {
   "cell_type": "markdown",
   "metadata": {},
   "source": [
    "# REGRESSION MODEL:\n",
    "Due to nature of this process (creating a predictive model), involving coming back and forth trial and error while cleaning data and testing differet hyperparameters setup. We decided to:\n",
    "\n",
    "- Move all our helper functions to a separated file, so we can reach them from every file while keeping our files cleaner.\n",
    "- Have 2 code files to get our final model:\n",
    "    - File `reg_data_proccessing.ipynb`:<br>\n",
    "        &emsp;To read and clean the data and save it to sql database in ``./database/models.db`` file.<br>\n",
    "        &emsp;To test cleanliness of data, we'll use a random forest model.\n",
    "    - File `reg_model_selection.ipynb` to test and compare different models working with cleaned dataset.\n",
    "- Once final model version is selected, it will be serialized after trainning and stored in ``./trained_models`` folder.\n",
    "- Then trained model will be deployed to a website built with flask/jinja to perform predictions for data entered by users.\n",
    "***\n",
    "\n",
    "### MODEL CREATION\n",
    "With our data cleaned, we'll try different regression models to come up with the model to be deployed on the website.<br>\n",
    "Well test:\n",
    "- Random forest regressor\n",
    "- Knn regressor\n",
    "- Linear regressor\n",
    "\n",
    "we use cross validation to select the best version for each model, then we just use score method in the model to select the final model\n",
    "\n"
   ]
  },
  {
   "cell_type": "code",
   "execution_count": 12,
   "metadata": {},
   "outputs": [],
   "source": [
    "from myFunc import *  # importing helper functions\n",
    "# pull cleaned dataset\n",
    "con = sqlite3.connect('./../database/models.db')\n",
    "df=pd.read_sql_query('select * from reg_clean_data',con)\n",
    "# separating vector features from target\n",
    "X=df.drop(['Weight'],axis=1)\n",
    "y=df['Weight']\n",
    "# pulling out test data, we'll use it after tweeking hyperparameters in different models.\n",
    "X1,Xtest,y1,ytest=train_test_split(X, y, test_size=0.1, random_state=7)"
   ]
  },
  {
   "cell_type": "markdown",
   "metadata": {},
   "source": [
    "## Random Forest Regressor"
   ]
  },
  {
   "cell_type": "code",
   "execution_count": 13,
   "metadata": {},
   "outputs": [
    {
     "name": "stdout",
     "output_type": "stream",
     "text": [
      "-------------Cross Validation-----------------\n",
      "Accuracy -val set: 66.33852248504778\n",
      "Accuracy -test set: 63.671867589394346\n",
      "-------------Cross Validation-----------------\n",
      "Accuracy -val set: 81.50142168284819\n",
      "Accuracy -test set: 81.68708131730104\n",
      "-------------Cross Validation-----------------\n",
      "Accuracy -val set: 81.4121971378668\n",
      "Accuracy -test set: 81.41634878498718\n"
     ]
    }
   ],
   "source": [
    "rf1=RandomForestRegressor(n_estimators=55, bootstrap=False)\n",
    "cross_val(rf1,X1,y1,'r')\n",
    "rf2=RandomForestRegressor(n_estimators=150)\n",
    "cross_val(rf2,X1,y1,'r')\n",
    "rf3=RandomForestRegressor(n_estimators=200)\n",
    "cross_val(rf3,X1,y1,'r')"
   ]
  },
  {
   "cell_type": "markdown",
   "metadata": {},
   "source": [
    "## KNeighbors Regressor"
   ]
  },
  {
   "cell_type": "code",
   "execution_count": 14,
   "metadata": {},
   "outputs": [
    {
     "name": "stdout",
     "output_type": "stream",
     "text": [
      "-------------Cross Validation-----------------\n",
      "Accuracy -val set: 60.165796219991144\n",
      "Accuracy -test set: 60.51592332611976\n",
      "-------------Cross Validation-----------------\n",
      "Accuracy -val set: 57.78385354412512\n",
      "Accuracy -test set: 53.55006906096994\n",
      "-------------Cross Validation-----------------\n",
      "Accuracy -val set: 50.78403071059818\n",
      "Accuracy -test set: 44.58149572405813\n"
     ]
    }
   ],
   "source": [
    "knn1 = KNeighborsRegressor(n_neighbors=2)\n",
    "cross_val(knn1,X1,y1,'r')\n",
    "knn2 = KNeighborsRegressor(n_neighbors=10)\n",
    "cross_val(knn2,X1,y1,'r')\n",
    "knn3 = KNeighborsRegressor(n_neighbors=20)\n",
    "cross_val(knn3,X1,y1,'r')"
   ]
  },
  {
   "cell_type": "markdown",
   "metadata": {},
   "source": [
    "## Linear Regression"
   ]
  },
  {
   "cell_type": "code",
   "execution_count": 15,
   "metadata": {},
   "outputs": [
    {
     "name": "stdout",
     "output_type": "stream",
     "text": [
      "-------------Cross Validation-----------------\n",
      "Accuracy -val set: 46.050773050604555\n",
      "Accuracy -test set: 43.90453806237461\n",
      "-------------Cross Validation-----------------\n",
      "Accuracy -val set: 46.050773050604555\n",
      "Accuracy -test set: 43.90453806237461\n",
      "-------------Cross Validation-----------------\n",
      "Accuracy -val set: 46.050773050604555\n",
      "Accuracy -test set: 43.90453806237461\n"
     ]
    }
   ],
   "source": [
    "lr1=LinearRegression(fit_intercept=True, n_jobs=100)\n",
    "cross_val(lr1,X1,y1,'r')\n",
    "lr2=LinearRegression(n_jobs=10)\n",
    "cross_val(lr2,X1,y1,'r')\n",
    "lr3=LinearRegression(n_jobs=1)\n",
    "cross_val(lr3,X1,y1,'r')"
   ]
  },
  {
   "cell_type": "code",
   "execution_count": 16,
   "metadata": {},
   "outputs": [
    {
     "name": "stdout",
     "output_type": "stream",
     "text": [
      "0.8344634187020725\n",
      "0.55376107541912\n",
      "0.40387912213907684\n"
     ]
    }
   ],
   "source": [
    "print(rf3.score(Xtest,ytest))\n",
    "print(knn2.score(Xtest,ytest))\n",
    "print(lr2.score(Xtest,ytest))"
   ]
  },
  {
   "cell_type": "markdown",
   "metadata": {},
   "source": [
    "### Serializing the winner!"
   ]
  },
  {
   "cell_type": "code",
   "execution_count": 17,
   "metadata": {},
   "outputs": [],
   "source": [
    "jl_filedir = Path(\"./../trained_models\")\n",
    "jl_filedir.mkdir(parents=True,exist_ok=True)\n",
    "\n",
    "jl_filepath=jl_filedir / 'reg_obesity.joblib'\n",
    "\n",
    "joblib.dump(rf3,jl_filepath)\n",
    "\n",
    "rf3_jl=joblib.load(jl_filepath)\n",
    "# rf3_jl.predict(Xtest)"
   ]
  }
 ],
 "metadata": {
  "kernelspec": {
   "display_name": ".venv",
   "language": "python",
   "name": "python3"
  },
  "language_info": {
   "codemirror_mode": {
    "name": "ipython",
    "version": 3
   },
   "file_extension": ".py",
   "mimetype": "text/x-python",
   "name": "python",
   "nbconvert_exporter": "python",
   "pygments_lexer": "ipython3",
   "version": "3.12.2"
  }
 },
 "nbformat": 4,
 "nbformat_minor": 2
}
