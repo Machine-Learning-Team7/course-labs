{
 "cells": [
  {
   "cell_type": "markdown",
   "id": "3930ecae-06ff-4d58-9b85-b21dc4b0a893",
   "metadata": {
    "tags": []
   },
   "source": [
    "# Functions\n",
    "\n",
    "A **function**, then, is a self-contained chunk of code that carries out a specific task, or a related set of tasks. \n",
    "\n",
    "Some functions we are already familiar with:\n",
    " - len()\n",
    " - str()\n",
    " - print()\n",
    " \n"
   ]
  },
  {
   "cell_type": "markdown",
   "id": "b135276c-a88d-4e39-a8ad-f121308626ec",
   "metadata": {},
   "source": [
    "## Why use functions\n",
    "\n",
    "- abstraction (DRY)\n",
    "- modularity"
   ]
  },
  {
   "cell_type": "markdown",
   "id": "6bd4bb3b-ae17-4e3e-b5f2-623cb152633d",
   "metadata": {},
   "source": [
    "## Namespace separation\n",
    "\n",
    "A **namespace** (also called scope) is a region of a program in which **identifiers** have meaning. "
   ]
  },
  {
   "cell_type": "code",
   "execution_count": null,
   "id": "4ce73119-426a-4925-8274-96463c0e61eb",
   "metadata": {},
   "outputs": [],
   "source": [
    "def show_variable_scope():\n",
    "    x = 10\n",
    "    print(\"Local x = \", locals()['x'])\n",
    "\n",
    "x = 5\n",
    "show_variable_scope()\n",
    "print(\"Global x = \", globals()['x'])\n"
   ]
  },
  {
   "cell_type": "markdown",
   "id": "5e92de42-8252-486d-ba83-e375b2b743aa",
   "metadata": {},
   "source": [
    "## Function calls and definition\n",
    "\n",
    "The basic syntax for creating a function is\n",
    "\n",
    "```python\n",
    "def <function_name>([<parameters>]):\n",
    "    <statement(s)>\n",
    "```\n",
    "\n",
    "To use a function we generally only care about the interface:\n",
    "\n",
    "- what **arguments** it takes (could be none)\n",
    "- what **values** it returns and their type\n",
    "\n",
    "So to call a function we use:\n",
    "\n",
    "```python\n",
    "<function_name>([<arguments>])\n",
    "```"
   ]
  },
  {
   "cell_type": "code",
   "execution_count": null,
   "id": "94c6f5bf-0c5e-4e24-8fab-6eac44c02e65",
   "metadata": {},
   "outputs": [],
   "source": [
    "def f(a, b):\n",
    "    s = a + b\n",
    "    print(s)\n",
    "    \n",
    "f(1, 2)"
   ]
  },
  {
   "cell_type": "markdown",
   "id": "5c66aba6-8bfa-4e52-a43e-79880d5b8c8a",
   "metadata": {},
   "source": [
    "## Program flow"
   ]
  },
  {
   "cell_type": "code",
   "execution_count": null,
   "id": "06bd13bb-7a33-42cb-ac5f-4e383e199309",
   "metadata": {
    "tags": []
   },
   "outputs": [],
   "source": [
    "from helpers import f1, f2"
   ]
  },
  {
   "cell_type": "code",
   "execution_count": null,
   "id": "d43e3f69-0fd1-4d86-9c4b-1fcaf7960deb",
   "metadata": {
    "tags": []
   },
   "outputs": [],
   "source": [
    "print(\"Inside main program before calling the function\")\n",
    "print()\n",
    "f2()\n",
    "print()\n",
    "print(\"Inside main program after calling the function\")"
   ]
  },
  {
   "cell_type": "markdown",
   "id": "32c58c3a-93f8-4754-95be-f39502731e55",
   "metadata": {},
   "source": [
    "## Function stub"
   ]
  },
  {
   "cell_type": "code",
   "execution_count": null,
   "id": "6b2f2e80-b331-44e4-bd48-688cf935fd7f",
   "metadata": {
    "tags": []
   },
   "outputs": [],
   "source": [
    "def hypotenuse(): \n",
    "    pass"
   ]
  },
  {
   "cell_type": "markdown",
   "id": "b9e35e83-6bbf-4215-991e-305a1da5a030",
   "metadata": {},
   "source": [
    "## Position, keyword, and default arguments"
   ]
  },
  {
   "cell_type": "code",
   "execution_count": null,
   "id": "6727a89e-b5cb-45bb-bcad-7d0847816116",
   "metadata": {
    "tags": []
   },
   "outputs": [],
   "source": [
    "def f(a, b, c):\n",
    "    print(f\"a is {a}; b is {b}; c is {c}\")"
   ]
  },
  {
   "cell_type": "code",
   "execution_count": null,
   "id": "fe82ed08-a1d9-4223-b1ab-007533621afd",
   "metadata": {
    "tags": []
   },
   "outputs": [],
   "source": [
    "# positional: order matters\n",
    "\n",
    "f(1, 2, 3)\n",
    "f(2, 1, 3)"
   ]
  },
  {
   "cell_type": "code",
   "execution_count": null,
   "id": "aaa25a45-b637-496a-ad56-f2d4f996ca88",
   "metadata": {
    "tags": []
   },
   "outputs": [],
   "source": [
    "# positional: too few\n",
    "\n",
    "f(1, 2)"
   ]
  },
  {
   "cell_type": "code",
   "execution_count": null,
   "id": "2d081678-e8d9-4506-a687-209acab3adf6",
   "metadata": {
    "tags": []
   },
   "outputs": [],
   "source": [
    "# positional: too many\n",
    "\n",
    "f(1, 2, 3, 4)"
   ]
  },
  {
   "cell_type": "code",
   "execution_count": null,
   "id": "c0f41efa-2457-4f59-85ec-0f4290bd1e02",
   "metadata": {
    "tags": []
   },
   "outputs": [],
   "source": [
    "# keyword: order doesn't matter\n",
    "\n",
    "f(a=1, b=2, c=3)\n",
    "f(b=2, a=1, c=3)"
   ]
  },
  {
   "cell_type": "code",
   "execution_count": null,
   "id": "207c32ca-06ec-473f-8a63-20599a245041",
   "metadata": {
    "tags": []
   },
   "outputs": [],
   "source": [
    "# keyword: number of arguments does\n",
    "\n",
    "f(a=1, b=2, c=3, d=4)"
   ]
  },
  {
   "cell_type": "code",
   "execution_count": null,
   "id": "a071a801-7bb6-49a3-885f-b7c160b27ca1",
   "metadata": {
    "tags": []
   },
   "outputs": [],
   "source": [
    "# positional before keyword\n",
    "\n",
    "f(1, 2, c=3)\n",
    "# f(a=1, 2, 3)"
   ]
  },
  {
   "cell_type": "code",
   "execution_count": null,
   "id": "374efb51-8074-46c4-88e1-ad28775f67b1",
   "metadata": {},
   "outputs": [],
   "source": [
    "# default parameters\n",
    "\n",
    "def f(a, b, c=0):\n",
    "    print(a, b, c)"
   ]
  },
  {
   "cell_type": "code",
   "execution_count": null,
   "id": "b7007d52-0687-4cc9-b72a-cd410d796045",
   "metadata": {
    "tags": []
   },
   "outputs": [],
   "source": [
    "f(1, 2, 3)"
   ]
  },
  {
   "cell_type": "code",
   "execution_count": null,
   "id": "d506a71d-8704-41ab-a666-f556719ef0fe",
   "metadata": {
    "tags": []
   },
   "outputs": [],
   "source": [
    "# mutable default parameters: don't do this\n",
    "\n",
    "def f(a, b, c=[]):\n",
    "    c.append('###')\n",
    "    print(a, b, c)"
   ]
  },
  {
   "cell_type": "code",
   "execution_count": null,
   "id": "44aa7512-4f48-4ca5-9dfe-665795fad04c",
   "metadata": {
    "tags": []
   },
   "outputs": [],
   "source": [
    "f(1, 2)"
   ]
  },
  {
   "cell_type": "code",
   "execution_count": null,
   "id": "58f6bdc3",
   "metadata": {},
   "outputs": [],
   "source": [
    "# mutable default parameters: do do this\n",
    "\n",
    "def f(a, b, c=None):\n",
    "    if not c:\n",
    "        c = []\n",
    "    c.append('###')\n",
    "    print(a, b, c)"
   ]
  },
  {
   "cell_type": "code",
   "execution_count": null,
   "id": "d51ba25f",
   "metadata": {},
   "outputs": [],
   "source": [
    "f(1, 2)"
   ]
  },
  {
   "cell_type": "markdown",
   "id": "03f8843d-1e93-4eac-8b31-c64dfa9a6955",
   "metadata": {
    "jupyter": {
     "source_hidden": true
    },
    "tags": []
   },
   "source": [
    "## Pass by object reference"
   ]
  },
  {
   "cell_type": "code",
   "execution_count": null,
   "id": "0b96a92b-1332-4c4c-ad77-de92a19f0472",
   "metadata": {
    "tags": []
   },
   "outputs": [],
   "source": [
    "def f(x):\n",
    "    print(f\"{x=} inside function has id {id(x)}\")\n",
    "    x = 10\n",
    "    print(f\"{x=} inside function has id {id(x)}\")\n"
   ]
  },
  {
   "cell_type": "code",
   "execution_count": null,
   "id": "09401033-1431-4078-9993-38d591a1c052",
   "metadata": {
    "tags": []
   },
   "outputs": [],
   "source": [
    "x = 5\n",
    "\n",
    "print(x, id(x))\n",
    "\n",
    "f(x)\n",
    "\n",
    "print(x, id(x))"
   ]
  },
  {
   "cell_type": "markdown",
   "id": "e83e8955-1e3a-484c-ab35-fd63dc2d9985",
   "metadata": {},
   "source": [
    "### Except with mutable object"
   ]
  },
  {
   "cell_type": "code",
   "execution_count": null,
   "id": "d4ee783d-21e2-4c81-9d4c-875313e70b7f",
   "metadata": {
    "tags": []
   },
   "outputs": [],
   "source": [
    "my_list = [1, 2, 3]\n",
    "\n",
    "def f_list(x):\n",
    "    print(f\"{x=} inside function has id {id(x)}\")\n",
    "    x[0] = 99\n",
    "    print(f\"{x=} inside function has id {id(x)}\")\n",
    "    \n",
    "print(my_list, id(my_list))\n",
    "f_list(my_list)\n",
    "print(my_list, id(my_list))\n"
   ]
  },
  {
   "cell_type": "markdown",
   "id": "b82a4281-4fb1-4679-a759-95d4b9b6b333",
   "metadata": {},
   "source": [
    "## Side effects"
   ]
  },
  {
   "cell_type": "markdown",
   "id": "6b200677-7616-4805-8a9b-081ad24a30c0",
   "metadata": {},
   "source": [
    "A function creates side effects if changes the calling environment in any way."
   ]
  },
  {
   "cell_type": "markdown",
   "id": "ff72a901-0a91-4e84-bf2a-4c09422a958d",
   "metadata": {},
   "source": [
    "## `return` statement\n",
    "\n",
    "Provides a way to modify the calling environment without using side effects. \n",
    "\n",
    "A **return** statement serves two purposes:\n",
    "- it immediately terminates function execution and passes control back to the calling environment\n",
    "- it provides a way to pass data back to the calling environment (which can be used to modify the environment)"
   ]
  },
  {
   "cell_type": "markdown",
   "id": "71ceeaa9-3db8-45b9-9dc2-5673295906e5",
   "metadata": {},
   "source": [
    "### Exiting a function"
   ]
  },
  {
   "cell_type": "code",
   "execution_count": null,
   "id": "19456955-43e9-4568-8552-fbba47588385",
   "metadata": {},
   "outputs": [],
   "source": [
    "# falling off the end\n",
    "\n",
    "def f():\n",
    "    print('hi')\n",
    "    \n",
    "f()\n",
    "\n",
    "x = f()\n",
    "print(x)"
   ]
  },
  {
   "cell_type": "code",
   "execution_count": null,
   "id": "bd90727b-5c6d-490e-94f4-282ba0cc39d2",
   "metadata": {},
   "outputs": [],
   "source": [
    "# empty return\n",
    "\n",
    "def f():\n",
    "    print('empty return')\n",
    "    return\n",
    "\n",
    "f()\n",
    "\n",
    "x = f()\n",
    "print(x)\n"
   ]
  },
  {
   "cell_type": "code",
   "execution_count": null,
   "id": "208d78ce-9055-42d1-89fb-0aab416f29fc",
   "metadata": {},
   "outputs": [],
   "source": [
    "# using conditions\n",
    "\n",
    "def f(a):\n",
    "    if a>90:\n",
    "        print(\"a is greater than 90\")\n",
    "        return \n",
    "    else:\n",
    "        print(\"a is not greater than 90\")\n",
    "        return \n",
    "\n",
    "f(99)\n",
    "x = f(99)\n",
    "print(x)"
   ]
  },
  {
   "cell_type": "markdown",
   "id": "f83d29cd-b8c7-4df9-941f-930fbac5aded",
   "metadata": {},
   "source": [
    "### Returning data"
   ]
  },
  {
   "cell_type": "code",
   "execution_count": null,
   "id": "4315b351-0662-4542-a4b8-0b6a41b85ea7",
   "metadata": {},
   "outputs": [],
   "source": [
    "# immutable but modify calling environment\n",
    "\n",
    "x = 5\n",
    "\n",
    "def f(x):\n",
    "    x = 10\n",
    "    return x"
   ]
  },
  {
   "cell_type": "code",
   "execution_count": null,
   "id": "033b425a-2108-4b1b-8381-d9c753d271d9",
   "metadata": {
    "tags": []
   },
   "outputs": [],
   "source": [
    "x = f(x)\n",
    "x"
   ]
  },
  {
   "cell_type": "code",
   "execution_count": null,
   "id": "d9794187-0180-4524-8d35-96c8496e7270",
   "metadata": {},
   "outputs": [],
   "source": [
    "# mutable modify calling environment without side effects\n",
    "\n",
    "def f(x):\n",
    "    r = []\n",
    "    for el in x:\n",
    "        r.append(el**2)\n",
    "    return r\n",
    "        "
   ]
  },
  {
   "cell_type": "code",
   "execution_count": null,
   "id": "7efe006d-deff-4cb4-9310-bbb75811bd88",
   "metadata": {
    "tags": []
   },
   "outputs": [],
   "source": [
    "x = [1, 2, 3]\n",
    "\n",
    "x = f(x)\n",
    "\n",
    "x"
   ]
  }
 ],
 "metadata": {
  "kernelspec": {
   "display_name": "Python 3 (ipykernel)",
   "language": "python",
   "name": "python3"
  },
  "language_info": {
   "codemirror_mode": {
    "name": "ipython",
    "version": 3
   },
   "file_extension": ".py",
   "mimetype": "text/x-python",
   "name": "python",
   "nbconvert_exporter": "python",
   "pygments_lexer": "ipython3",
   "version": "3.12.1"
  }
 },
 "nbformat": 4,
 "nbformat_minor": 5
}
