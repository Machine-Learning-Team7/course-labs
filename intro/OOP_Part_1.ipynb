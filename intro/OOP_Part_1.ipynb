{
 "cells": [
  {
   "cell_type": "markdown",
   "id": "c37bdda3-fdb7-4129-b526-2082ba30c189",
   "metadata": {},
   "source": [
    "# Object-oriented programming (OOP)"
   ]
  },
  {
   "cell_type": "markdown",
   "id": "2c65a77d-6274-4d76-8b81-2eda19a8548c",
   "metadata": {},
   "source": [
    "## Classes\n",
    "\n",
    "Python is a multiparadigm programming language. One of those paradigms is object-oriented programming (OOP). In Python, OOP is supported by the `class` structure.\n",
    "\n",
    "In OOP, data and behaviour are not separate; they are parts of the same object. And these objects are created to better model real-life situations/objects."
   ]
  },
  {
   "cell_type": "markdown",
   "id": "8d870d60-95a1-4955-817f-0e34e8c44c0d",
   "metadata": {},
   "source": [
    "### Defining a class"
   ]
  },
  {
   "cell_type": "code",
   "execution_count": null,
   "id": "b0e18010-3378-4414-bc72-f00590ea16fa",
   "metadata": {
    "tags": []
   },
   "outputs": [],
   "source": [
    "class Clothes:\n",
    "    pass"
   ]
  },
  {
   "cell_type": "markdown",
   "id": "98279e5a-49d4-41e1-8422-508ea7b67351",
   "metadata": {},
   "source": [
    "### Creating an instance"
   ]
  },
  {
   "cell_type": "code",
   "execution_count": null,
   "id": "40a4abc5-67db-4b55-9249-5fcc1ef26370",
   "metadata": {
    "tags": []
   },
   "outputs": [],
   "source": [
    "a = Clothes()\n",
    "type(a)"
   ]
  },
  {
   "cell_type": "code",
   "execution_count": null,
   "id": "5a7e5849-8d0a-4f73-aedb-a9d05dd33bb4",
   "metadata": {
    "tags": []
   },
   "outputs": [],
   "source": [
    "b = Clothes()"
   ]
  },
  {
   "cell_type": "code",
   "execution_count": null,
   "id": "01bd2724-fa19-40bd-9895-7c72f1f99d4c",
   "metadata": {
    "tags": []
   },
   "outputs": [],
   "source": [
    "a is b"
   ]
  },
  {
   "cell_type": "code",
   "execution_count": null,
   "id": "a462feae",
   "metadata": {},
   "outputs": [],
   "source": [
    "isinstance(a, Clothes)"
   ]
  },
  {
   "cell_type": "code",
   "execution_count": null,
   "id": "03852c42",
   "metadata": {},
   "outputs": [],
   "source": [
    "isinstance(b, Clothes)"
   ]
  },
  {
   "cell_type": "markdown",
   "id": "90640b36-bdde-4aa1-b66e-b76648032c55",
   "metadata": {},
   "source": [
    "### Adding attributes"
   ]
  },
  {
   "cell_type": "code",
   "execution_count": null,
   "id": "56a5df6a-a184-48aa-865b-c6ca7b8a305b",
   "metadata": {
    "tags": []
   },
   "outputs": [],
   "source": [
    "class Clothes:\n",
    "    def __init__(self, c_type, colour, size, price):\n",
    "        self.c_type = c_type\n",
    "        self.colour = colour\n",
    "        self.size = size\n",
    "        self.price = price"
   ]
  },
  {
   "cell_type": "code",
   "execution_count": null,
   "id": "c166f9f8-2808-4828-a93e-e8a78065ea8e",
   "metadata": {
    "tags": []
   },
   "outputs": [],
   "source": [
    "shirt = Clothes('tshirt', 'aquamarine', 'M', 25)\n",
    "shirt"
   ]
  },
  {
   "cell_type": "code",
   "execution_count": null,
   "id": "f3b6b8a7-bf37-4904-ad43-58f4d7643a39",
   "metadata": {
    "tags": []
   },
   "outputs": [],
   "source": [
    "shirt.price"
   ]
  },
  {
   "cell_type": "code",
   "execution_count": null,
   "id": "fb207f4f-80d9-4891-930c-d09b31da78aa",
   "metadata": {
    "tags": []
   },
   "outputs": [],
   "source": [
    "shirt.colour"
   ]
  },
  {
   "cell_type": "code",
   "execution_count": null,
   "id": "847b282e-de49-4a90-8e8b-9a8874fd97ff",
   "metadata": {
    "tags": []
   },
   "outputs": [],
   "source": [
    "shirt.c_type"
   ]
  },
  {
   "cell_type": "code",
   "execution_count": null,
   "id": "72437b5d-c690-4010-971f-3d8d658585e6",
   "metadata": {
    "tags": []
   },
   "outputs": [],
   "source": [
    "pants = Clothes('dress', 'fuscia', 'L', 56)\n",
    "pants"
   ]
  },
  {
   "cell_type": "code",
   "execution_count": null,
   "id": "a1da5b9f-d347-4955-94e1-1c0e142af372",
   "metadata": {
    "tags": []
   },
   "outputs": [],
   "source": [
    "pants.colour"
   ]
  },
  {
   "cell_type": "code",
   "execution_count": null,
   "id": "e11fb651-4be1-4231-892a-fcaa7ab9fc72",
   "metadata": {
    "tags": []
   },
   "outputs": [],
   "source": [
    "pants.price"
   ]
  },
  {
   "cell_type": "code",
   "execution_count": null,
   "id": "52ac1b43-cbf6-428f-ac26-95cc8b2589f0",
   "metadata": {
    "tags": []
   },
   "outputs": [],
   "source": [
    "pants.c_type"
   ]
  },
  {
   "cell_type": "code",
   "execution_count": null,
   "id": "9e4a7a45-169e-49d0-a4b2-95020f13d1ae",
   "metadata": {
    "tags": []
   },
   "outputs": [],
   "source": [
    "pants.price = 898\n",
    "pants.price"
   ]
  },
  {
   "cell_type": "code",
   "execution_count": null,
   "id": "52110497-1502-49fe-aef2-08ba376f0349",
   "metadata": {
    "tags": []
   },
   "outputs": [],
   "source": [
    "pants.bellbottoms = True\n",
    "pants.bellbottoms"
   ]
  },
  {
   "cell_type": "code",
   "execution_count": null,
   "id": "2afef677-de0a-46ff-ad02-1946a1820446",
   "metadata": {
    "tags": []
   },
   "outputs": [],
   "source": [
    "shirt.bellbottoms"
   ]
  },
  {
   "cell_type": "markdown",
   "id": "44897cc9-01a0-42a6-9736-8a03ce6f353a",
   "metadata": {},
   "source": [
    "### Adding methods"
   ]
  },
  {
   "cell_type": "code",
   "execution_count": 8,
   "id": "ab5f4a1e-ed0e-4d8a-b492-6e8b061f583c",
   "metadata": {
    "tags": []
   },
   "outputs": [],
   "source": [
    "class Clothes:\n",
    "    def __init__(self, c_type, colour, size, price):\n",
    "        self.c_type = c_type\n",
    "        self.colour = colour\n",
    "        self.size = size\n",
    "        self.price = price\n",
    "        \n",
    "    def get_sale_price(self, pct):\n",
    "        return self.price - pct*self.price\n",
    "    \n",
    "    def __repr__(self):\n",
    "        return f\"Clothes(c_type='{self.c_type}', colour='{self.colour}', size='{self.size}', price={self.price})\" "
   ]
  },
  {
   "cell_type": "code",
   "execution_count": 11,
   "id": "9e8dbfe8-0f8d-434e-8b89-75163bd1fbb6",
   "metadata": {
    "tags": []
   },
   "outputs": [
    {
     "data": {
      "text/plain": [
       "Clothes(c_type='tshirt', colour='aquamarine', size='M', price=25)"
      ]
     },
     "execution_count": 11,
     "metadata": {},
     "output_type": "execute_result"
    }
   ],
   "source": [
    "shirt = Clothes('tshirt', 'aquamarine', 'M', 25)\n",
    "shirt"
   ]
  },
  {
   "cell_type": "code",
   "execution_count": 12,
   "id": "de7edc19-2b72-422e-8463-ecd2238d1faf",
   "metadata": {
    "tags": []
   },
   "outputs": [
    {
     "data": {
      "text/plain": [
       "12.5"
      ]
     },
     "execution_count": 12,
     "metadata": {},
     "output_type": "execute_result"
    }
   ],
   "source": [
    "shirt.get_sale_price(0.5)"
   ]
  },
  {
   "cell_type": "markdown",
   "id": "1afd879d",
   "metadata": {},
   "source": [
    "#### Getting a handle on `self`"
   ]
  },
  {
   "cell_type": "code",
   "execution_count": 14,
   "id": "362d0540",
   "metadata": {},
   "outputs": [
    {
     "data": {
      "text/plain": [
       "12.5"
      ]
     },
     "execution_count": 14,
     "metadata": {},
     "output_type": "execute_result"
    }
   ],
   "source": [
    "Clothes.get_sale_price(shirt, 0.5)"
   ]
  },
  {
   "cell_type": "markdown",
   "id": "f9289e69-e269-4a6f-a377-8abb90fc1910",
   "metadata": {},
   "source": [
    "### Class vs instance attributes"
   ]
  },
  {
   "cell_type": "code",
   "execution_count": null,
   "id": "15dc9b0c-20a4-4c65-8dcd-1c2de27c66e7",
   "metadata": {
    "tags": []
   },
   "outputs": [],
   "source": [
    "class Clothes:\n",
    "    # class attribute\n",
    "    inventory = 0\n",
    "    \n",
    "    # instance attributes\n",
    "    def __init__(self, c_type, colour, size, price):\n",
    "        self.c_type = c_type\n",
    "        self.colour = colour\n",
    "        self.size = size\n",
    "        self.price = price\n",
    "        \n",
    "    def get_sale_price(self, pct):\n",
    "        return self.price - pct*self.price\n",
    "    \n",
    "    def __repr__(self):\n",
    "        return f\"Clothes(c_type='{self.c_type}', colour='{self.colour}', size='{self.size}', price={self.price})\" "
   ]
  },
  {
   "cell_type": "code",
   "execution_count": null,
   "id": "58da07ab-f746-4c36-8936-eb6ec1689e51",
   "metadata": {
    "tags": []
   },
   "outputs": [],
   "source": [
    "shirt = Clothes('tshirt', 'aquamarine', 'M', 25)"
   ]
  },
  {
   "cell_type": "code",
   "execution_count": null,
   "id": "34991397-5ef7-4c5e-8e71-ac5e30dfb271",
   "metadata": {
    "tags": []
   },
   "outputs": [],
   "source": [
    "shirt.inventory"
   ]
  },
  {
   "cell_type": "code",
   "execution_count": null,
   "id": "cf0af74d-dc98-45b6-b915-13e35984456e",
   "metadata": {
    "tags": []
   },
   "outputs": [],
   "source": [
    "shirt_2 = Clothes('tshirt', 'red', 'M', 19)\n",
    "shirt_2.inventory"
   ]
  },
  {
   "cell_type": "markdown",
   "id": "8a71b60d-9da6-4e5c-9e7c-56497ac650bf",
   "metadata": {},
   "source": [
    "## Exercise: create a `Neuron` class\n",
    "\n",
    "In deep learning, a neuron is defined by its weights, `w`, and bias, `b`. \n",
    "\n",
    "It's behaviour is defined as:\n",
    "\n",
    "$$\n",
    "\\hat{y} = \\rm{activation \\_function}(wx + b),\n",
    "$$\n",
    "\n",
    "where `x` is some input data and the `activation_function()` is some non-linearly function we will ignore for now.\n",
    "\n",
    "Create a class to represent a neuron, assuming the data `x` takes on single values, like `x = 76.3` or `x = -12`. "
   ]
  },
  {
   "cell_type": "code",
   "execution_count": null,
   "id": "8ec852cc-ff02-48a0-9eb3-df303bb13863",
   "metadata": {
    "tags": []
   },
   "outputs": [],
   "source": [
    "class Neuron:\n",
    "    def __init__(self, w, b):\n",
    "        self.w = w\n",
    "        self.b = b\n",
    "    \n",
    "    def calculate_output(self, x):\n",
    "        return self.w * x + self.b\n",
    "    "
   ]
  },
  {
   "cell_type": "code",
   "execution_count": null,
   "id": "a2bd5f7f-6c60-4bfc-b486-758cfad20f64",
   "metadata": {
    "tags": []
   },
   "outputs": [],
   "source": [
    "n1 = Neuron(5, 1)"
   ]
  },
  {
   "cell_type": "code",
   "execution_count": null,
   "id": "fabfb77f-704f-4934-8f67-b559244b4f36",
   "metadata": {
    "tags": []
   },
   "outputs": [],
   "source": [
    "n1.calculate_output(-2)"
   ]
  },
  {
   "cell_type": "code",
   "execution_count": null,
   "id": "208e4199-5667-487f-9eb0-ad79d859fd6c",
   "metadata": {
    "tags": []
   },
   "outputs": [],
   "source": [
    "n1.w"
   ]
  },
  {
   "cell_type": "code",
   "execution_count": null,
   "id": "8e9da815-e37c-411c-85d5-d813213861ba",
   "metadata": {
    "tags": []
   },
   "outputs": [],
   "source": [
    "n1.b"
   ]
  },
  {
   "cell_type": "markdown",
   "id": "9ce07de7-2abf-40e9-b313-2bccf02946a4",
   "metadata": {},
   "source": [
    "## Exercise: helper function 1\n",
    "\n",
    "Create a function that will return a list of random integers of a user-specified length. The `random` package has a method that will be helpful. "
   ]
  },
  {
   "cell_type": "code",
   "execution_count": null,
   "id": "ec2f977b-b406-4e70-9041-23beeb102b92",
   "metadata": {
    "tags": []
   },
   "outputs": [],
   "source": [
    "import random\n",
    "\n",
    "def rand_list(length): \n",
    "    ints = range(-100, 101)\n",
    "    return random.choices(ints, k=length)"
   ]
  },
  {
   "cell_type": "code",
   "execution_count": null,
   "id": "34a2e125-e4c6-4256-9671-56fcfc43696f",
   "metadata": {
    "tags": []
   },
   "outputs": [],
   "source": [
    "x = rand_list(5)\n",
    "x"
   ]
  },
  {
   "cell_type": "markdown",
   "id": "b9acf301-afca-4c42-9a92-45bc2c1ccb30",
   "metadata": {},
   "source": [
    "## Exercise: helper function 2\n",
    "\n",
    "Create a function that will calculate the sum of the product of the elements in two lists. For example, if `x = [x_1, x_2, ...]` and `y = [y_1, y_2, ...]`, your function will return  \n",
    "\n",
    "$$\n",
    "x_1y_1 + x_2y_2 + ...\n",
    "$$"
   ]
  },
  {
   "cell_type": "code",
   "execution_count": null,
   "id": "b84e555c-6703-4643-8e5b-a382fcc61923",
   "metadata": {
    "tags": []
   },
   "outputs": [],
   "source": [
    "def add_prod(x, y):\n",
    "    assert len(x)==len(y), \"The lists x and y need to be the same length.\"\n",
    "    total = 0\n",
    "    for i, j in zip(x, y):\n",
    "        total += i*j\n",
    "    return total"
   ]
  },
  {
   "cell_type": "markdown",
   "id": "8599ef42-a03a-4503-9533-67827a243f7d",
   "metadata": {},
   "source": [
    "## Exercise: update `Neuron` class\n",
    "\n",
    "Modify your `Neuron` class so that it can take in a list (of proframmer-defined length) of values for `x`. Each value of `x` should have a corresponding value of `w`. "
   ]
  },
  {
   "cell_type": "code",
   "execution_count": null,
   "id": "b5c58e70-50bd-44ed-a810-4b46dc6f049b",
   "metadata": {
    "tags": []
   },
   "outputs": [],
   "source": [
    "class Neuron:\n",
    "    def __init__(self, w, b):\n",
    "        self.w = w\n",
    "        self.b = b\n",
    "    \n",
    "    def calculate_output(self, x):\n",
    "        return add_prod(self.w, x) + self.b"
   ]
  },
  {
   "cell_type": "code",
   "execution_count": null,
   "id": "6b6da3e3-c22d-44e8-8906-0488fd6eedee",
   "metadata": {
    "tags": []
   },
   "outputs": [],
   "source": [
    "n = Neuron(rand_list(5), 9)\n",
    "n.calculate_output(rand_list(5))"
   ]
  },
  {
   "cell_type": "markdown",
   "id": "78ac20ce-7fb5-4890-aed1-d2cde2592db8",
   "metadata": {},
   "source": [
    "## Exercise: update `Neuron` class\n",
    "\n",
    "Modify your `Neuron` class so that it's activation function is the `max()` function. This function should take in 0 and $\\hat{y}$ and return the larger of the two.  "
   ]
  },
  {
   "cell_type": "code",
   "execution_count": null,
   "id": "29aadd8a-607e-4316-a2a1-8d39d6ac489d",
   "metadata": {},
   "outputs": [],
   "source": [
    "class Neuron:\n",
    "    def __init__(self, w, b):\n",
    "        self.w = w\n",
    "        self.b = b\n",
    "    \n",
    "    def calculate_output(self, x):\n",
    "        y_hat = add_prod(self.w, x) + self.b\n",
    "        return max(0, y_hat)"
   ]
  },
  {
   "cell_type": "code",
   "execution_count": null,
   "id": "b011f0c2-1d7b-4d24-aa47-d78332b46e7c",
   "metadata": {
    "tags": []
   },
   "outputs": [],
   "source": [
    "n = Neuron([-1, -2, -3, -4], -9)\n",
    "n.calculate_output([4, 5, 6, 7])"
   ]
  },
  {
   "cell_type": "code",
   "execution_count": null,
   "id": "b4e99cdf-58c1-458f-a05b-0e6b3af84461",
   "metadata": {},
   "outputs": [],
   "source": []
  }
 ],
 "metadata": {
  "kernelspec": {
   "display_name": "Python 3 (ipykernel)",
   "language": "python",
   "name": "python3"
  },
  "language_info": {
   "codemirror_mode": {
    "name": "ipython",
    "version": 3
   },
   "file_extension": ".py",
   "mimetype": "text/x-python",
   "name": "python",
   "nbconvert_exporter": "python",
   "pygments_lexer": "ipython3",
   "version": "3.12.1"
  }
 },
 "nbformat": 4,
 "nbformat_minor": 5
}
