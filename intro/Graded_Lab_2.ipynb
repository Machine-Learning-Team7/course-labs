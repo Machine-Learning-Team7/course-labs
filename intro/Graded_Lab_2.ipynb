{
 "cells": [
  {
   "cell_type": "markdown",
   "metadata": {},
   "source": [
    "## COMP2006: Graded Lab 2\n",
    "\n",
    "In this lab, you will create a *k-nearest neighbours* algorithm from scratch. \n",
    "\n",
    "**Requirements**\n",
    "\n",
    "- All code written in Python\n",
    "- Create a Python class called `KNeighbours` that:\n",
    "    - (10 marks) initializes an instance of the class with a user-provided value of `k` and whether or not it will be used for a *regression* or a *classification* problem\n",
    "    - (15 marks) contains a method to calculate the Euclidean distance between a test point and all points in a training data set\n",
    "        - do NOT use built-in functions to calculate the distance\n",
    "    - (15 marks) contains a method that sorts Euclidean distances and returns the top-`k` values and the indices of those samples in the training data set\n",
    "    - contains a prediction method for:\n",
    "        - (15 marks) classification\n",
    "        - (15 marks) regression\n",
    "- (15 marks) Use sklearn's `make_classification()` function to generate data and test if your class works\n",
    "    - compare the results of your class to those of sklearn's `KNeighborsClassifier`\n",
    "- (15 marks) Use sklearn's `make_regression()` function to generate data and test if your class works\n",
    "    - compare the results of your class to those of sklearn's `KNeighborsRegressor`\n",
    "\n",
    "**What to submit**\n",
    " - A completed copy of this notebook with all final, error-free code executed and all output visible in the notebook\n",
    " - ONE submission per group"
   ]
  },
  {
   "cell_type": "markdown",
   "metadata": {},
   "source": [
    "## **The KNeighbours class - TEAM 7**\n",
    "\n",
    "**Manuel Bishop Noriega - 4362207**\n",
    "\n",
    "**Robert Matney - 4364229**\n",
    "\n",
    "we added 2 more methods, fit and predict. just to replicate the way sklearn.neighbors are used. we could have only called predictors methods passing them all training datasets and test point directly. "
   ]
  },
  {
   "cell_type": "code",
   "execution_count": 1,
   "metadata": {},
   "outputs": [],
   "source": [
    "import numpy as np\n",
    "# import matplotlib.pyplot as plt\n",
    "# import pandas as pd\n",
    "\n",
    "from math import sqrt # had to use this builtin function :(\n",
    "class KNeighbours:\n",
    "    \n",
    "# default constructor to take k and type of model to use\n",
    "    def __init__(self,k,model_type=\"regressor\"):\n",
    "        self.k=k\n",
    "        self.distances=[]\n",
    "        self.X_train=[]\n",
    "        self.y_train=[]\n",
    "        if model_type==\"regressor\" or model_type==\"classifier\":\n",
    "            self.model_type=model_type\n",
    "        else:\n",
    "            self.model_type=\"regressor\"\n",
    "            print(f'using default model regression')\n",
    "\n",
    "\n",
    "# calculates distances between testpoint and all points in tain data set\n",
    "    def calculate_euclidean_distance(self, test, train_points):\n",
    "        idx=0\n",
    "        self.distances=[]\n",
    "        for trp in train_points:\n",
    "            dist=abs(sqrt(abs(test[0]-trp[0])**2 + abs(test[1]-trp[1])**2))\n",
    "            self.distances.append([idx,dist])\n",
    "            idx+=1\n",
    "        return self.distances\n",
    "\n",
    "# sorts the distances and returns the top-k values    \n",
    "    def sort_distances(self):\n",
    "        sorted_distances=sorted(self.distances,key=lambda pt:pt[1])\n",
    "        # print(sorted_distances)\n",
    "        k_distances=[]\n",
    "        for i in range(0,self.k):\n",
    "            k_distances.append(sorted_distances[i])\n",
    "        return k_distances\n",
    "\n",
    "# I created this method feeds class object with training data\n",
    "# receives 2 training data sets: X for features and y for targets\n",
    "    def fit(self, X_train, y_train):\n",
    "        self.X_train=X_train\n",
    "        self.y_train=y_train\n",
    "\n",
    "# Method to deliver prediction according to parameter model_type during instantiation\n",
    "# similar to sklearn.neighbors, takes a point to make its prediction\n",
    "    def predict(self,test):\n",
    "        result=None\n",
    "        if self.model_type==\"regressor\":\n",
    "            result=self.myRegressor(test)\n",
    "        else:\n",
    "            self.model_type==\"classifier\"\n",
    "            result=self.myClassifier(test)\n",
    "        return result\n",
    "\n",
    "# method for classification prediction method\n",
    "# receives a testint point, looks for k nearest neighbors in the training data\n",
    "# and then check their classes, predicts according to the class with most incidences.\n",
    "# returns predicted class\n",
    "\n",
    "    def myClassifier(self,test):\n",
    "        predictList=[]\n",
    "        for p in test:\n",
    "            self.calculate_euclidean_distance(p,self.X_train)\n",
    "            knn=self.sort_distances()\n",
    "            predict=None\n",
    "            cset=set(self.y_train)  # extracting all different classes from train set\n",
    "            # print(f\"classes:{cset}\")\n",
    "            classes=dict.fromkeys(cset,0)    # creating a classes dictionary to accumulate votes for knn\n",
    "            for i in knn:\n",
    "                classes[self.y_train[i[0]]]+=1  # counting knn per class\n",
    "            # print(f\"votes per class: {classes}\")\n",
    "            predict=max(classes,key=classes.get)  # most popular class for knn is predicted\n",
    "            predictList.append(predict)\n",
    "        return np.array(predictList)\n",
    "\n",
    "# method for regression prediction method\n",
    "# receives a testint point, looks for k nearest neighbors in the training data\n",
    "# and then calculates the average value.\n",
    "# returns this value as prediction\n",
    "    def myRegressor(self, test):\n",
    "        predictList=[]\n",
    "        for p in test:\n",
    "            self.calculate_euclidean_distance(p,self.X_train)\n",
    "            knn=self.sort_distances()\n",
    "            predict=None\n",
    "            for i in knn:\n",
    "                if predict is None:\n",
    "                    predict=0\n",
    "                predict+=self.y_train[i[0]]\n",
    "            predict=predict/self.k\n",
    "            predictList.append(predict)\n",
    "        return np.array(predictList)\n"
   ]
  },
  {
   "cell_type": "markdown",
   "metadata": {},
   "source": [
    "## Regression models comparisson\n",
    "**Creating regression training data sets and test point**"
   ]
  },
  {
   "cell_type": "code",
   "execution_count": 2,
   "metadata": {},
   "outputs": [],
   "source": [
    "from sklearn.datasets import make_regression\n",
    "from sklearn.model_selection import train_test_split\n",
    "\n",
    "#data set for regression method\n",
    "X,y = make_regression(n_samples = 50, n_features = 2, random_state = 16)\n",
    "#testing point\n",
    "X1,X2,y1,y2= train_test_split(X,y,test_size=0.2)\n"
   ]
  },
  {
   "cell_type": "markdown",
   "metadata": {},
   "source": [
    "**Showing Training features and target arrays**"
   ]
  },
  {
   "cell_type": "code",
   "execution_count": 3,
   "metadata": {},
   "outputs": [
    {
     "data": {
      "text/plain": [
       "(array([[-0.66612899,  0.16360842],\n",
       "        [ 0.57970657, -1.33817457],\n",
       "        [-0.82130108,  1.80553286],\n",
       "        [-1.07884538,  0.23353755],\n",
       "        [ 0.06633037, -0.59446798],\n",
       "        [-2.48664218, -1.40482756],\n",
       "        [ 0.25394558,  0.16490347],\n",
       "        [ 1.52115734, -0.72946441],\n",
       "        [ 0.65863226,  0.71596476],\n",
       "        [ 0.49336691, -0.75686314],\n",
       "        [ 0.11874356, -0.7868971 ],\n",
       "        [-1.04842202,  0.50927062],\n",
       "        [-0.63928976,  1.67433222],\n",
       "        [-0.10486685,  0.72127531],\n",
       "        [-0.54930662, -0.32608562],\n",
       "        [ 1.10165993,  1.59371334],\n",
       "        [ 0.50319344,  1.67471048],\n",
       "        [-0.62136861, -1.23549487],\n",
       "        [ 2.0104348 ,  0.30906374],\n",
       "        [-1.45171934, -0.27091291],\n",
       "        [ 1.88446401, -0.34251968],\n",
       "        [ 0.55642014,  0.64840236],\n",
       "        [ 1.61226119,  0.27634147],\n",
       "        [ 1.07974786,  1.27354347],\n",
       "        [-0.53386485,  0.87187693],\n",
       "        [-1.60906787,  0.6500202 ],\n",
       "        [-1.01502185, -0.83940431],\n",
       "        [-0.22107202, -0.17178343],\n",
       "        [-1.52847346,  0.12794872],\n",
       "        [ 0.40159966, -1.07334782],\n",
       "        [ 0.10215454, -0.03065693],\n",
       "        [ 0.3422412 , -0.83728286],\n",
       "        [-0.08940039, -0.22022276],\n",
       "        [ 0.32613834,  0.10687293],\n",
       "        [ 0.63519446,  1.02725923],\n",
       "        [-0.08312147,  0.54866497],\n",
       "        [-0.70324008, -1.18196103],\n",
       "        [-0.33844791,  0.14018591],\n",
       "        [-0.86757691, -0.20146478],\n",
       "        [-0.43667792, -0.94103783]]),\n",
       " array([[ 1.54303444,  0.53641445],\n",
       "        [ 2.56507656, -1.08015896],\n",
       "        [-0.84206994, -0.63851589],\n",
       "        [-0.5644435 ,  0.21074116],\n",
       "        [ 0.11953547,  2.2843748 ],\n",
       "        [ 0.54823098, -0.20353964],\n",
       "        [-1.0057667 , -2.25387432],\n",
       "        [ 0.53509441,  1.55348832],\n",
       "        [ 0.91352214, -1.03156184],\n",
       "        [ 0.49890986, -0.8889478 ]]),\n",
       " array([-6.15913187e+01,  4.06571616e+01, -5.85789038e+01, -1.00092010e+02,\n",
       "        -1.25245917e-01, -2.51735611e+02,  2.59402577e+01,  1.36796781e+02,\n",
       "         7.03988401e+01,  3.87367144e+01,  2.77742357e+00, -9.42135687e+01,\n",
       "        -4.26861063e+01, -2.16776770e+00, -5.57796761e+01,  1.22040524e+02,\n",
       "         6.59910721e+01, -7.24777776e+01,  1.94578046e+02, -1.41020043e+02,\n",
       "         1.75542875e+02,  5.99451120e+01,  1.56349554e+02,  1.16490687e+02,\n",
       "        -4.13439574e+01, -1.46018751e+02, -1.05634769e+02, -2.28877920e+01,\n",
       "        -1.44003572e+02,  2.65821376e+01,  9.38511232e+00,  2.34911533e+01,\n",
       "        -1.08874904e+01,  3.21791086e+01,  7.15389245e+01, -1.96770179e+00,\n",
       "        -7.96859405e+01, -3.06757998e+01, -8.47046573e+01, -5.17227466e+01]),\n",
       " array([ 152.579763  ,  232.29849042,  -87.00912871,  -51.40881716,\n",
       "          36.09658124,   49.94463153, -120.0648182 ,   67.71337073,\n",
       "          75.72853688,   37.83425893]))"
      ]
     },
     "execution_count": 3,
     "metadata": {},
     "output_type": "execute_result"
    }
   ],
   "source": [
    "X1,X2,y1,y2"
   ]
  },
  {
   "cell_type": "markdown",
   "metadata": {},
   "source": [
    "**Training my model**"
   ]
  },
  {
   "cell_type": "code",
   "execution_count": 4,
   "metadata": {},
   "outputs": [],
   "source": [
    "\n",
    "k=3\n",
    "# Instantiating KNeighbours object as regressor\n",
    "myreg=KNeighbours(k,\"regressor\")\n",
    "\n",
    "#training with regression data set\n",
    "myreg.fit(X1,y1)\n"
   ]
  },
  {
   "cell_type": "markdown",
   "metadata": {},
   "source": [
    "**looking at the distances array and kNN distances array**\n",
    "\n",
    "Just calling distance methods to show what they return, not really needed to call them separatedly because they are callled when predict method is called"
   ]
  },
  {
   "cell_type": "code",
   "execution_count": 5,
   "metadata": {},
   "outputs": [
    {
     "name": "stdout",
     "output_type": "stream",
     "text": [
      "distances array : [[0, 2.28750015688305], [1, 0.23767728528584464], [2, 1.1460182479954695], [3, 1.0567801656504316], [4, 1.1655665125837735], [5, 1.6430617726408525], [6, 2.8560339260029317], [7, 0.6859267756858886], [8, 1.915339221500047], [9, 0.5847953433748087], [10, 1.3829484912269019], [11, 1.533819412308689], [12, 0.9728319436385796], [13, 1.9374149765551019], [14, 1.0223409640630428], [15, 0.10665550526400476], [16, 1.103832935185791], [17, 0.5549256016767292], [18, 2.783228548620853], [19, 0.6388032483311681], [20, 0.36633192518272567], [21, 1.687020443754655], [22, 2.034052228357873], [23, 0.3027895536866004], [24, 1.019381789818306], [25, 0.8906614084325801], [26, 1.7922276065381109], [27, 0.728858781762822], [28, 1.4767812438692498], [29, 2.4680996983574874], [30, 1.6336143143149098], [31, 0.602501701314028], [32, 1.2077804117148108], [33, 0.7958059330273406], [34, 0.8544173388156928], [35, 1.7486734481402009], [36, 0.279968546426739], [37, 1.9835534717746477], [38, 1.0374197794704074], [39, 0.9034670511978624], [40, 1.7354036086014852], [41, 0.5981570844954268], [42, 1.6696611645870114], [43, 1.3171442462468237], [44, 1.377912377424201], [45, 1.3753466753591448], [46, 1.4583452542354345], [47, 1.635772215493474], [48, 0.34320262656489037], [49, 0.9045284046069957]]\n",
      "\n",
      "kNN distances sorted array : [[15, 0.10665550526400476], [1, 0.23767728528584464], [36, 0.279968546426739]]\n"
     ]
    }
   ],
   "source": [
    "test=[0,0]\n",
    "# distances between train points and test point array\n",
    "print(f\"distances array : {myreg.calculate_euclidean_distance(test,X)}\")\n",
    "# kNN distances sorted array\n",
    "print(f\"\\nkNN distances sorted array : {myreg.sort_distances()}\")"
   ]
  },
  {
   "cell_type": "markdown",
   "metadata": {},
   "source": [
    "**Training sklearn model, predicting with both models and comparing results**"
   ]
  },
  {
   "cell_type": "code",
   "execution_count": 6,
   "metadata": {},
   "outputs": [
    {
     "name": "stdout",
     "output_type": "stream",
     "text": [
      "MY REGRESSOR ----------- \n",
      "Test dataset :\n",
      "\n",
      "target values : [ 152.579763    232.29849042  -87.00912871  -51.40881716   36.09658124\n",
      "   49.94463153 -120.0648182    67.71337073   75.72853688   37.83425893]\n",
      "predicted values : [155.80609594 168.97256752 -82.03970074 -58.99059193 -11.75797932\n",
      "  22.50149288 -85.93282897  86.52350673  35.32533785  29.60333507]\n",
      "\n",
      "SKLEARN ------- \n",
      "Test dataset : \n",
      "\n",
      "target values : [ 152.579763    232.29849042  -87.00912871  -51.40881716   36.09658124\n",
      "   49.94463153 -120.0648182    67.71337073   75.72853688   37.83425893]\n",
      "predicted value is: [167.8357878  181.54604887 -82.80785786 -47.89197854  56.60034137\n",
      "  36.02133262 -90.74284545  68.41445579  51.40665247  33.35404218]\n",
      "\n",
      "\n",
      "MY REGRESSOR prediction for [[1.23, -0.000232]] : [156.22973675]\n",
      "SKLEARN REGRESSOR prediction for [[1.23, -0.000232]] : [156.22973675]\n"
     ]
    }
   ],
   "source": [
    "\n",
    "#predicting value for test point\n",
    "print(f\"MY REGRESSOR ----------- \\nTest dataset :\\n\")\n",
    "# print(X2)\n",
    "print(f\"target values : {y2}\")\n",
    "print(f\"predicted values : {myreg.predict(X2)}\")\n",
    "\n",
    "#importing sklearn regressor\n",
    "from sklearn.neighbors import KNeighborsRegressor\n",
    "# instantiating regressor\n",
    "reg = KNeighborsRegressor(n_neighbors=k)\n",
    "\n",
    "# training model with regression data set\n",
    "reg.fit(X,y)\n",
    "#printing sklear prediction\n",
    "print(\"\\nSKLEARN ------- \\nTest dataset : \\n\")\n",
    "# print(X2)\n",
    "print(f\"target values : {y2}\")\n",
    "result=reg.predict(X2)\n",
    "print(f\"predicted value is: {result}\")\n",
    "\n",
    "#testing both models using a single point\n",
    "test=[[1.23,-.000232]]\n",
    "print(f\"\\n\\nMY REGRESSOR prediction for {test} : {myreg.predict(test)}\")\n",
    "print(f\"SKLEARN REGRESSOR prediction for {test} : {myreg.predict(test)}\")"
   ]
  },
  {
   "cell_type": "markdown",
   "metadata": {},
   "source": [
    "## Classification models comparisson\n",
    "**Creating classification training data sets and test point**"
   ]
  },
  {
   "cell_type": "code",
   "execution_count": 7,
   "metadata": {},
   "outputs": [],
   "source": [
    "from sklearn.datasets import make_classification\n",
    "\n",
    "#data set for classification method\n",
    "X,y = make_classification(n_samples = 50, n_features = 3,n_informative=3,n_classes=3,n_clusters_per_class=2, n_redundant = 0, random_state =8)\n",
    "#X,y = make_classification(n_samples = 50, n_features = 2, n_redundant = 0, random_state =8)\n",
    "#testing point\n",
    "X1,X2,y1,y2= train_test_split(X,y,test_size=0.2)"
   ]
  },
  {
   "cell_type": "markdown",
   "metadata": {},
   "source": [
    "**Showing Training-Test features and target arrays**"
   ]
  },
  {
   "cell_type": "code",
   "execution_count": 8,
   "metadata": {},
   "outputs": [
    {
     "data": {
      "text/plain": [
       "(array([[-0.1224994 ,  3.64890009, -0.42073859],\n",
       "        [-0.92880925,  0.57310721, -1.07704731],\n",
       "        [ 1.13314418,  1.35520448, -0.20495827],\n",
       "        [-0.29891041,  2.47950676,  1.11545618],\n",
       "        [-1.37892072, -0.67112414,  1.14997261],\n",
       "        [-0.59841123, -1.64074771, -1.93770078],\n",
       "        [-0.62338725,  0.60044107, -0.97519507],\n",
       "        [ 0.89397398,  0.43926437,  0.45317951],\n",
       "        [ 0.98946994, -1.13541166,  0.3158525 ],\n",
       "        [ 0.57951866,  1.26611661, -0.62477474],\n",
       "        [-0.40298131,  2.72152926,  1.19458268],\n",
       "        [-1.25686285, -0.18729888, -1.97940219],\n",
       "        [-1.3612487 , -2.35550844,  0.58355255],\n",
       "        [ 0.17717601,  2.46916311,  1.87284244],\n",
       "        [-1.02510856,  0.78033122, -1.14206415],\n",
       "        [-1.55292509, -1.27450565, -0.66978277],\n",
       "        [ 0.34786703,  1.58164867, -0.06558902],\n",
       "        [-0.59802075,  2.52559994,  0.1080309 ],\n",
       "        [ 0.49977479, -1.85814098,  1.57988422],\n",
       "        [-0.5032997 , -0.32659633, -1.64511494],\n",
       "        [-1.15156371, -0.82134702,  1.45641663],\n",
       "        [-1.28845774, -0.63507459,  1.61695758],\n",
       "        [ 0.3470838 , -1.02919713,  1.76613233],\n",
       "        [-0.88312612,  0.32392115, -1.21050222],\n",
       "        [-1.39850752, -0.36155292,  0.58059788],\n",
       "        [-0.23843973,  0.97128765,  2.51481246],\n",
       "        [ 0.72158079, -0.42712633,  1.94089068],\n",
       "        [-1.08815563, -0.78486392,  0.99430978],\n",
       "        [ 0.23236914, -1.80116123,  1.18582414],\n",
       "        [-0.11822791, -1.39274899,  0.10574604],\n",
       "        [ 0.42067809,  1.61121679, -0.27049441],\n",
       "        [-0.42387333,  2.22594195,  1.87625017],\n",
       "        [-0.58507285,  3.13652905,  2.32134725],\n",
       "        [ 1.20328503,  0.66492909, -2.16455486],\n",
       "        [-1.45493664, -1.87243667, -0.14591743],\n",
       "        [-1.08133623,  0.57431867, -1.31580811],\n",
       "        [ 0.58658511,  0.86342298,  2.43681241],\n",
       "        [-0.40666612,  1.18208256, -2.02085747],\n",
       "        [ 0.4286351 , -1.4886046 ,  0.46753844],\n",
       "        [-1.90786922, -3.62449403,  0.28370301]]),\n",
       " array([[-0.32291388, -0.65019001, -1.07527625],\n",
       "        [-0.24768395, -0.21894809, -0.76866662],\n",
       "        [ 0.31939503, -1.68348973, -0.1112974 ],\n",
       "        [-0.99588369, -1.39230026,  0.98954904],\n",
       "        [ 0.01854281,  2.27963742,  0.46974593],\n",
       "        [ 2.38480833, -0.17396935, -2.89663698],\n",
       "        [-1.00061104,  3.3891356 ,  0.39124874],\n",
       "        [-2.53660926, -1.88988104,  1.8171126 ],\n",
       "        [ 0.48211544, -2.41894685,  0.92872541],\n",
       "        [ 1.7145951 , -0.568444  ,  3.02263784]]),\n",
       " array([0, 2, 0, 0, 2, 1, 1, 0, 1, 0, 0, 2, 1, 0, 2, 1, 0, 0, 2, 1, 2, 2,\n",
       "        1, 2, 2, 1, 1, 2, 1, 2, 0, 0, 0, 0, 1, 2, 0, 1, 1, 1]),\n",
       " array([2, 2, 1, 2, 0, 0, 2, 1, 1, 0]))"
      ]
     },
     "execution_count": 8,
     "metadata": {},
     "output_type": "execute_result"
    }
   ],
   "source": [
    "X1, X2, y1, y2      # just to know our datasets"
   ]
  },
  {
   "cell_type": "code",
   "execution_count": 9,
   "metadata": {},
   "outputs": [],
   "source": [
    "# calculates accuracy comparing targets vs predicted targets\n",
    "def calc_accuracy(yp,yt):\n",
    "    accuracy=0\n",
    "    for i, p in enumerate(yp):\n",
    "        if yp[i]==yt[i]:\n",
    "            accuracy+=1\n",
    "    accuracy=accuracy/len(yt)\n",
    "    print(f\"Accuracy : {accuracy}\")"
   ]
  },
  {
   "cell_type": "markdown",
   "metadata": {},
   "source": [
    "**Training models and printing their results to compare**"
   ]
  },
  {
   "cell_type": "code",
   "execution_count": 10,
   "metadata": {},
   "outputs": [
    {
     "name": "stdout",
     "output_type": "stream",
     "text": [
      "MY-CLASSIFIER ------------\n",
      " test dataset:\n",
      "\n",
      "target values :  [2 2 1 2 0 0 2 1 1 0]\n",
      "predicted values [1 1 1 1 0 0 0 1 1 1]\n",
      "Accuracy : 0.5\n",
      "\n",
      "\n",
      "SKLEARN classifier -------\n",
      " test dataset\n",
      "\n",
      "target values :  [2 2 1 2 0 0 2 1 1 0]\n",
      "predicted values [1 1 1 2 0 1 0 2 1 1]\n",
      "Accuracy : 0.4\n"
     ]
    }
   ],
   "source": [
    "k=3\n",
    "# Instantiating KNeighbours object as classifier\n",
    "myclf=KNeighbours(k,\"classifier\")\n",
    "#training with classification data set\n",
    "myclf.fit(X1,y1)\n",
    "#predicting class for test dataset\n",
    "print(f\"MY-CLASSIFIER ------------\\n test dataset:\")\n",
    "# print(X2)  # test datatset elements\n",
    "print(f\"\\ntarget values :  {y2}\")\n",
    "myPredict=myclf.predict(X2)\n",
    "print(f\"predicted values {myPredict}\")\n",
    "# let's calculate model's accuracy\n",
    "calc_accuracy(myPredict,y2)\n",
    "#---------------------------------------------------------------------------------------#\n",
    "#importing class\n",
    "from sklearn.neighbors import KNeighborsClassifier\n",
    "# instantiating classifier\n",
    "clf = KNeighborsClassifier(n_neighbors=k) #<-- el parámetro es k vecinos cercanos\n",
    "\n",
    "# training model with classification data set\n",
    "clf.fit(X1, y1)\n",
    "# printing sklearn prediction\n",
    "print(f\"\\n\\nSKLEARN classifier -------\\n test dataset\")\n",
    "# print(X2)    # test datatset elements\n",
    "print(f\"\\ntarget values :  {y2}\")\n",
    "sklPredict=clf.predict(X2)\n",
    "print(f\"predicted values {sklPredict}\")\n",
    "calc_accuracy(sklPredict,y2)"
   ]
  }
 ],
 "metadata": {
  "kernelspec": {
   "display_name": ".venv",
   "language": "python",
   "name": "python3"
  },
  "language_info": {
   "codemirror_mode": {
    "name": "ipython",
    "version": 3
   },
   "file_extension": ".py",
   "mimetype": "text/x-python",
   "name": "python",
   "nbconvert_exporter": "python",
   "pygments_lexer": "ipython3",
   "version": "3.12.2"
  }
 },
 "nbformat": 4,
 "nbformat_minor": 2
}
