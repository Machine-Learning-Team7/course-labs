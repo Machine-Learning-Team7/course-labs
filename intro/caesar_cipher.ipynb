{
 "cells": [
  {
   "cell_type": "markdown",
   "metadata": {},
   "source": [
    "# Exercise: Caesar cipher"
   ]
  },
  {
   "cell_type": "markdown",
   "metadata": {},
   "source": [
    "The plan is to create a double [Caesar cipher](https://en.wikipedia.org/wiki/Caesar_cipher). First create a function that creates a single Caesar cipher. \n",
    "\n",
    "Some things that may come in useful:\n",
    " - the `%` operator\n",
    " - `.find`\n",
    " - `enumerate`\n",
    " - the alphabet in the `string` package\n",
    " - spaces remain as spaces\n",
    "\n",
    "After completing the single Caesar cipher, move on to building a function that will create a double Caesar cipher (using the single Caesar cipher function): every other letter is encoded with one cipher and the remaining letters are encoded with another. "
   ]
  },
  {
   "cell_type": "code",
   "execution_count": null,
   "metadata": {},
   "outputs": [],
   "source": []
  }
 ],
 "metadata": {
  "kernelspec": {
   "display_name": ".venv",
   "language": "python",
   "name": "python3"
  },
  "language_info": {
   "codemirror_mode": {
    "name": "ipython",
    "version": 3
   },
   "file_extension": ".py",
   "mimetype": "text/x-python",
   "name": "python",
   "nbconvert_exporter": "python",
   "pygments_lexer": "ipython3",
   "version": "3.12.1"
  }
 },
 "nbformat": 4,
 "nbformat_minor": 2
}
