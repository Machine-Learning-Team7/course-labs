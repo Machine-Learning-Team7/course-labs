{
 "cells": [
  {
   "cell_type": "markdown",
   "id": "4fbe4e5d-4969-40f3-8396-a2828326783d",
   "metadata": {},
   "source": [
    "# Variables, Data Types, Operators, and Conditional Logic"
   ]
  },
  {
   "cell_type": "markdown",
   "id": "cba6b240-aa7f-4d3a-bb73-c65281e66d29",
   "metadata": {},
   "source": [
    "### Variables\n",
    "\n",
    "Why do we need variables?\n",
    " - make values accessible\n",
    " - provide context\n",
    " - easier to change code\n",
    " \n",
    "Naming conventions\n",
    " - should use `snake_case` (same as functions, but classes use `CapitalizedWords`; see [PEP8](https://pep8.org/); PEP = Python enhancement protocol) \n",
    " - can have digits \n",
    " - cannot start with a digit\n",
    " - descriptive names are better than short names\n",
    " - avoid using Python's reserved keywords, like `print`, `len`, etc. \n",
    " \n",
    "> Consistency is what is most important!\n",
    " "
   ]
  },
  {
   "cell_type": "code",
   "execution_count": null,
   "id": "690ff011",
   "metadata": {},
   "outputs": [],
   "source": []
  },
  {
   "cell_type": "markdown",
   "id": "fa773840-0cfa-4313-9282-6f5737c02936",
   "metadata": {},
   "source": [
    "\n",
    "<center><img src=\"variable_pointer.png\" alt=\"Drawing\" style=\"width: 600px;\"/><br><br>\n",
    "(source: realpython.com)</center>"
   ]
  },
  {
   "cell_type": "markdown",
   "id": "b2cec478",
   "metadata": {},
   "source": [
    "## Data types\n",
    "\n",
    "A [full list](https://docs.python.org/3/library/stdtypes.html#) of data types is available in the documentation. For the moment, we will focus on a few of the most basic, most often used data types:\n",
    "\n",
    " - numeric\n",
    " - string\n",
    " - boolean\n",
    " - lists\n",
    " - tuples\n",
    " - dictionaries\n",
    " - sets"
   ]
  },
  {
   "cell_type": "markdown",
   "id": "6df87581-4d8d-4270-8dca-72211f5d411b",
   "metadata": {
    "tags": []
   },
   "source": [
    "### Numeric, boolean, and text data Types\n",
    "\n",
    " \n",
    " - integers\n",
    " - floats\n",
    " - strings\n",
    " - boolean\n",
    " "
   ]
  },
  {
   "cell_type": "code",
   "execution_count": null,
   "id": "63a8f9f8",
   "metadata": {},
   "outputs": [],
   "source": []
  },
  {
   "cell_type": "markdown",
   "id": "d8c5a66b-1983-4050-b906-d6f0736489c2",
   "metadata": {},
   "source": [
    "#### Type Casting"
   ]
  },
  {
   "cell_type": "code",
   "execution_count": null,
   "id": "704a971a",
   "metadata": {},
   "outputs": [],
   "source": []
  },
  {
   "cell_type": "markdown",
   "id": "72f69c1f-3577-4e2c-af84-20502e2b5c0b",
   "metadata": {
    "tags": []
   },
   "source": [
    "#### Operators\n",
    "\n",
    " - `+` \n",
    " - `-` \n",
    " - `*` \n",
    " - `**`  \n",
    " - `//` \n",
    " - `%`\n",
    "\n",
    " Augmented assignment:\n",
    "  - `+=`\n",
    "  - `-=`\n",
    "  - `*=`\n",
    "  - `/=`"
   ]
  },
  {
   "cell_type": "code",
   "execution_count": null,
   "id": "fe5d3862",
   "metadata": {},
   "outputs": [],
   "source": []
  },
  {
   "cell_type": "markdown",
   "id": "aaed6d62-1b50-4b0c-8596-b79cd898e65b",
   "metadata": {},
   "source": [
    "##### Linear congruential generator\n",
    "$$\n",
    "X_{n+1} = (aX_n + c) \\, \\rm{mod} \\; m\n",
    "$$"
   ]
  },
  {
   "cell_type": "code",
   "execution_count": 7,
   "id": "4b43a24a-9048-47fb-8ce3-93e8775a223b",
   "metadata": {
    "tags": []
   },
   "outputs": [],
   "source": [
    "a = 2\n",
    "c = 5\n",
    "m = 3"
   ]
  },
  {
   "cell_type": "code",
   "execution_count": 8,
   "id": "79d71dd7-d831-44ca-9217-fc9a912b007e",
   "metadata": {
    "tags": []
   },
   "outputs": [
    {
     "name": "stdout",
     "output_type": "stream",
     "text": [
      "0\n",
      "2\n",
      "0\n",
      "2\n",
      "0\n",
      "2\n",
      "0\n",
      "2\n",
      "0\n",
      "2\n",
      "0\n",
      "2\n",
      "0\n",
      "2\n",
      "0\n",
      "2\n",
      "0\n",
      "2\n",
      "0\n",
      "2\n"
     ]
    }
   ],
   "source": [
    "x = 5\n",
    "\n",
    "for i in range(20):\n",
    "    x = (a*x + c) % m\n",
    "    print(x)"
   ]
  },
  {
   "cell_type": "markdown",
   "id": "201430a5-b4f5-45a0-b50f-411dc59dc416",
   "metadata": {},
   "source": [
    "##### Operator precedence\n",
    "\n",
    "A full list of [operator precedence](https://docs.python.org/3/reference/expressions.html#operator-summary) can be found in the documentation. \n",
    "\n",
    "- brackets\n",
    "- subscripting\n",
    "- exponents\n",
    "- multiplication/division/integer division (`//`)/remainder division `%`\n",
    "- addition/subtraction\n"
   ]
  },
  {
   "cell_type": "code",
   "execution_count": null,
   "id": "14621d57",
   "metadata": {},
   "outputs": [],
   "source": []
  },
  {
   "cell_type": "markdown",
   "id": "6051db8c-80d4-469c-86f5-8029934ea0b5",
   "metadata": {
    "tags": []
   },
   "source": [
    "### Conditional Logic\n",
    "\n",
    "boolean comparators\n",
    "\n",
    "- equal to `==`\n",
    "- not equal to `!=`\n",
    "- greater than `>`\n",
    "- less than `<`\n",
    "- greater than or equal to `>=`\n",
    "- less than or equal to `<=`"
   ]
  },
  {
   "cell_type": "code",
   "execution_count": null,
   "id": "3d22cce6",
   "metadata": {},
   "outputs": [],
   "source": []
  },
  {
   "cell_type": "markdown",
   "id": "ee094192-3c84-442f-a918-fd3b9c269d32",
   "metadata": {
    "tags": []
   },
   "source": [
    "### Sequence types: `list`, `tuple`, and `range`\n"
   ]
  },
  {
   "cell_type": "markdown",
   "id": "990d4591",
   "metadata": {},
   "source": [
    "#### Lists \n",
    "\n",
    "Lists may be constructed in several ways:\n",
    "\n",
    " - using square brackets:\n",
    "    - empty list: `[]`\n",
    "    - separating items with commas: `[a]`, `[a, b, c]`\n",
    " - list comprehension: \n",
    "    - `[x for x in iterable]`\n",
    " - type constructor: \n",
    "    - empty list: `list()` \n",
    "    - from iterable: `list(iterable)`"
   ]
  },
  {
   "cell_type": "code",
   "execution_count": 17,
   "id": "097eff82",
   "metadata": {},
   "outputs": [
    {
     "name": "stdout",
     "output_type": "stream",
     "text": [
      "2\n",
      "b\n",
      "5\n",
      "3\n",
      "2\n",
      "10\n",
      "11\n",
      "12\n",
      "13\n",
      "14\n",
      "15\n",
      "16\n",
      "17\n",
      "18\n"
     ]
    }
   ],
   "source": [
    "# create some lists\n",
    "myList=[a,\"b\",c,3,2]\n",
    "for i in myList:\n",
    "    print(i)\n",
    "\n",
    "otherList=[x+10 for x in range (9)]\n",
    "for i in otherList:\n",
    "    print(i)"
   ]
  },
  {
   "cell_type": "markdown",
   "id": "7151bf81",
   "metadata": {},
   "source": [
    "##### List methods/operations\n",
    "\n",
    "Lists impement all of the [common sequence methods](https://docs.python.org/3/library/stdtypes.html#typesseq-common) and \n",
    "the [mutable sequence operations/methods](https://docs.python.org/3/library/stdtypes.html#typesseq-mutable).\n",
    "\n",
    "In addition, lists also support the additional method:\n",
    "   - `sort(key=None, reverse=False)`\n",
    "   - more information on sorting can be found in the [docs](https://docs.python.org/3/howto/sorting.html#sortinghowto)"
   ]
  },
  {
   "cell_type": "markdown",
   "id": "177ff121",
   "metadata": {},
   "source": [
    "\n",
    "##### List properties\n",
    "\n",
    "The important properties of lists are as follows:\n",
    " - elements can be accessed by index (suscriptable)\n",
    "  - iterable\n",
    " - mutable\n",
    " - ordered\n",
    " - can contain any arbitrary objects\n",
    " - can be nested to arbitrary depth\n",
    " - dynamic (change size)\n",
    "\n"
   ]
  },
  {
   "cell_type": "code",
   "execution_count": 9,
   "id": "058bf386",
   "metadata": {},
   "outputs": [],
   "source": [
    "# single element selection\n"
   ]
  },
  {
   "cell_type": "code",
   "execution_count": null,
   "id": "83502669-9e11-4895-9d5d-c134b479a953",
   "metadata": {},
   "outputs": [],
   "source": [
    "# slice "
   ]
  },
  {
   "cell_type": "code",
   "execution_count": null,
   "id": "b9e1f193",
   "metadata": {},
   "outputs": [],
   "source": [
    "# change an element"
   ]
  },
  {
   "cell_type": "code",
   "execution_count": null,
   "id": "a4bb9a99",
   "metadata": {},
   "outputs": [],
   "source": [
    "# iterate over a list"
   ]
  },
  {
   "cell_type": "code",
   "execution_count": null,
   "id": "4bb47313",
   "metadata": {},
   "outputs": [],
   "source": [
    "# ordered \n"
   ]
  },
  {
   "cell_type": "code",
   "execution_count": null,
   "id": "056ca7ef",
   "metadata": {},
   "outputs": [],
   "source": [
    "# arbitrary objects"
   ]
  },
  {
   "cell_type": "code",
   "execution_count": null,
   "id": "0f3be00f",
   "metadata": {},
   "outputs": [],
   "source": [
    "# nesting"
   ]
  },
  {
   "cell_type": "code",
   "execution_count": null,
   "id": "80a4f29d",
   "metadata": {},
   "outputs": [],
   "source": [
    "# add elements to a list: append, extend"
   ]
  },
  {
   "cell_type": "markdown",
   "id": "2f9ac83f",
   "metadata": {},
   "source": [
    "#### Tuples \n",
    "\n",
    "Tuples may be constructed in several ways:\n",
    " - empty tuple: \n",
    "    - `()`\n",
    "    - `tuple()`\n",
    " - a singleton tuple: \n",
    "    - `a,` \n",
    "    - `(a,)`\n",
    " - a multi-element tuple:\n",
    "    - `a, b, c` \n",
    "    - `(a, b, c)`\n",
    "    - `tuple(iterable)`"
   ]
  },
  {
   "cell_type": "code",
   "execution_count": null,
   "id": "6a9a6be3",
   "metadata": {},
   "outputs": [],
   "source": [
    "# create some tuples"
   ]
  },
  {
   "cell_type": "markdown",
   "id": "b62580a2",
   "metadata": {},
   "source": [
    "##### Tuple methods\n",
    "\n",
    "Tuples impement all of the [common sequence methods](https://docs.python.org/3/library/stdtypes.html#typesseq-common).\n"
   ]
  },
  {
   "cell_type": "markdown",
   "id": "89a386f7",
   "metadata": {},
   "source": [
    "##### Tuple properties\n",
    "\n",
    "The important properties of tuples are as follows:\n",
    " - elements can be accessed by index (suscriptable)\n",
    " - iterable\n",
    " - immutable\n",
    " - ordered\n",
    " - can contain any arbitrary objects\n",
    " - can be nested to arbitrary depth\n"
   ]
  },
  {
   "cell_type": "code",
   "execution_count": null,
   "id": "5f2aa423",
   "metadata": {},
   "outputs": [],
   "source": [
    "# single element selection"
   ]
  },
  {
   "cell_type": "code",
   "execution_count": null,
   "id": "51222448",
   "metadata": {},
   "outputs": [],
   "source": [
    "# slice "
   ]
  },
  {
   "cell_type": "code",
   "execution_count": null,
   "id": "d87a9949",
   "metadata": {},
   "outputs": [],
   "source": [
    "# change an element"
   ]
  },
  {
   "cell_type": "code",
   "execution_count": null,
   "id": "323fb3b2",
   "metadata": {},
   "outputs": [],
   "source": [
    "# iterate over a tuple"
   ]
  },
  {
   "cell_type": "code",
   "execution_count": null,
   "id": "635359ff",
   "metadata": {},
   "outputs": [],
   "source": [
    "# ordered \n"
   ]
  },
  {
   "cell_type": "code",
   "execution_count": null,
   "id": "cbe3772b",
   "metadata": {},
   "outputs": [],
   "source": [
    "# arbitrary objects"
   ]
  },
  {
   "cell_type": "code",
   "execution_count": null,
   "id": "e56c565c",
   "metadata": {},
   "outputs": [],
   "source": [
    "# nesting"
   ]
  },
  {
   "cell_type": "markdown",
   "id": "61d2a96c",
   "metadata": {},
   "source": [
    "#### `range` function"
   ]
  },
  {
   "cell_type": "markdown",
   "id": "765b34bf",
   "metadata": {},
   "source": [
    "The range object is:\n",
    " - suscriptable\n",
    " - iterable\n",
    " - immutable\n",
    " - ordered\n",
    "\n",
    "However, you will generally see it used for loops, so the iterable property is the only one typcially seen. "
   ]
  },
  {
   "cell_type": "code",
   "execution_count": null,
   "id": "06c62d8f",
   "metadata": {},
   "outputs": [],
   "source": []
  },
  {
   "cell_type": "markdown",
   "id": "d090831e",
   "metadata": {},
   "source": [
    "### Set types: `set`\n",
    "\n",
    " - using braces:\n",
    "    - separating items with commas: `{'a', 'b', 'c'}`\n",
    " - set comprehension: \n",
    "    - `{ch for ch in 'abc'}`\n",
    " - type constructor: \n",
    "    - empty list: `set()` \n",
    "    - from iterable: `set(iterable)`\n",
    "\n"
   ]
  },
  {
   "cell_type": "code",
   "execution_count": null,
   "id": "d0df0ba6",
   "metadata": {},
   "outputs": [],
   "source": [
    "# create some sets "
   ]
  },
  {
   "cell_type": "code",
   "execution_count": null,
   "id": "c384ebc3",
   "metadata": {},
   "outputs": [],
   "source": [
    "# beware {}"
   ]
  },
  {
   "cell_type": "markdown",
   "id": "3817e2e4",
   "metadata": {},
   "source": [
    "#### Set methods/operations\n",
    "\n",
    "Sets implement various [methods/operations](https://docs.python.org/3/library/stdtypes.html#set) as noted in the docs."
   ]
  },
  {
   "cell_type": "markdown",
   "id": "1397c4c8",
   "metadata": {},
   "source": [
    "##### Set properties\n",
    "\n",
    "The important properties of sets are as follows:\n",
    " - elements are unique\n",
    " - not subscriptable\n",
    " - iterable\n",
    " - mutable\n",
    " - unordered\n",
    " - elements must be hashable \n"
   ]
  },
  {
   "cell_type": "code",
   "execution_count": null,
   "id": "c6262fb0",
   "metadata": {},
   "outputs": [],
   "source": [
    "# unique elements"
   ]
  },
  {
   "cell_type": "code",
   "execution_count": null,
   "id": "36864d92",
   "metadata": {},
   "outputs": [],
   "source": [
    "# not subscriptable"
   ]
  },
  {
   "cell_type": "code",
   "execution_count": null,
   "id": "778964a7",
   "metadata": {},
   "outputs": [],
   "source": [
    "# iterable"
   ]
  },
  {
   "cell_type": "code",
   "execution_count": null,
   "id": "3881a412",
   "metadata": {},
   "outputs": [],
   "source": [
    "# mutable: add, remove, update\n"
   ]
  },
  {
   "cell_type": "code",
   "execution_count": null,
   "id": "c375dcbb",
   "metadata": {},
   "outputs": [],
   "source": [
    "# elements must be hashable"
   ]
  },
  {
   "cell_type": "code",
   "execution_count": null,
   "id": "f057cc47",
   "metadata": {},
   "outputs": [],
   "source": [
    "# union\n"
   ]
  },
  {
   "cell_type": "code",
   "execution_count": null,
   "id": "8c65d8cc",
   "metadata": {},
   "outputs": [],
   "source": [
    "# intersection"
   ]
  },
  {
   "cell_type": "markdown",
   "id": "18e7a8d1",
   "metadata": {},
   "source": [
    "### Mapping types: `dict`"
   ]
  },
  {
   "cell_type": "markdown",
   "id": "efed57f6",
   "metadata": {},
   "source": [
    "#### Dictionary \n",
    "\n",
    "Lists may be constructed in several ways:\n",
    "\n",
    " - using `key:value` pairs with braces:\n",
    "    - empty list: `{}`\n",
    "    - separating items with commas: `{'a':1, 'b':2, 'c':3}`\n",
    " - dictionary comprehension: \n",
    "    - `{x:x**2 for x in range(10)}`\n",
    " - type constructor: \n",
    "    - empty list: `dict()` \n",
    "    - from iterable: `dict([('a', 1), ('b', 2), ('c', 3)])`, `dict(a=1, b=2, c=3)`"
   ]
  },
  {
   "cell_type": "code",
   "execution_count": null,
   "id": "33496d72",
   "metadata": {},
   "outputs": [],
   "source": [
    "# create some dictionaries"
   ]
  },
  {
   "cell_type": "markdown",
   "id": "8c357436",
   "metadata": {},
   "source": [
    "#### Dictionary operations\n",
    "\n",
    "Dictionaries various [methods/operations](https://docs.python.org/3/library/stdtypes.html#dict) as noted in the docs."
   ]
  },
  {
   "cell_type": "code",
   "execution_count": null,
   "id": "c58280a4",
   "metadata": {},
   "outputs": [],
   "source": []
  },
  {
   "cell_type": "markdown",
   "id": "928c9322",
   "metadata": {},
   "source": [
    "##### Dictionary  properties\n",
    "\n",
    "The important properties of dictionaries are as follows:\n",
    " - access values by keys\n",
    " - iterable\n",
    " - mutable\n",
    " - unordered\n",
    " - keys must be hashable\n",
    " - can be nested\n",
    " - dynamic\n"
   ]
  },
  {
   "cell_type": "code",
   "execution_count": null,
   "id": "3c0bd246",
   "metadata": {},
   "outputs": [],
   "source": [
    "# access via key"
   ]
  },
  {
   "cell_type": "code",
   "execution_count": null,
   "id": "aa2eb0f8",
   "metadata": {},
   "outputs": [],
   "source": [
    "# mutable: d[k]=v, del, update"
   ]
  },
  {
   "cell_type": "code",
   "execution_count": null,
   "id": "100f9589",
   "metadata": {},
   "outputs": [],
   "source": [
    "# nesting"
   ]
  },
  {
   "cell_type": "code",
   "execution_count": null,
   "id": "a3dabc12",
   "metadata": {},
   "outputs": [],
   "source": [
    "# iterable"
   ]
  }
 ],
 "metadata": {
  "kernelspec": {
   "display_name": "Python 3 (ipykernel)",
   "language": "python",
   "name": "python3"
  },
  "language_info": {
   "codemirror_mode": {
    "name": "ipython",
    "version": 3
   },
   "file_extension": ".py",
   "mimetype": "text/x-python",
   "name": "python",
   "nbconvert_exporter": "python",
   "pygments_lexer": "ipython3",
   "version": "3.12.1"
  }
 },
 "nbformat": 4,
 "nbformat_minor": 5
}
