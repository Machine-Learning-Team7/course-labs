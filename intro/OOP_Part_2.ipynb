{
 "cells": [
  {
   "cell_type": "markdown",
   "id": "3c92f759-863d-4d04-990f-9083a977e6c8",
   "metadata": {},
   "source": [
    "# Object-Oriented Programming (OOP) *cont'd*"
   ]
  },
  {
   "cell_type": "markdown",
   "id": "8e83cade-8a06-40ba-a20e-dcd069d68a5e",
   "metadata": {},
   "source": [
    "## Inheritance\n"
   ]
  },
  {
   "cell_type": "code",
   "execution_count": null,
   "id": "fb783d5c-c48b-4d1b-aff3-5ab0acc80d80",
   "metadata": {},
   "outputs": [],
   "source": [
    "class Person:\n",
    "    def __init__(self, fname, lname):\n",
    "        self.fname = fname\n",
    "        self.lname = lname\n",
    "        \n",
    "    def get_details(self):\n",
    "        return f\"This is the record for {self.fname} {self.lname}.\"\n",
    "    \n",
    "    def __repr__(self):\n",
    "        return f\"Person(fname='{self.fname}', lname='{self.lname}')\"\n",
    "        "
   ]
  },
  {
   "cell_type": "code",
   "execution_count": null,
   "id": "82083b84-427e-4f51-836f-c03e7b40c11b",
   "metadata": {
    "tags": []
   },
   "outputs": [],
   "source": [
    "p = Person(\"John\", \"Smith\")\n",
    "p"
   ]
  },
  {
   "cell_type": "markdown",
   "id": "01a02c91-197c-40e5-be1e-c1c32931ab21",
   "metadata": {},
   "source": [
    "## Extending/overriding methods\n",
    "\n",
    " - extend the `__init__()` and `get_details()` so `Student` accepts and prints, repsectively, a student's ID.\n",
    " - override the `__repr__()` method so it is suitable for `Student`. "
   ]
  },
  {
   "cell_type": "code",
   "execution_count": null,
   "id": "ca3d73e0-467d-41e6-9928-3824ee693a31",
   "metadata": {
    "tags": []
   },
   "outputs": [],
   "source": [
    "class Student(Person):\n",
    "    def __init__(self, fname, lname, ID):\n",
    "        super().__init__(fname, lname)\n",
    "        self.ID = ID\n",
    "        \n",
    "    def get_details(self):\n",
    "        print(super().get_details())\n",
    "        print(f\"Student ID: {self.ID}\")\n",
    "        \n",
    "    def __repr__(self):\n",
    "        return f\"Student(fname={self.fname}, lname={self.lname}, ID={self.ID})\""
   ]
  },
  {
   "cell_type": "code",
   "execution_count": null,
   "id": "17ec5bff-f24b-47eb-8188-6e47ad3fbe1f",
   "metadata": {
    "tags": []
   },
   "outputs": [],
   "source": [
    "s = Student(\"Mary\", \"Smith\", 987987)\n",
    "s.get_details()"
   ]
  },
  {
   "cell_type": "code",
   "execution_count": null,
   "id": "a16b4a9a-bfa0-4aaa-acdf-686e42a1c205",
   "metadata": {
    "tags": []
   },
   "outputs": [],
   "source": [
    "s"
   ]
  },
  {
   "cell_type": "markdown",
   "id": "9b8c6b5f-8a59-40db-b909-b8ec3be1650f",
   "metadata": {},
   "source": [
    "## Hierarchies"
   ]
  },
  {
   "cell_type": "code",
   "execution_count": null,
   "id": "ce20470b-3f9b-4161-8fd4-19d13d8afe62",
   "metadata": {},
   "outputs": [],
   "source": [
    "class Animal(object):\n",
    "    pass\n",
    "\n",
    "class Mammal(Animal):\n",
    "    pass\n",
    "\n",
    "class Bird(Animal):\n",
    "    pass\n",
    "\n",
    "class Whale(Mammal):\n",
    "    pass\n",
    "\n",
    "class Crow(Bird):\n",
    "    pass"
   ]
  },
  {
   "cell_type": "code",
   "execution_count": null,
   "id": "7f9d2406-903b-4964-b510-820c76e2bc50",
   "metadata": {
    "tags": []
   },
   "outputs": [],
   "source": [
    "a = Animal()\n",
    "m = Mammal()\n",
    "b = Bird()\n",
    "w = Whale()\n",
    "c = Crow()"
   ]
  },
  {
   "cell_type": "code",
   "execution_count": null,
   "id": "37e90eb3-610d-4b66-ab25-4eb7b01b07c8",
   "metadata": {
    "tags": []
   },
   "outputs": [],
   "source": [
    "isinstance(m, Mammal)"
   ]
  },
  {
   "cell_type": "code",
   "execution_count": null,
   "id": "32bee4ca-f8ea-4c55-9a5c-de8387e4d803",
   "metadata": {
    "tags": []
   },
   "outputs": [],
   "source": [
    "isinstance(m, Animal)"
   ]
  },
  {
   "cell_type": "markdown",
   "id": "e1d7e3f8-2a84-4449-be20-677f1e73af30",
   "metadata": {
    "tags": []
   },
   "source": [
    "## Filling out the `Student` class\n",
    "\n",
    "- create an `add_marks()` method that takes in a variable number of keyword arguments and stores them in a dictionary called `marks`. Make sure this dictionary is attached to an instance. This method should print out the key and value as they are added to the dictionary\n",
    "- create a `@classmethod` that allows a user to set the `weights` for each value in the `marks` dictionary. The class attribute `weights` should be initially set to an empty list\n",
    "- create a `final_grade()` that uses the `marks` and `weights` to calculate a student's final grade. If the `marks` dictionary is empty, a message should be printed to say so, and the method should return `None`\n",
    "- add type annotations to all methods. The `typing` package may be needed to specify lists and dictionaries\n",
    "- make your class instances iterable by adding an `__iter__()` method. To do this, use `<instance>.__dict__` in a `for` loop to get the values for the attributes. For each attribute in the loop, return it using the `yield` keyword "
   ]
  },
  {
   "cell_type": "code",
   "execution_count": null,
   "id": "3dffd3ce-e975-438e-9711-cfc2c81433fe",
   "metadata": {},
   "outputs": [],
   "source": [
    "from typing import List\n",
    "\n",
    "class Student(Person):\n",
    "    weights = []\n",
    "    \n",
    "    def __init__(self, fname, lname, ID, marks=None):\n",
    "        super().__init__(fname, lname)\n",
    "        self.ID = ID\n",
    "        self.marks = None\n",
    "    \n",
    "    @classmethod\n",
    "    def set_weights(cls, new_weights):\n",
    "        cls.weights = new_weights\n",
    "        return cls.weights\n",
    "    \n",
    "    # no decorator -> instance method\n",
    "    def get_details(self):\n",
    "        print(super().get_details())\n",
    "        print(f\"Student ID: {self.ID}\")\n",
    "        \n",
    "    def add_marks(self, **kwargs):\n",
    "        self.marks = {}\n",
    "        for k, v in kwargs.items():\n",
    "            self.marks[k] = v\n",
    "    \n",
    "    def final_grade(self):\n",
    "        if not self.marks:\n",
    "            print(\"This student has no marks.\")\n",
    "            f_grade = None\n",
    "            return f_grade\n",
    "        \n",
    "        f_grade = 0\n",
    "        for m, w in zip(self.marks.values(), self.weights):\n",
    "            f_grade += m*w\n",
    "        return f_grade\n",
    "    \n",
    "    def __iter__(self):\n",
    "        for item in self.__dict__.values():\n",
    "            yield item\n",
    "            \n",
    "    def __len__(self):\n",
    "        return len(self.__dict__.values())\n",
    "    \n",
    "    def __repr__(self):\n",
    "        return f\"Student(fname={self.fname}, lname={self.lname}, ID={self.ID})\""
   ]
  },
  {
   "cell_type": "code",
   "execution_count": null,
   "id": "7c31ec6e-9a8e-4f68-ab44-c32b6fab707b",
   "metadata": {
    "tags": []
   },
   "outputs": [],
   "source": [
    "s = Student(\"Mary\", \"Smith\", 987987)\n",
    "s.set_weights([0.25, 0.75])\n",
    "s.add_marks(test_1=50, test_2=100)\n",
    "s.final_grade()"
   ]
  },
  {
   "cell_type": "code",
   "execution_count": null,
   "id": "6b095f3a-f49b-49ee-a55d-f65182473d94",
   "metadata": {
    "tags": []
   },
   "outputs": [],
   "source": [
    "for item in s:\n",
    "    print(item)"
   ]
  },
  {
   "cell_type": "code",
   "execution_count": null,
   "id": "111634aa-f68d-4e30-95ac-503f33787578",
   "metadata": {
    "tags": []
   },
   "outputs": [],
   "source": [
    "len(s)"
   ]
  },
  {
   "cell_type": "code",
   "execution_count": null,
   "id": "3e73c704-7e9f-450b-beba-f9db137a76e0",
   "metadata": {
    "tags": []
   },
   "outputs": [],
   "source": [
    "s2 = Student(\"John\", \"Smith\", 987987)\n",
    "s2.final_grade()"
   ]
  },
  {
   "cell_type": "code",
   "execution_count": null,
   "id": "68dd7edd-a1f1-4ef9-bcdb-39a496e31ec1",
   "metadata": {
    "tags": []
   },
   "outputs": [],
   "source": [
    "s = Student(\"Mary\", \"Smith\", 987987)\n",
    "print(s.weights)\n",
    "s.set_weights([0.25, 0.25, 0.5])\n",
    "s.weights\n"
   ]
  },
  {
   "cell_type": "code",
   "execution_count": null,
   "id": "aa150305-6e8a-4b08-bae8-b90cde8e1984",
   "metadata": {
    "tags": []
   },
   "outputs": [],
   "source": [
    "s2 = Student(\"John\", \"Smith\", 687987)\n",
    "s2.weights"
   ]
  },
  {
   "cell_type": "markdown",
   "id": "6e092859-4928-4d48-8bd3-c83e26b92848",
   "metadata": {},
   "source": [
    "## Looking forward\n",
    "\n",
    "Take a moment to peruse Scikit-Learn's implementation of a [decision tree classifier](https://github.com/scikit-learn/scikit-learn/blob/9e38cd00d/sklearn/tree/_classes.py#L698). Note how it is implemented as a class that uses inheritance, extends the parent `__init__()` method, and has instance methods. "
   ]
  }
 ],
 "metadata": {
  "kernelspec": {
   "display_name": "Python 3 (ipykernel)",
   "language": "python",
   "name": "python3"
  },
  "language_info": {
   "codemirror_mode": {
    "name": "ipython",
    "version": 3
   },
   "file_extension": ".py",
   "mimetype": "text/x-python",
   "name": "python",
   "nbconvert_exporter": "python",
   "pygments_lexer": "ipython3",
   "version": "3.12.1"
  }
 },
 "nbformat": 4,
 "nbformat_minor": 5
}
